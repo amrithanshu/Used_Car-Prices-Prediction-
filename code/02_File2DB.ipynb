{
 "cells": [
  {
   "cell_type": "markdown",
   "id": "fd1381d6",
   "metadata": {},
   "source": [
    "## Import necessary Libraries"
   ]
  },
  {
   "cell_type": "code",
   "execution_count": 1,
   "id": "a4fea393",
   "metadata": {},
   "outputs": [],
   "source": [
    "import numpy as np\n",
    "import pandas as pd\n",
    "\n",
    "import mysql.connector as mysql\n",
    "from mysql.connector import Error"
   ]
  },
  {
   "cell_type": "markdown",
   "id": "99480848",
   "metadata": {},
   "source": [
    "## Loading CSV Files by using Pandas"
   ]
  },
  {
   "cell_type": "code",
   "execution_count": 2,
   "id": "1743f799",
   "metadata": {},
   "outputs": [],
   "source": [
    "data = pd.read_csv('../data/data.csv')"
   ]
  },
  {
   "cell_type": "markdown",
   "id": "d7fb6c0c",
   "metadata": {},
   "source": [
    "## Checking data is loaded or not using head"
   ]
  },
  {
   "cell_type": "code",
   "execution_count": 3,
   "id": "a05126f5",
   "metadata": {},
   "outputs": [
    {
     "data": {
      "text/html": [
       "<div>\n",
       "<style scoped>\n",
       "    .dataframe tbody tr th:only-of-type {\n",
       "        vertical-align: middle;\n",
       "    }\n",
       "\n",
       "    .dataframe tbody tr th {\n",
       "        vertical-align: top;\n",
       "    }\n",
       "\n",
       "    .dataframe thead th {\n",
       "        text-align: right;\n",
       "    }\n",
       "</style>\n",
       "<table border=\"1\" class=\"dataframe\">\n",
       "  <thead>\n",
       "    <tr style=\"text-align: right;\">\n",
       "      <th></th>\n",
       "      <th>S.No.</th>\n",
       "      <th>Name</th>\n",
       "      <th>Location</th>\n",
       "      <th>Year</th>\n",
       "      <th>Kilometers_Driven</th>\n",
       "      <th>Fuel_Type</th>\n",
       "      <th>Transmission</th>\n",
       "      <th>Owner_Type</th>\n",
       "      <th>Mileage</th>\n",
       "      <th>Engine</th>\n",
       "      <th>Power</th>\n",
       "      <th>Seats</th>\n",
       "      <th>New_Price</th>\n",
       "      <th>Price</th>\n",
       "    </tr>\n",
       "  </thead>\n",
       "  <tbody>\n",
       "    <tr>\n",
       "      <th>0</th>\n",
       "      <td>0</td>\n",
       "      <td>Maruti Wagon R LXI CNG</td>\n",
       "      <td>Mumbai</td>\n",
       "      <td>2010</td>\n",
       "      <td>72000</td>\n",
       "      <td>CNG</td>\n",
       "      <td>Manual</td>\n",
       "      <td>First</td>\n",
       "      <td>26.6 km/kg</td>\n",
       "      <td>998 CC</td>\n",
       "      <td>58.16 bhp</td>\n",
       "      <td>5.0</td>\n",
       "      <td>NaN</td>\n",
       "      <td>1.75</td>\n",
       "    </tr>\n",
       "    <tr>\n",
       "      <th>1</th>\n",
       "      <td>1</td>\n",
       "      <td>Hyundai Creta 1.6 CRDi SX Option</td>\n",
       "      <td>Pune</td>\n",
       "      <td>2015</td>\n",
       "      <td>41000</td>\n",
       "      <td>Diesel</td>\n",
       "      <td>Manual</td>\n",
       "      <td>First</td>\n",
       "      <td>19.67 kmpl</td>\n",
       "      <td>1582 CC</td>\n",
       "      <td>126.2 bhp</td>\n",
       "      <td>5.0</td>\n",
       "      <td>NaN</td>\n",
       "      <td>12.50</td>\n",
       "    </tr>\n",
       "  </tbody>\n",
       "</table>\n",
       "</div>"
      ],
      "text/plain": [
       "   S.No.                              Name Location  Year  Kilometers_Driven  \\\n",
       "0      0            Maruti Wagon R LXI CNG   Mumbai  2010              72000   \n",
       "1      1  Hyundai Creta 1.6 CRDi SX Option     Pune  2015              41000   \n",
       "\n",
       "  Fuel_Type Transmission Owner_Type     Mileage   Engine      Power  Seats  \\\n",
       "0       CNG       Manual      First  26.6 km/kg   998 CC  58.16 bhp    5.0   \n",
       "1    Diesel       Manual      First  19.67 kmpl  1582 CC  126.2 bhp    5.0   \n",
       "\n",
       "  New_Price  Price  \n",
       "0       NaN   1.75  \n",
       "1       NaN  12.50  "
      ]
     },
     "execution_count": 3,
     "metadata": {},
     "output_type": "execute_result"
    }
   ],
   "source": [
    "data.head(2)"
   ]
  },
  {
   "cell_type": "markdown",
   "id": "66258183",
   "metadata": {},
   "source": [
    "## Shape of the Data"
   ]
  },
  {
   "cell_type": "code",
   "execution_count": 4,
   "id": "73717581",
   "metadata": {},
   "outputs": [
    {
     "data": {
      "text/plain": [
       "(7253, 14)"
      ]
     },
     "execution_count": 4,
     "metadata": {},
     "output_type": "execute_result"
    }
   ],
   "source": [
    "data.shape"
   ]
  },
  {
   "cell_type": "markdown",
   "id": "c4360c25",
   "metadata": {},
   "source": [
    "## Finding Null Values"
   ]
  },
  {
   "cell_type": "code",
   "execution_count": 5,
   "id": "8f66af20",
   "metadata": {},
   "outputs": [
    {
     "data": {
      "text/plain": [
       "7628"
      ]
     },
     "execution_count": 5,
     "metadata": {},
     "output_type": "execute_result"
    }
   ],
   "source": [
    "data.isnull().sum().sum()"
   ]
  },
  {
   "cell_type": "markdown",
   "id": "135b4cdd",
   "metadata": {},
   "source": [
    "## Replace nan with None"
   ]
  },
  {
   "cell_type": "code",
   "execution_count": 6,
   "id": "abc638f5",
   "metadata": {},
   "outputs": [],
   "source": [
    "data = data.replace({np.nan: None})"
   ]
  },
  {
   "cell_type": "code",
   "execution_count": 7,
   "id": "73511b07",
   "metadata": {},
   "outputs": [
    {
     "data": {
      "text/html": [
       "<div>\n",
       "<style scoped>\n",
       "    .dataframe tbody tr th:only-of-type {\n",
       "        vertical-align: middle;\n",
       "    }\n",
       "\n",
       "    .dataframe tbody tr th {\n",
       "        vertical-align: top;\n",
       "    }\n",
       "\n",
       "    .dataframe thead th {\n",
       "        text-align: right;\n",
       "    }\n",
       "</style>\n",
       "<table border=\"1\" class=\"dataframe\">\n",
       "  <thead>\n",
       "    <tr style=\"text-align: right;\">\n",
       "      <th></th>\n",
       "      <th>S.No.</th>\n",
       "      <th>Name</th>\n",
       "      <th>Location</th>\n",
       "      <th>Year</th>\n",
       "      <th>Kilometers_Driven</th>\n",
       "      <th>Fuel_Type</th>\n",
       "      <th>Transmission</th>\n",
       "      <th>Owner_Type</th>\n",
       "      <th>Mileage</th>\n",
       "      <th>Engine</th>\n",
       "      <th>Power</th>\n",
       "      <th>Seats</th>\n",
       "      <th>New_Price</th>\n",
       "      <th>Price</th>\n",
       "    </tr>\n",
       "  </thead>\n",
       "  <tbody>\n",
       "    <tr>\n",
       "      <th>0</th>\n",
       "      <td>0</td>\n",
       "      <td>Maruti Wagon R LXI CNG</td>\n",
       "      <td>Mumbai</td>\n",
       "      <td>2010</td>\n",
       "      <td>72000</td>\n",
       "      <td>CNG</td>\n",
       "      <td>Manual</td>\n",
       "      <td>First</td>\n",
       "      <td>26.6 km/kg</td>\n",
       "      <td>998 CC</td>\n",
       "      <td>58.16 bhp</td>\n",
       "      <td>5.0</td>\n",
       "      <td>None</td>\n",
       "      <td>1.75</td>\n",
       "    </tr>\n",
       "    <tr>\n",
       "      <th>1</th>\n",
       "      <td>1</td>\n",
       "      <td>Hyundai Creta 1.6 CRDi SX Option</td>\n",
       "      <td>Pune</td>\n",
       "      <td>2015</td>\n",
       "      <td>41000</td>\n",
       "      <td>Diesel</td>\n",
       "      <td>Manual</td>\n",
       "      <td>First</td>\n",
       "      <td>19.67 kmpl</td>\n",
       "      <td>1582 CC</td>\n",
       "      <td>126.2 bhp</td>\n",
       "      <td>5.0</td>\n",
       "      <td>None</td>\n",
       "      <td>12.5</td>\n",
       "    </tr>\n",
       "    <tr>\n",
       "      <th>2</th>\n",
       "      <td>2</td>\n",
       "      <td>Honda Jazz V</td>\n",
       "      <td>Chennai</td>\n",
       "      <td>2011</td>\n",
       "      <td>46000</td>\n",
       "      <td>Petrol</td>\n",
       "      <td>Manual</td>\n",
       "      <td>First</td>\n",
       "      <td>18.2 kmpl</td>\n",
       "      <td>1199 CC</td>\n",
       "      <td>88.7 bhp</td>\n",
       "      <td>5.0</td>\n",
       "      <td>8.61 Lakh</td>\n",
       "      <td>4.5</td>\n",
       "    </tr>\n",
       "    <tr>\n",
       "      <th>3</th>\n",
       "      <td>3</td>\n",
       "      <td>Maruti Ertiga VDI</td>\n",
       "      <td>Chennai</td>\n",
       "      <td>2012</td>\n",
       "      <td>87000</td>\n",
       "      <td>Diesel</td>\n",
       "      <td>Manual</td>\n",
       "      <td>First</td>\n",
       "      <td>20.77 kmpl</td>\n",
       "      <td>1248 CC</td>\n",
       "      <td>88.76 bhp</td>\n",
       "      <td>7.0</td>\n",
       "      <td>None</td>\n",
       "      <td>6.0</td>\n",
       "    </tr>\n",
       "    <tr>\n",
       "      <th>4</th>\n",
       "      <td>4</td>\n",
       "      <td>Audi A4 New 2.0 TDI Multitronic</td>\n",
       "      <td>Coimbatore</td>\n",
       "      <td>2013</td>\n",
       "      <td>40670</td>\n",
       "      <td>Diesel</td>\n",
       "      <td>Automatic</td>\n",
       "      <td>Second</td>\n",
       "      <td>15.2 kmpl</td>\n",
       "      <td>1968 CC</td>\n",
       "      <td>140.8 bhp</td>\n",
       "      <td>5.0</td>\n",
       "      <td>None</td>\n",
       "      <td>17.74</td>\n",
       "    </tr>\n",
       "  </tbody>\n",
       "</table>\n",
       "</div>"
      ],
      "text/plain": [
       "   S.No.                              Name    Location  Year  \\\n",
       "0      0            Maruti Wagon R LXI CNG      Mumbai  2010   \n",
       "1      1  Hyundai Creta 1.6 CRDi SX Option        Pune  2015   \n",
       "2      2                      Honda Jazz V     Chennai  2011   \n",
       "3      3                 Maruti Ertiga VDI     Chennai  2012   \n",
       "4      4   Audi A4 New 2.0 TDI Multitronic  Coimbatore  2013   \n",
       "\n",
       "   Kilometers_Driven Fuel_Type Transmission Owner_Type     Mileage   Engine  \\\n",
       "0              72000       CNG       Manual      First  26.6 km/kg   998 CC   \n",
       "1              41000    Diesel       Manual      First  19.67 kmpl  1582 CC   \n",
       "2              46000    Petrol       Manual      First   18.2 kmpl  1199 CC   \n",
       "3              87000    Diesel       Manual      First  20.77 kmpl  1248 CC   \n",
       "4              40670    Diesel    Automatic     Second   15.2 kmpl  1968 CC   \n",
       "\n",
       "       Power Seats  New_Price  Price  \n",
       "0  58.16 bhp   5.0       None   1.75  \n",
       "1  126.2 bhp   5.0       None   12.5  \n",
       "2   88.7 bhp   5.0  8.61 Lakh    4.5  \n",
       "3  88.76 bhp   7.0       None    6.0  \n",
       "4  140.8 bhp   5.0       None  17.74  "
      ]
     },
     "execution_count": 7,
     "metadata": {},
     "output_type": "execute_result"
    }
   ],
   "source": [
    "data.head()"
   ]
  },
  {
   "cell_type": "markdown",
   "id": "03c132d3",
   "metadata": {},
   "source": [
    "## Connecting to MySQL with my credentials and Creating Database"
   ]
  },
  {
   "cell_type": "code",
   "execution_count": 8,
   "id": "f4f595bb",
   "metadata": {},
   "outputs": [
    {
     "name": "stdout",
     "output_type": "stream",
     "text": [
      "Error while connecting to MySQL 1007 (HY000): Can't create database 'used_car'; database exists\n"
     ]
    }
   ],
   "source": [
    "try:\n",
    "    conn = mysql.connect(host='localhost', user='root',\n",
    "                        password='root')#give ur username, password\n",
    "    if conn.is_connected():\n",
    "        cursor = conn.cursor()\n",
    "        # tips\n",
    "        cursor.execute(\"CREATE DATABASE used_car;\")\n",
    "        print(\"Database is created\")\n",
    "except Error as e:\n",
    "    print(\"Error while connecting to MySQL\", e)"
   ]
  },
  {
   "cell_type": "markdown",
   "id": "ccbc3689",
   "metadata": {},
   "source": [
    "## Creating Table data and Pushing Dataframe  information to that Table"
   ]
  },
  {
   "cell_type": "code",
   "execution_count": 9,
   "id": "9e8377ab",
   "metadata": {},
   "outputs": [
    {
     "data": {
      "text/plain": [
       "S.No.                 int64\n",
       "Name                 object\n",
       "Location             object\n",
       "Year                  int64\n",
       "Kilometers_Driven     int64\n",
       "Fuel_Type            object\n",
       "Transmission         object\n",
       "Owner_Type           object\n",
       "Mileage              object\n",
       "Engine               object\n",
       "Power                object\n",
       "Seats                object\n",
       "New_Price            object\n",
       "Price                object\n",
       "dtype: object"
      ]
     },
     "execution_count": 9,
     "metadata": {},
     "output_type": "execute_result"
    }
   ],
   "source": [
    "data.dtypes"
   ]
  },
  {
   "cell_type": "code",
   "execution_count": 10,
   "id": "737ee74d",
   "metadata": {},
   "outputs": [
    {
     "name": "stdout",
     "output_type": "stream",
     "text": [
      "You're connected to database:  ('used_car',)\n",
      "Creating table....\n",
      "Table is created....\n"
     ]
    }
   ],
   "source": [
    "try:\n",
    "    conn = mysql.connect(host='localhost', database='used_car', user='root', password='root')\n",
    "    if conn.is_connected():\n",
    "        cursor = conn.cursor()\n",
    "        cursor.execute(\"select database();\")\n",
    "        record = cursor.fetchone()\n",
    "        print(\"You're connected to database: \", record)\n",
    "        cursor.execute('DROP TABLE IF EXISTS data;')\n",
    "        print('Creating table....')\n",
    "# in the below line please pass the create table statement which you want #to create\n",
    "        cursor.execute(\"CREATE TABLE data(S_No INT, Name VARCHAR(255), Location VARCHAR(255), Year YEAR, Kilometers_Driven INT, Fuel_Type VARCHAR(50), Transmission VARCHAR(50), Owner_Type VARCHAR(50), Mileage VARCHAR(50), Engine VARCHAR(50), Power VARCHAR(50), Seats DECIMAL(10, 2), New_Price VARCHAR(50), Price DECIMAL(10, 2))\")\n",
    "        print(\"Table is created....\")\n",
    "        #loop through the data frame\n",
    "        for i,row in data.iterrows():\n",
    "            #here %S means\n",
    "            # tips.tips_data\n",
    "            sql = \"INSERT INTO used_car.data VALUES (%s,%s,%s,%s,%s,%s,%s,%s,%s,%s,%s,%s,%s,%s)\" # how many columns are there that many %s\n",
    "            cursor.execute(sql, tuple(row))\n",
    "            #print(\"Record inserted\")\n",
    "            # the connection is not auto committed by default, so we must commit to save our changes\n",
    "            conn.commit()\n",
    "except Error as e:\n",
    "            print(\"Error while connecting to MySQL\", e)"
   ]
  },
  {
   "cell_type": "code",
   "execution_count": null,
   "id": "0faed80d",
   "metadata": {},
   "outputs": [],
   "source": []
  }
 ],
 "metadata": {
  "kernelspec": {
   "display_name": "Python 3 (ipykernel)",
   "language": "python",
   "name": "python3"
  },
  "language_info": {
   "codemirror_mode": {
    "name": "ipython",
    "version": 3
   },
   "file_extension": ".py",
   "mimetype": "text/x-python",
   "name": "python",
   "nbconvert_exporter": "python",
   "pygments_lexer": "ipython3",
   "version": "3.10.9"
  }
 },
 "nbformat": 4,
 "nbformat_minor": 5
}
