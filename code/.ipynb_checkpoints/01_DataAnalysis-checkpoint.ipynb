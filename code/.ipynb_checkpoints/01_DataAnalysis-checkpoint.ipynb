{
 "cells": [
  {
   "cell_type": "markdown",
   "id": "7ccb649e",
   "metadata": {},
   "source": [
    "# Project - Used Car Price Prediction\n",
    "\n",
    "#### ProjectId - LAI-ML-R-001\n",
    "\n",
    "## Data Information\n",
    "\n",
    "<b>Type of Data :</b> Numerical\n",
    "\n",
    "<b>Total Number of Features:</b> 14\n",
    "\n",
    "<b>Total Number of Records:</b> 7253\n",
    "\n",
    "<b>Features Name:</b> S.No., Name, Location, Year, Kilometers_Driven, Fuel_Type, Transmission, Owner_Type, Mileage, Engine, Power, Seats, New_Price, Price\n",
    "\n",
    "<b>Features Description:</b> \n",
    "\n",
    "<b>1. S.No.:</b> A unique identifier for each car entry.\n",
    "\n",
    "<b>2. Name:</b> The make and model of the car.\n",
    "\n",
    "<b>3. Location:</b> The city or region where the car is being sold.\n",
    "\n",
    "<b>4. Year:</b> The year the car was manufactured.\n",
    "\n",
    "<b>5. Kilometers_Driven:</b> The total distance the car has traveled, measured in kilometers.\n",
    "\n",
    "<b>6. Fuel_Type:</b> The type of fuel the car uses, such as petrol, diesel, or electric.\n",
    "\n",
    "<b>7. Transmission:</b> The type of transmission system in the car, either manual or automatic.\n",
    "\n",
    "<b>8. Owner_Type:</b> The number of previous owners of the car.\n",
    "\n",
    "<b>9. Mileage:</b> The fuel efficiency of the car, typically measured in kilometers per liter.\n",
    "\n",
    "<b>10. Engine:</b> The engine capacity of the car, usually measured in cubic centimeters (cc).\n",
    "\n",
    "<b>11. Power:</b> The maximum power output of the car's engine, usually measured in horsepower (bhp).\n",
    "\n",
    "<b>12. Seats:</b> The number of seats available in the car.\n",
    "\n",
    "<b>13. New_Price:</b> The original price of the car when it was new.\n",
    "\n",
    "<b>14. Price:</b> The current selling price of the car."
   ]
  },
  {
   "cell_type": "markdown",
   "id": "da9d6f2e",
   "metadata": {},
   "source": [
    "# Data Analysis"
   ]
  },
  {
   "cell_type": "markdown",
   "id": "fc5716e1",
   "metadata": {},
   "source": [
    "### Importing Necessary Libraries"
   ]
  },
  {
   "cell_type": "code",
   "execution_count": 1,
   "id": "0a79d07f",
   "metadata": {},
   "outputs": [],
   "source": [
    "import pandas as pd\n",
    "import numpy as np\n",
    "import missingno\n",
    "import matplotlib.pyplot as plt\n",
    "import plotly.graph_objects as go\n",
    "import plotly.express as px\n",
    "import seaborn as sns\n",
    "import squarify\n",
    "\n",
    "%matplotlib inline"
   ]
  },
  {
   "cell_type": "markdown",
   "id": "20c592bd",
   "metadata": {},
   "source": [
    "### Loading Data"
   ]
  },
  {
   "cell_type": "code",
   "execution_count": 3,
   "id": "0c98e1a5",
   "metadata": {},
   "outputs": [],
   "source": [
    "df = pd.read_csv('../data/data.csv')"
   ]
  },
  {
   "cell_type": "markdown",
   "id": "ca03bd83",
   "metadata": {},
   "source": [
    "### Type of Dataset"
   ]
  },
  {
   "cell_type": "code",
   "execution_count": 4,
   "id": "03a605ea",
   "metadata": {},
   "outputs": [
    {
     "data": {
      "text/plain": [
       "pandas.core.frame.DataFrame"
      ]
     },
     "execution_count": 4,
     "metadata": {},
     "output_type": "execute_result"
    }
   ],
   "source": [
    "type(df)"
   ]
  },
  {
   "cell_type": "markdown",
   "id": "1f83f0e6",
   "metadata": {},
   "source": [
    "### Displaying Top 5 Rows"
   ]
  },
  {
   "cell_type": "code",
   "execution_count": null,
   "id": "3acedb54",
   "metadata": {
    "scrolled": true
   },
   "outputs": [],
   "source": [
    "df.head()"
   ]
  },
  {
   "cell_type": "markdown",
   "id": "cd029e6b",
   "metadata": {},
   "source": [
    "### Displaying Bottom 5 rows"
   ]
  },
  {
   "cell_type": "code",
   "execution_count": null,
   "id": "dbaab82f",
   "metadata": {},
   "outputs": [],
   "source": [
    "df.tail()"
   ]
  },
  {
   "cell_type": "markdown",
   "id": "9f03ebc7",
   "metadata": {},
   "source": [
    "#### Challenge*: \n",
    "\n",
    "1. If we are having more than 30 features, we are not going to see all features information at a time.\n",
    "\n",
    "For this you need to add additional method to display all columns\n",
    "\n",
    "2. In the same way if you want to display all rows you need to use additional method"
   ]
  },
  {
   "cell_type": "markdown",
   "id": "b9358d08",
   "metadata": {},
   "source": [
    "### Shape of the Dataset"
   ]
  },
  {
   "cell_type": "code",
   "execution_count": null,
   "id": "99927b70",
   "metadata": {},
   "outputs": [],
   "source": [
    "print(\"Number of Dimensions: \",df.ndim)\n",
    "shape = df.shape\n",
    "print(\"\\nTotal Number of Rows: \",shape[0])\n",
    "print(\"Total Number of Columns: \",shape[1])"
   ]
  },
  {
   "cell_type": "markdown",
   "id": "8e350216",
   "metadata": {},
   "source": [
    "### Displaying Column Names"
   ]
  },
  {
   "cell_type": "code",
   "execution_count": null,
   "id": "5bbce5b8",
   "metadata": {},
   "outputs": [],
   "source": [
    "df.columns"
   ]
  },
  {
   "cell_type": "markdown",
   "id": "38e665ef",
   "metadata": {},
   "source": [
    "### Displaying DataType of each Column"
   ]
  },
  {
   "cell_type": "code",
   "execution_count": null,
   "id": "25d0d992",
   "metadata": {},
   "outputs": [],
   "source": [
    "df.dtypes"
   ]
  },
  {
   "cell_type": "markdown",
   "id": "9dfac3e8",
   "metadata": {},
   "source": [
    "### Observed Points*:\n",
    "    \n",
    "#### Removing Units from Element Values and Adding to Column Names:\n",
    "\n",
    "    Examine the Mileage, Engine, and Power columns where units are included in the element values.\n",
    "\n",
    "    Remove the unit extensions from the element values.\n",
    "\n",
    "    Add the corresponding units to the column names to clarify the measurements.\n"
   ]
  },
  {
   "cell_type": "markdown",
   "id": "0dab933e",
   "metadata": {},
   "source": [
    "### Null Values Information"
   ]
  },
  {
   "cell_type": "code",
   "execution_count": null,
   "id": "9cfdb3e1",
   "metadata": {},
   "outputs": [],
   "source": [
    "print(\"Is there any Null Values in the Data: \", df.isnull().sum().any())"
   ]
  },
  {
   "cell_type": "code",
   "execution_count": null,
   "id": "6a4cbced",
   "metadata": {},
   "outputs": [],
   "source": [
    "print(\"Total Number of Null Values in the Data: \",df.isnull().sum().sum())"
   ]
  },
  {
   "cell_type": "code",
   "execution_count": null,
   "id": "1628ba1e",
   "metadata": {},
   "outputs": [],
   "source": [
    "print(\"Each Feature Null Value is there or Not: \\n\\n\",df.isnull().any())"
   ]
  },
  {
   "cell_type": "code",
   "execution_count": null,
   "id": "c5b578e0",
   "metadata": {},
   "outputs": [],
   "source": [
    "print(\"Each Feature Null Value count: \\n\\n\",df.isnull().sum())"
   ]
  },
  {
   "cell_type": "code",
   "execution_count": null,
   "id": "cdd96416",
   "metadata": {},
   "outputs": [],
   "source": [
    "print(\"Displaying Non Null Values Count:\\n\\n\")\n",
    "missingno.bar(df, figsize=(10,5), fontsize=12)\n",
    "plt.show()"
   ]
  },
  {
   "cell_type": "code",
   "execution_count": null,
   "id": "736cd535",
   "metadata": {},
   "outputs": [],
   "source": [
    "print(\"Displaying Non Null Values Count in ascending order:\\n\\n\")\n",
    "missingno.bar(df, color=\"dodgerblue\", sort=\"ascending\", figsize=(10,5), fontsize=12)\n",
    "plt.show()"
   ]
  },
  {
   "cell_type": "code",
   "execution_count": null,
   "id": "069164d9",
   "metadata": {},
   "outputs": [],
   "source": [
    "print(\"In dataset where exactly null values are present:\\n\\n\")\n",
    "missingno.matrix(df,figsize=(10,5), fontsize=12, sparkline=False,)"
   ]
  },
  {
   "cell_type": "code",
   "execution_count": null,
   "id": "a5f30cd0",
   "metadata": {},
   "outputs": [],
   "source": [
    "# Calculate the total number of null values\n",
    "total_null_values = df.isnull().sum().sum()\n",
    "\n",
    "# Calculate the total number of non-null values\n",
    "total_non_null_values = df.notnull().sum().sum()\n",
    "\n",
    "# Calculate the total number of values in the dataset\n",
    "total_values = total_null_values + total_non_null_values\n",
    "\n",
    "# Calculate the percentage of null and non-null values\n",
    "null_percentage = (total_null_values / total_values) * 100\n",
    "non_null_percentage = (total_non_null_values / total_values) * 100\n",
    "\n",
    "# Data for the donut chart\n",
    "labels = ['Null Values', 'Non-Null Values']\n",
    "values = [null_percentage, non_null_percentage]\n",
    "\n",
    "# Create the donut chart\n",
    "fig = go.Figure(data=[go.Pie(labels=labels,\n",
    "                             values=values,\n",
    "                             hole=.4,\n",
    "                             hoverinfo='label+percent',\n",
    "                             textinfo='value',\n",
    "                             textfont_size=15)])\n",
    "\n",
    "# Update layout for better appearance\n",
    "fig.update_layout(title_text='Percentage of Null and Non-Null Values in the Dataset',\n",
    "                  annotations=[dict(text='Values', x=0.5, y=0.5, font_size=20, showarrow=False)])\n",
    "\n",
    "# Show the plot\n",
    "fig.show()\n"
   ]
  },
  {
   "cell_type": "code",
   "execution_count": null,
   "id": "a4141c6c",
   "metadata": {},
   "outputs": [],
   "source": [
    "# Find the number of null values in each column\n",
    "null_values = df.isnull().sum()\n",
    "\n",
    "# Calculate the percentage of null values for each column\n",
    "null_percent = (null_values / len(df)) * 100\n",
    "\n",
    "# Filter out columns with no null values\n",
    "null_percent = null_percent[null_percent > 0]\n",
    "\n",
    "# Create the donut chart\n",
    "fig = go.Figure(data=[go.Pie(labels=null_percent.index,\n",
    "                             values=null_percent,\n",
    "                             hole=.4,\n",
    "                             hoverinfo='label+percent',\n",
    "                             textinfo='value',\n",
    "                             textfont_size=15)])\n",
    "\n",
    "# Update layout for better appearance\n",
    "fig.update_layout(title_text='Percentage of Null Values in Each Column',\n",
    "                  annotations=[dict(text='Null Values', x=0.5, y=0.5, font_size=20, showarrow=False)])\n",
    "\n",
    "# Show the plot\n",
    "fig.show()"
   ]
  },
  {
   "cell_type": "markdown",
   "id": "6834ea35",
   "metadata": {},
   "source": [
    "#### Requirement Specification\n",
    "\n",
    "1. Handling Null Values in the Price Feature:\n",
    "\n",
    "    Identify rows where the price feature has null values.\n",
    "\n",
    "    Separate these rows and place them in the validation data set.\n",
    "\n",
    "2. Dropping the New Price Feature:\n",
    "\n",
    "    The new price feature has more than 50% null values.\n",
    "\n",
    "    Due to the high percentage of null values, drop the price column.\n",
    "\n",
    "Note*: If the price column is deemed important in the future, values should be entered manually by referencing data from car websites.\n",
    "\n",
    "3. Filling Null Values in Mileage, Seat, and Power Features:\n",
    "\n",
    "    Focus on handling null values in the mileage, seat, and power features.\n",
    "\n",
    "    Determine the type of null values present (e.g., missing completely at random, missing at random, or missing not at random).\n",
    "\n",
    "    Identify the best method to fill the null values for each feature based on their nature and impact on the dataset."
   ]
  },
  {
   "cell_type": "markdown",
   "id": "36929249",
   "metadata": {},
   "source": [
    "### Checking Duplicates"
   ]
  },
  {
   "cell_type": "code",
   "execution_count": null,
   "id": "af8a9d56",
   "metadata": {},
   "outputs": [],
   "source": [
    "print(\"Any duplicates in the Data Frame: \",df.duplicated().any())"
   ]
  },
  {
   "cell_type": "code",
   "execution_count": null,
   "id": "695a68eb",
   "metadata": {},
   "outputs": [],
   "source": [
    "print(\"Number of duplicates in the dataset: \",df.duplicated().sum())"
   ]
  },
  {
   "cell_type": "code",
   "execution_count": null,
   "id": "2fe45507",
   "metadata": {},
   "outputs": [],
   "source": [
    "print(\"Duplicates rows display here\")\n",
    "duplicate = df[df.duplicated()]\n",
    "duplicate"
   ]
  },
  {
   "cell_type": "markdown",
   "id": "6cc5d748",
   "metadata": {},
   "source": [
    "#### Note*:\n",
    "\n",
    "Handling Duplicates in the Dataset:\n",
    "\n",
    "    Identify if the dataset contains any duplicate entries.\n",
    "\n",
    "    Find the total number of duplicates present.\n",
    "\n",
    "    Calculate the percentage of duplicate entries relative to the entire dataset.\n",
    "\n",
    "    Identify if a particular row is repeated multiple times and determine the frequency of such repetitions."
   ]
  },
  {
   "cell_type": "markdown",
   "id": "96b47e1e",
   "metadata": {},
   "source": [
    "### Dataset Basic Information"
   ]
  },
  {
   "cell_type": "code",
   "execution_count": null,
   "id": "05e58645",
   "metadata": {},
   "outputs": [],
   "source": [
    "df.info()"
   ]
  },
  {
   "cell_type": "markdown",
   "id": "293aa3d4",
   "metadata": {},
   "source": [
    "<b>Note*: </b> \n",
    "\n",
    "Number of float data type columns: 2\n",
    "\n",
    "Number of integer data type columns: 3\n",
    "\n",
    "Number of object data type columns: 9"
   ]
  },
  {
   "cell_type": "markdown",
   "id": "ebf6e704",
   "metadata": {},
   "source": [
    "## We are Understanding Each and every Feature"
   ]
  },
  {
   "cell_type": "markdown",
   "id": "8a9f612b",
   "metadata": {},
   "source": [
    "## 1. Feature S.NO"
   ]
  },
  {
   "cell_type": "code",
   "execution_count": null,
   "id": "7f20cf68",
   "metadata": {},
   "outputs": [],
   "source": [
    "print('Feature Name: S.No.')\n",
    "print(\"\\nDescription: A unique identifier for each car entry\")\n",
    "print(\"\\nType of Data: Unique Values\")\n",
    "print(\"\\nProgramming Data Type information: Integer\")\n",
    "print(\"\\nValue Arrangement: Sequence\")\n",
    "print(\"\\nRange of the values: 0 to 7252\")"
   ]
  },
  {
   "cell_type": "markdown",
   "id": "45502cba",
   "metadata": {},
   "source": [
    "#### Requirement\n",
    "\n",
    "Dropping S.No. Unique Column:\n",
    "\n",
    "    The S.No. unique column is not useful for machine learning applications.\n",
    "\n",
    "    Drop the S.No. column, as Python's indexing can handle row and column management efficiently."
   ]
  },
  {
   "cell_type": "markdown",
   "id": "2d61418c",
   "metadata": {},
   "source": [
    "## 2. Feature Name"
   ]
  },
  {
   "cell_type": "code",
   "execution_count": null,
   "id": "4c0c33dd",
   "metadata": {},
   "outputs": [],
   "source": [
    "print('Feature Name: Name')\n",
    "print(\"\\nDescription:The make and model of the car\")\n",
    "print(\"\\nType of Data: Character\")\n",
    "print(\"\\nStatistics Data Type information: Qualitative, Nominal\")\n",
    "print(\"\\nProgramming Data Type information: Object\")\n",
    "print(\"\\nValue information: Manufacture, Model, Year and other information\")\n",
    "unique_count = len(df['Name'].unique())\n",
    "print(\"\\nTotal Number Categories in the Feature:\",unique_count)\n",
    "print(\"\\nEach Category how many times repeated:\\n\\n\", df['Name'].value_counts())\n",
    "print(\"\\nTotal Number of Non-Repeated Values\",df['Name'].unique())"
   ]
  },
  {
   "cell_type": "markdown",
   "id": "86aafb10",
   "metadata": {},
   "source": [
    "#### Requirements*:\n",
    "\n",
    "<b>Unique Categories Identification</b>\n",
    "\n",
    "Ensure that all categories in the 'Name' column. This is essential for accurate analysis and data integrity.\n",
    "\n",
    "<b>Separate Manufacturer and Model</b>\n",
    "\n",
    "Extract the manufacturer and model information from the 'Name' column. This separation helps in more granular analysis and categorization.\n",
    "\n",
    "<b>Create New Columns</b>\n",
    "\n",
    "Create two new columns in the DataFrame: 'Manufacturer' and 'Model'. Populate these columns with the extracted manufacturer and model information, respectively. This structure aids in better organization and usability of the dataset."
   ]
  },
  {
   "cell_type": "markdown",
   "id": "6dd8a04c",
   "metadata": {},
   "source": [
    "## 3. Feature Location"
   ]
  },
  {
   "cell_type": "code",
   "execution_count": null,
   "id": "627022fb",
   "metadata": {
    "scrolled": false
   },
   "outputs": [],
   "source": [
    "print('Feature Name: Location')\n",
    "print(\"\\nDescription:The city or region where the car is being sold.\")\n",
    "print(\"\\nType of Data: Character\")\n",
    "print(\"\\nStatistics Data Type information: Qualitative, Nominal\")\n",
    "print(\"\\nProgramming Data Type information: Object\")\n",
    "print(\"\\nValue information: City Names\")\n",
    "unique_count = len(df['Location'].unique())\n",
    "print(\"\\nTotal Number Categories in the Feature:\",unique_count)\n",
    "print(\"\\nTotal Number of Non-Repeated Values\",df['Location'].unique())\n",
    "print(\"\\nEach Category how many times repeated:\\n\\n\", df['Location'].value_counts())\n",
    "\n",
    "# Graph\n",
    "\n",
    "# Create count plot\n",
    "ax = sns.countplot(x='Location', data=df)\n",
    "\n",
    "# Annotate each bin with the count value\n",
    "for p in ax.patches:\n",
    "    ax.annotate(\n",
    "        format(p.get_height(), '.0f'),  # Use a format string to display the count as an integer\n",
    "        (p.get_x() + p.get_width() / 2., p.get_height()),  # Position the annotation in the center of the bar\n",
    "        ha='center', va='center',  # Align the text in the center horizontally and vertically\n",
    "        xytext=(0, 9),  # Offset the text slightly above the bar\n",
    "        textcoords='offset points'\n",
    "    )\n",
    "\n",
    "# Rotate x-axis labels\n",
    "plt.xticks(rotation=45)\n",
    "\n",
    "# Add titles and labels\n",
    "plt.title('Count Plot of Categories with Annotations')\n",
    "plt.xlabel('Category')\n",
    "plt.ylabel('Count')\n",
    "\n",
    "# Show plot\n",
    "plt.show()\n",
    "\n",
    "\n",
    "# Calculate percentage\n",
    "category_counts = df['Location'].value_counts(normalize=True) * 100\n",
    "category_df = category_counts.reset_index()\n",
    "category_df.columns = ['Location', 'Percentage']\n",
    "\n",
    "# Define custom colors\n",
    "cmap = plt.get_cmap('cividis')  # Choose a colormap\n",
    "colors = [cmap(i / len(category_df)) for i in range(len(category_df))]\n",
    "\n",
    "# Plot Treemap\n",
    "plt.figure(figsize=(10, 6))\n",
    "squarify.plot(\n",
    "    sizes=category_df['Percentage'], \n",
    "    label=category_df['Location'] + ' (' + category_df['Percentage'].round(2).astype(str) + '%)',\n",
    "    alpha=0.8\n",
    ")\n",
    "\n",
    "# Add titles and labels\n",
    "plt.title('Treemap of Category Percentages')\n",
    "plt.axis('off')  # Remove the axes\n",
    "\n",
    "# Show plot\n",
    "plt.show()"
   ]
  },
  {
   "cell_type": "markdown",
   "id": "77ab00f4",
   "metadata": {},
   "source": [
    "## 4. Feature Year"
   ]
  },
  {
   "cell_type": "code",
   "execution_count": null,
   "id": "cdd3c607",
   "metadata": {
    "scrolled": false
   },
   "outputs": [],
   "source": [
    "print('Feature Name: Year')\n",
    "print(\"\\nDescription:The year the car was manufactured.\")\n",
    "print(\"\\nType of Data: Numerical\")\n",
    "print(\"\\nStatistics Data Type information: Quantitative, Descrete\")\n",
    "print(\"\\nProgramming Data Type information: Integer\")\n",
    "print(\"\\nValue information: Car manufacture year\")\n",
    "unique_count = len(df['Year'].unique())\n",
    "print(\"\\nTotal Number Categories in the Feature:\",unique_count)\n",
    "print(\"\\nTotal Number of Non-Repeated Values\",df['Year'].unique())\n",
    "print(\"\\nEach Category how many times repeated:\\n\\n\", df['Year'].value_counts())\n",
    "\n",
    "# Graph\n",
    "\n",
    "# Create count plot\n",
    "ax = sns.countplot(x='Year', data=df)\n",
    "\n",
    "# Annotate each bin with the count value\n",
    "for p in ax.patches:\n",
    "    ax.annotate(\n",
    "        format(p.get_height(), '.0f'),  # Use a format string to display the count as an integer\n",
    "        (p.get_x() + p.get_width() / 2., p.get_height()),  # Position the annotation in the center of the bar\n",
    "        ha='center', va='center',  # Align the text in the center horizontally and vertically\n",
    "        xytext=(0, 9),  # Offset the text slightly above the bar\n",
    "        textcoords='offset points'\n",
    "    )\n",
    "\n",
    "# Rotate x-axis labels\n",
    "plt.xticks(rotation=45)\n",
    "\n",
    "# Add titles and labels\n",
    "plt.title('Count Plot of Categories with Annotations')\n",
    "plt.xlabel('Category')\n",
    "plt.ylabel('Count')\n",
    "\n",
    "# Show plot\n",
    "plt.show()\n",
    "\n",
    "\n",
    "\n",
    "# Calculate the count of each year\n",
    "year_counts = df['Year'].value_counts().reset_index()\n",
    "year_counts.columns = ['Year', 'Count']\n",
    "\n",
    "# Plot Pie Chart using Plotly\n",
    "fig = px.pie(\n",
    "    year_counts,\n",
    "    values='Count',  # Specify the column containing the values for the pie slices\n",
    "    names='Year',\n",
    "    title='Distribution of Years',\n",
    "    color_discrete_sequence=px.colors.sequential.Viridis  # Use the 'Viridis' colormap\n",
    ")\n",
    "\n",
    "# Show plot\n",
    "fig.show()"
   ]
  },
  {
   "cell_type": "markdown",
   "id": "95ee3982",
   "metadata": {},
   "source": [
    "## 6. Feature Fuel_Type"
   ]
  },
  {
   "cell_type": "code",
   "execution_count": null,
   "id": "8a3e5270",
   "metadata": {
    "scrolled": false
   },
   "outputs": [],
   "source": [
    "print('Feature Name: Fuel_Type')\n",
    "print(\"\\nDescription:The type of fuel the car uses, such as petrol, diesel, or electric.\")\n",
    "print(\"\\nType of Data: Character\")\n",
    "print(\"\\nStatistics Data Type information: Qualitative, Nominal\")\n",
    "print(\"\\nProgramming Data Type information: Object\")\n",
    "print(\"\\nValue information: Car fuel information\")\n",
    "unique_count = len(df['Fuel_Type'].unique())\n",
    "print(\"\\nTotal Number Categories in the Feature:\",unique_count)\n",
    "print(\"\\nTotal Number of Non-Repeated Values\",df['Fuel_Type'].unique())\n",
    "print(\"\\nEach Category how many times repeated:\\n\\n\", df['Fuel_Type'].value_counts())\n",
    "\n",
    "# Graph\n",
    "\n",
    "# Create count plot\n",
    "ax = sns.countplot(x='Fuel_Type', data=df)\n",
    "\n",
    "# Annotate each bin with the count value\n",
    "for p in ax.patches:\n",
    "    ax.annotate(\n",
    "        format(p.get_height(), '.0f'),  # Use a format string to display the count as an integer\n",
    "        (p.get_x() + p.get_width() / 2., p.get_height()),  # Position the annotation in the center of the bar\n",
    "        ha='center', va='center',  # Align the text in the center horizontally and vertically\n",
    "        xytext=(0, 9),  # Offset the text slightly above the bar\n",
    "        textcoords='offset points'\n",
    "    )\n",
    "\n",
    "# Rotate x-axis labels\n",
    "plt.xticks(rotation=45)\n",
    "\n",
    "# Add titles and labels\n",
    "plt.title('Count Plot of Categories with Annotations')\n",
    "plt.xlabel('Category')\n",
    "plt.ylabel('Count')\n",
    "\n",
    "# Show plot\n",
    "plt.show()\n",
    "\n",
    "\n",
    "\n",
    "# Calculate the count of each year\n",
    "year_counts = df['Fuel_Type'].value_counts().reset_index()\n",
    "year_counts.columns = ['Fuel_Type', 'Count']\n",
    "\n",
    "# Plot Pie Chart using Plotly\n",
    "fig = px.pie(\n",
    "    year_counts,\n",
    "    values='Count',  # Specify the column containing the values for the pie slices\n",
    "    names='Fuel_Type',\n",
    "    title='Distribution of Years',\n",
    "    color_discrete_sequence=px.colors.sequential.Viridis  # Use the 'Viridis' colormap\n",
    ")\n",
    "\n",
    "# Show plot\n",
    "fig.show()"
   ]
  },
  {
   "cell_type": "markdown",
   "id": "354529de",
   "metadata": {},
   "source": [
    "## 7. Feature Transmission"
   ]
  },
  {
   "cell_type": "code",
   "execution_count": null,
   "id": "8cf653ec",
   "metadata": {
    "scrolled": false
   },
   "outputs": [],
   "source": [
    "print('Feature Name: Transmission')\n",
    "print(\"\\nDescription:The type of transmission system in the car, either manual or automatic.\")\n",
    "print(\"\\nType of Data: Character\")\n",
    "print(\"\\nStatistics Data Type information: Qualitative, Nominal\")\n",
    "print(\"\\nProgramming Data Type information: Object\")\n",
    "print(\"\\nValue information: Transmission system in the car\")\n",
    "unique_count = len(df['Transmission'].unique())\n",
    "print(\"\\nTotal Number Categories in the Feature:\",unique_count)\n",
    "print(\"\\nTotal Number of Non-Repeated Values\",df['Transmission'].unique())\n",
    "print(\"\\nEach Category how many times repeated:\\n\\n\", df['Transmission'].value_counts())\n",
    "\n",
    "# Graph\n",
    "\n",
    "# Create count plot\n",
    "ax = sns.countplot(x='Transmission', data=df)\n",
    "\n",
    "# Annotate each bin with the count value\n",
    "for p in ax.patches:\n",
    "    ax.annotate(\n",
    "        format(p.get_height(), '.0f'),  # Use a format string to display the count as an integer\n",
    "        (p.get_x() + p.get_width() / 2., p.get_height()),  # Position the annotation in the center of the bar\n",
    "        ha='center', va='center',  # Align the text in the center horizontally and vertically\n",
    "        xytext=(0, 9),  # Offset the text slightly above the bar\n",
    "        textcoords='offset points'\n",
    "    )\n",
    "\n",
    "# Rotate x-axis labels\n",
    "plt.xticks(rotation=45)\n",
    "\n",
    "# Add titles and labels\n",
    "plt.title('Count Plot of Categories with Annotations')\n",
    "plt.xlabel('Category')\n",
    "plt.ylabel('Count')\n",
    "\n",
    "# Show plot\n",
    "plt.show()\n",
    "\n",
    "\n",
    "\n",
    "# Calculate the count of each year\n",
    "year_counts = df['Transmission'].value_counts().reset_index()\n",
    "year_counts.columns = ['Transmission', 'Count']\n",
    "\n",
    "# Plot Pie Chart using Plotly\n",
    "fig = px.pie(\n",
    "    year_counts,\n",
    "    values='Count',  # Specify the column containing the values for the pie slices\n",
    "    names='Transmission',\n",
    "    title='Distribution of Years',\n",
    "    color_discrete_sequence=px.colors.sequential.Viridis  # Use the 'Viridis' colormap\n",
    ")\n",
    "\n",
    "# Show plot\n",
    "fig.show()"
   ]
  },
  {
   "cell_type": "markdown",
   "id": "ef81364b",
   "metadata": {},
   "source": [
    "## 8. Feature Owner_Type"
   ]
  },
  {
   "cell_type": "code",
   "execution_count": null,
   "id": "5e544d35",
   "metadata": {
    "scrolled": false
   },
   "outputs": [],
   "source": [
    "print('Feature Name: Owner_Type')\n",
    "print(\"\\nDescription:The number of previous owners of the car.\")\n",
    "print(\"\\nType of Data: Character\")\n",
    "print(\"\\nStatistics Data Type information: Qualitative, Nominal\")\n",
    "print(\"\\nProgramming Data Type information: Object\")\n",
    "print(\"\\nValue information: previous owners of the car\")\n",
    "unique_count = len(df['Owner_Type'].unique())\n",
    "print(\"\\nTotal Number Categories in the Feature:\",unique_count)\n",
    "print(\"\\nTotal Number of Non-Repeated Values\",df['Owner_Type'].unique())\n",
    "print(\"\\nEach Category how many times repeated:\\n\\n\", df['Owner_Type'].value_counts())\n",
    "\n",
    "# Graph\n",
    "\n",
    "# Create count plot\n",
    "ax = sns.countplot(x='Owner_Type', data=df)\n",
    "\n",
    "# Annotate each bin with the count value\n",
    "for p in ax.patches:\n",
    "    ax.annotate(\n",
    "        format(p.get_height(), '.0f'),  # Use a format string to display the count as an integer\n",
    "        (p.get_x() + p.get_width() / 2., p.get_height()),  # Position the annotation in the center of the bar\n",
    "        ha='center', va='center',  # Align the text in the center horizontally and vertically\n",
    "        xytext=(0, 9),  # Offset the text slightly above the bar\n",
    "        textcoords='offset points'\n",
    "    )\n",
    "\n",
    "# Rotate x-axis labels\n",
    "plt.xticks(rotation=45)\n",
    "\n",
    "# Add titles and labels\n",
    "plt.title('Count Plot of Categories with Annotations')\n",
    "plt.xlabel('Category')\n",
    "plt.ylabel('Count')\n",
    "\n",
    "# Show plot\n",
    "plt.show()\n",
    "\n",
    "\n",
    "\n",
    "# Calculate the count of each year\n",
    "year_counts = df['Owner_Type'].value_counts().reset_index()\n",
    "year_counts.columns = ['Owner_Type', 'Count']\n",
    "\n",
    "# Plot Pie Chart using Plotly\n",
    "fig = px.pie(\n",
    "    year_counts,\n",
    "    values='Count',  # Specify the column containing the values for the pie slices\n",
    "    names='Owner_Type',\n",
    "    title='Number of previous owners',\n",
    "    color_discrete_sequence=px.colors.sequential.Viridis  # Use the 'Viridis' colormap\n",
    ")\n",
    "\n",
    "# Show plot\n",
    "fig.show()"
   ]
  },
  {
   "cell_type": "markdown",
   "id": "181053e9",
   "metadata": {},
   "source": [
    "## 9. Feature Mileage"
   ]
  },
  {
   "cell_type": "code",
   "execution_count": null,
   "id": "07ebdfc2",
   "metadata": {
    "scrolled": false
   },
   "outputs": [],
   "source": [
    "print('Feature Name: Mileage')\n",
    "print(\"\\nDescription:The type of fuel the car uses, such as petrol, diesel, or electric.\")\n",
    "print(\"\\nType of Data: Character\")\n",
    "print(\"\\nStatistics Data Type information: Qualitative, Nominal\")\n",
    "print(\"\\nProgramming Data Type information: Object\")\n",
    "print(\"\\nValue information: Car fuel information\")\n",
    "unique_count = len(df['Mileage'].unique())\n",
    "print(\"\\nTotal Number Categories in the Feature:\",unique_count)\n",
    "print(\"\\nTotal Number of Non-Repeated Values\",df['Mileage'].unique())\n",
    "print(\"\\nEach Category how many times repeated:\\n\\n\", df['Mileage'].value_counts())\n",
    "\n",
    "# Graph\n",
    "\n",
    "# Create count plot\n",
    "ax = sns.countplot(x='Mileage', data=df)\n",
    "\n",
    "# Annotate each bin with the count value\n",
    "for p in ax.patches:\n",
    "    ax.annotate(\n",
    "        format(p.get_height(), '.0f'),  # Use a format string to display the count as an integer\n",
    "        (p.get_x() + p.get_width() / 2., p.get_height()),  # Position the annotation in the center of the bar\n",
    "        ha='center', va='center',  # Align the text in the center horizontally and vertically\n",
    "        xytext=(0, 9),  # Offset the text slightly above the bar\n",
    "        textcoords='offset points'\n",
    "    )\n",
    "\n",
    "# Rotate x-axis labels\n",
    "plt.xticks(rotation=45)\n",
    "\n",
    "# Add titles and labels\n",
    "plt.title('Count Plot of Categories with Annotations')\n",
    "plt.xlabel('Category')\n",
    "plt.ylabel('Count')\n",
    "\n",
    "# Show plot\n",
    "plt.show()\n",
    "\n",
    "\n",
    "\n",
    "# Calculate the count of each year\n",
    "year_counts = df['Mileage'].value_counts().reset_index()\n",
    "year_counts.columns = ['Mileage', 'Count']\n",
    "\n",
    "# Plot Pie Chart using Plotly\n",
    "fig = px.pie(\n",
    "    year_counts,\n",
    "    values='Count',  # Specify the column containing the values for the pie slices\n",
    "    names='Mileage',\n",
    "    title='Distribution of Years',\n",
    "    color_discrete_sequence=px.colors.sequential.Viridis  # Use the 'Viridis' colormap\n",
    ")\n",
    "\n",
    "# Show plot\n",
    "fig.show()"
   ]
  },
  {
   "cell_type": "markdown",
   "id": "bd45f747",
   "metadata": {},
   "source": [
    "### Requirements\n",
    "\n",
    "Separate Number and Units:\n",
    "\n",
    "    Extract numerical values and their corresponding units from given data.\n",
    "\n",
    "Maintain Space After Number:\n",
    "\n",
    "    Ensure there is a space between the numerical value and the unit.\n",
    "\n",
    "Convert Units:\n",
    "\n",
    "    Handle units such as kmpl and km/kg by converting them into a new column.\n",
    "\n",
    "Categorical Conversion and Plotting:\n",
    "\n",
    "    Convert categorical data into ranges for better visualization.\n",
    "\n",
    "    Apply appropriate graphs to represent the categorical data.\n",
    "\n",
    "Plot Continuous Analysis:\n",
    "\n",
    "    Perform continuous data analysis and generate plots accordingly."
   ]
  },
  {
   "cell_type": "markdown",
   "id": "e077dcaf",
   "metadata": {},
   "source": [
    "## 10. Engine"
   ]
  },
  {
   "cell_type": "code",
   "execution_count": null,
   "id": "d4ad0eca",
   "metadata": {
    "scrolled": false
   },
   "outputs": [],
   "source": [
    "print('Feature Name: Engine')\n",
    "print(\"\\nDescription:The engine capacity of the car, usually measured in cubic centimeters (cc).\")\n",
    "print(\"\\nType of Data: Character\")\n",
    "print(\"\\nStatistics Data Type information: Qualitative, Nominal\")\n",
    "print(\"\\nProgramming Data Type information: Object\")\n",
    "print(\"\\nValue information: Engine capacity of the car\")\n",
    "unique_count = len(df['Engine'].unique())\n",
    "print(\"\\nTotal Number Categories in the Feature:\",unique_count)\n",
    "print(\"\\nTotal Number of Non-Repeated Values\",df['Engine'].unique())\n",
    "print(\"\\nEach Category how many times repeated:\\n\\n\", df['Engine'].value_counts())\n",
    "\n",
    "# Graph\n",
    "\n",
    "# Create count plot\n",
    "ax = sns.countplot(x='Engine', data=df)\n",
    "\n",
    "# Annotate each bin with the count value\n",
    "for p in ax.patches:\n",
    "    ax.annotate(\n",
    "        format(p.get_height(), '.0f'),  # Use a format string to display the count as an integer\n",
    "        (p.get_x() + p.get_width() / 2., p.get_height()),  # Position the annotation in the center of the bar\n",
    "        ha='center', va='center',  # Align the text in the center horizontally and vertically\n",
    "        xytext=(0, 9),  # Offset the text slightly above the bar\n",
    "        textcoords='offset points'\n",
    "    )\n",
    "\n",
    "# Rotate x-axis labels\n",
    "plt.xticks(rotation=45)\n",
    "\n",
    "# Add titles and labels\n",
    "plt.title('Count Plot of Categories with Annotations')\n",
    "plt.xlabel('Category')\n",
    "plt.ylabel('Count')\n",
    "\n",
    "# Show plot\n",
    "plt.show()\n",
    "\n",
    "\n",
    "\n",
    "# Calculate the count of each year\n",
    "year_counts = df['Engine'].value_counts().reset_index()\n",
    "year_counts.columns = ['Engine', 'Count']\n",
    "\n",
    "# Plot Pie Chart using Plotly\n",
    "fig = px.pie(\n",
    "    year_counts,\n",
    "    values='Count',  # Specify the column containing the values for the pie slices\n",
    "    names='Engine',\n",
    "    title='Engine capacity of the car',\n",
    "    color_discrete_sequence=px.colors.sequential.Viridis  # Use the 'Viridis' colormap\n",
    ")\n",
    "\n",
    "# Show plot\n",
    "fig.show()"
   ]
  },
  {
   "cell_type": "markdown",
   "id": "75a2d582",
   "metadata": {},
   "source": [
    "### Requirements\n",
    "\n",
    "Separate Number and Units:\n",
    "\n",
    "    Extract numerical values and their corresponding units from given data.\n",
    "\n",
    "Maintain Space After Number:\n",
    "\n",
    "    Ensure there is a space between the numerical value and the unit.\n",
    "\n",
    "Convert Units:\n",
    "\n",
    "    Handle units such as CC rename column name by adding CC atlast.\n",
    "\n",
    "Categorical Conversion and Plotting:\n",
    "\n",
    "    Convert categorical data into ranges for better visualization.\n",
    "\n",
    "    Apply appropriate graphs to represent the categorical data.\n",
    "\n",
    "Plot Continuous Analysis:\n",
    "\n",
    "    Perform continuous data analysis and generate plots accordingly."
   ]
  },
  {
   "cell_type": "markdown",
   "id": "52e018c1",
   "metadata": {},
   "source": [
    "## 11. Power"
   ]
  },
  {
   "cell_type": "code",
   "execution_count": null,
   "id": "24da169e",
   "metadata": {
    "scrolled": false
   },
   "outputs": [],
   "source": [
    "print('Feature Name: Power')\n",
    "print(\"\\nDescription:The maximum power output of the car's engine, usually measured in horsepower (bhp).\")\n",
    "print(\"\\nType of Data: Character\")\n",
    "print(\"\\nStatistics Data Type information: Qualitative, Nominal\")\n",
    "print(\"\\nProgramming Data Type information: Object\")\n",
    "print(\"\\nValue information: Maximum power output of the car's engine\")\n",
    "unique_count = len(df['Power'].unique())\n",
    "print(\"\\nTotal Number Categories in the Feature:\",unique_count)\n",
    "print(\"\\nTotal Number of Non-Repeated Values\",df['Power'].unique())\n",
    "print(\"\\nEach Category how many times repeated:\\n\\n\", df['Power'].value_counts())\n",
    "\n",
    "# Graph\n",
    "\n",
    "# Create count plot\n",
    "ax = sns.countplot(x='Power', data=df)\n",
    "\n",
    "# Annotate each bin with the count value\n",
    "for p in ax.patches:\n",
    "    ax.annotate(\n",
    "        format(p.get_height(), '.0f'),  # Use a format string to display the count as an integer\n",
    "        (p.get_x() + p.get_width() / 2., p.get_height()),  # Position the annotation in the center of the bar\n",
    "        ha='center', va='center',  # Align the text in the center horizontally and vertically\n",
    "        xytext=(0, 9),  # Offset the text slightly above the bar\n",
    "        textcoords='offset points'\n",
    "    )\n",
    "\n",
    "# Rotate x-axis labels\n",
    "plt.xticks(rotation=45)\n",
    "\n",
    "# Add titles and labels\n",
    "plt.title('Count Plot of Categories with Annotations')\n",
    "plt.xlabel('Category')\n",
    "plt.ylabel('Count')\n",
    "\n",
    "# Show plot\n",
    "plt.show()\n",
    "\n",
    "\n",
    "\n",
    "# Calculate the count of each year\n",
    "year_counts = df['Power'].value_counts().reset_index()\n",
    "year_counts.columns = ['Power', 'Count']\n",
    "\n",
    "# Plot Pie Chart using Plotly\n",
    "fig = px.pie(\n",
    "    year_counts,\n",
    "    values='Count',  # Specify the column containing the values for the pie slices\n",
    "    names='Power',\n",
    "    title='Maximum power output of the car engine',\n",
    "    color_discrete_sequence=px.colors.sequential.Viridis  # Use the 'Viridis' colormap\n",
    ")\n",
    "\n",
    "# Show plot\n",
    "fig.show()"
   ]
  },
  {
   "cell_type": "markdown",
   "id": "7020c4c9",
   "metadata": {},
   "source": [
    "### Requirements\n",
    "\n",
    "Separate Number and Units:\n",
    "\n",
    "    Extract numerical values and their corresponding units from given data.\n",
    "\n",
    "Maintain Space After Number:\n",
    "\n",
    "    Ensure there is a space between the numerical value and the unit.\n",
    "\n",
    "Convert Units:\n",
    "\n",
    "    Handle units such as bhp rename column name by adding bhp atlast.\n",
    "\n",
    "Categorical Conversion and Plotting:\n",
    "\n",
    "    Convert categorical data into ranges for better visualization.\n",
    "\n",
    "    Apply appropriate graphs to represent the categorical data.\n",
    "\n",
    "Plot Continuous Analysis:\n",
    "\n",
    "    Perform continuous data analysis and generate plots accordingly."
   ]
  },
  {
   "cell_type": "markdown",
   "id": "ba9fc2ec",
   "metadata": {},
   "source": [
    "## 12. Seats"
   ]
  },
  {
   "cell_type": "code",
   "execution_count": null,
   "id": "5f39455f",
   "metadata": {
    "scrolled": false
   },
   "outputs": [],
   "source": [
    "print('Feature Name: Seats')\n",
    "print(\"\\nDescription: The number of seats available in the car.\")\n",
    "print(\"\\nType of Data: Character\")\n",
    "print(\"\\nStatistics Data Type information: Qualitative, Nominal\")\n",
    "print(\"\\nProgramming Data Type information: Object\")\n",
    "print(\"\\nValue information: Number of seats\")\n",
    "unique_count = len(df['Seats'].unique())\n",
    "print(\"\\nTotal Number Categories in the Feature:\",unique_count)\n",
    "print(\"\\nTotal Number of Non-Repeated Values\",df['Seats'].unique())\n",
    "print(\"\\nEach Category how many times repeated:\\n\\n\", df['Seats'].value_counts())\n",
    "\n",
    "# Graph\n",
    "\n",
    "# Create count plot\n",
    "ax = sns.countplot(x='Seats', data=df)\n",
    "\n",
    "# Annotate each bin with the count value\n",
    "for p in ax.patches:\n",
    "    ax.annotate(\n",
    "        format(p.get_height(), '.0f'),  # Use a format string to display the count as an integer\n",
    "        (p.get_x() + p.get_width() / 2., p.get_height()),  # Position the annotation in the center of the bar\n",
    "        ha='center', va='center',  # Align the text in the center horizontally and vertically\n",
    "        xytext=(0, 9),  # Offset the text slightly above the bar\n",
    "        textcoords='offset points'\n",
    "    )\n",
    "\n",
    "# Rotate x-axis labels\n",
    "plt.xticks(rotation=45)\n",
    "\n",
    "# Add titles and labels\n",
    "plt.title('Count Plot of Categories with Annotations')\n",
    "plt.xlabel('Category')\n",
    "plt.ylabel('Count')\n",
    "\n",
    "# Show plot\n",
    "plt.show()\n",
    "\n",
    "\n",
    "\n",
    "# Calculate the count of each year\n",
    "year_counts = df['Seats'].value_counts().reset_index()\n",
    "year_counts.columns = ['Seats', 'Count']\n",
    "\n",
    "# Plot Pie Chart using Plotly\n",
    "fig = px.pie(\n",
    "    year_counts,\n",
    "    values='Count',  # Specify the column containing the values for the pie slices\n",
    "    names='Seats',\n",
    "    title='Number of seats',\n",
    "    color_discrete_sequence=px.colors.sequential.Viridis  # Use the 'Viridis' colormap\n",
    ")\n",
    "\n",
    "# Show plot\n",
    "fig.show()"
   ]
  },
  {
   "cell_type": "markdown",
   "id": "cc982e80",
   "metadata": {},
   "source": [
    "### Requirements\n",
    "\n",
    "Handle Zero Number of Seats:\n",
    "    \n",
    "    Identify records with zero seats.\n",
    "\n",
    "    Convert zero seat values to null or manually replace them.\n",
    "\n",
    "    Investigate and document the reason behind the zero seat values."
   ]
  },
  {
   "cell_type": "markdown",
   "id": "a29f33c8",
   "metadata": {},
   "source": [
    "## 12. New_Price"
   ]
  },
  {
   "cell_type": "code",
   "execution_count": null,
   "id": "3795721e",
   "metadata": {
    "scrolled": false
   },
   "outputs": [],
   "source": [
    "print('Feature Name: New_Price')\n",
    "print(\"\\nDescription: The original price of the car when it was new.\")\n",
    "print(\"\\nType of Data: Character\")\n",
    "print(\"\\nStatistics Data Type information: Quantitative, Ratio\")\n",
    "print(\"\\nProgramming Data Type information: Object\")\n",
    "print(\"\\nValue information: The original price of the car when it was new\")\n",
    "unique_count = len(df['New_Price'].unique())\n",
    "print(\"\\nTotal Number Categories in the Feature:\",unique_count)\n",
    "print(\"\\nTotal Number of Non-Repeated Values\",df['New_Price'].unique())\n",
    "print(\"\\nEach Category how many times repeated:\\n\\n\", df['New_Price'].value_counts())\n",
    "\n",
    "# Graph\n",
    "\n",
    "# Create count plot\n",
    "ax = sns.countplot(x='New_Price', data=df)\n",
    "\n",
    "# Annotate each bin with the count value\n",
    "for p in ax.patches:\n",
    "    ax.annotate(\n",
    "        format(p.get_height(), '.0f'),  # Use a format string to display the count as an integer\n",
    "        (p.get_x() + p.get_width() / 2., p.get_height()),  # Position the annotation in the center of the bar\n",
    "        ha='center', va='center',  # Align the text in the center horizontally and vertically\n",
    "        xytext=(0, 9),  # Offset the text slightly above the bar\n",
    "        textcoords='offset points'\n",
    "    )\n",
    "\n",
    "# Rotate x-axis labels\n",
    "plt.xticks(rotation=45)\n",
    "\n",
    "# Add titles and labels\n",
    "plt.title('Count Plot of Categories with Annotations')\n",
    "plt.xlabel('Category')\n",
    "plt.ylabel('Count')\n",
    "\n",
    "# Show plot\n",
    "plt.show()\n",
    "\n",
    "\n",
    "\n",
    "# Calculate the count of each year\n",
    "year_counts = df['New_Price'].value_counts().reset_index()\n",
    "year_counts.columns = ['New_Price', 'Count']\n",
    "\n",
    "# Plot Pie Chart using Plotly\n",
    "fig = px.pie(\n",
    "    year_counts,\n",
    "    values='Count',  # Specify the column containing the values for the pie slices\n",
    "    names='New_Price',\n",
    "    title='The original price of the car',\n",
    "    color_discrete_sequence=px.colors.sequential.Viridis  # Use the 'Viridis' colormap\n",
    ")\n",
    "\n",
    "# Show plot\n",
    "fig.show()"
   ]
  },
  {
   "cell_type": "markdown",
   "id": "161ed1af",
   "metadata": {},
   "source": [
    "### Requirement\n",
    "\n",
    "Handle Newprice Column:\n",
    "\n",
    "    Identify that more than 70% of the data in the newprice column is null.\n",
    "\n",
    "    Understand that the newvalue column represents the showroom price of the car at the time of purchase.\n",
    "\n",
    "    Recognize that filling the newprice data using statistical analysis is not feasible and requires manual entry.\n",
    "\n",
    "    Remove the newprice column for now."
   ]
  },
  {
   "cell_type": "markdown",
   "id": "2b3cf8c2",
   "metadata": {},
   "source": [
    "## 12. Price"
   ]
  },
  {
   "cell_type": "code",
   "execution_count": null,
   "id": "13e6cf4d",
   "metadata": {
    "scrolled": false
   },
   "outputs": [],
   "source": [
    "print('Feature Name: Price')\n",
    "print(\"\\nDescription: The current selling price of the car.\")\n",
    "print(\"\\nType of Data: Character\")\n",
    "print(\"\\nStatistics Data Type information: Quantitative, Ratio\")\n",
    "print(\"\\nProgramming Data Type information: Object\")\n",
    "print(\"\\nValue information: The current selling price of the car.\")\n",
    "\n",
    "mini = df['Price'].min()\n",
    "maxi = df['Price'].max()\n",
    "avg = df['Price'].mean()\n",
    "med = df['Price'].median()\n",
    "zeros = (df['Price'] == 0).any()\n",
    "neg = (df['Price'] < 0).any()\n",
    "null = df['Price'].isnull().any()\n",
    "dup = df['Price'].duplicated().any()\n",
    "dic = {'Minimum':[mini],'Maximum':[maxi],'Mean':[avg],'Median':[med],'Zeros':[zeros], 'Neagative':[neg],'Missing':[null],'Duplicates':[dup]}\n",
    "df_dci = pd.DataFrame(dic)\n",
    "display(df_dci.head())"
   ]
  },
  {
   "cell_type": "code",
   "execution_count": null,
   "id": "dffe36a0",
   "metadata": {},
   "outputs": [],
   "source": [
    "sns.kdeplot(df,x='Price')\n",
    "plt.show()"
   ]
  },
  {
   "cell_type": "code",
   "execution_count": null,
   "id": "98d87e97",
   "metadata": {},
   "outputs": [],
   "source": [
    "sns.histplot(df,x='Price')\n",
    "plt.show()"
   ]
  },
  {
   "cell_type": "markdown",
   "id": "7b31f770",
   "metadata": {},
   "source": [
    "### Requirements\n",
    "\n",
    "Price Column with Lakh Units:\n",
    "\n",
    "    Add a new column name indicating price in lakh units.\n",
    "    \n",
    "Handle Null Values in Price Column:\n",
    "\n",
    "    Identify that the price column has null values.\n",
    "    \n",
    "    Understand that deleting records with null values is not an option.\n",
    "    \n",
    "    Recognize the importance of the price column for machine learning purposes.\n",
    "    \n",
    "    Convert records with null values in the price column to validation data."
   ]
  },
  {
   "cell_type": "markdown",
   "id": "cd0ac997",
   "metadata": {},
   "source": [
    "# phase 3\n",
    "\n",
    "EDA - Exploratory Data Analysis (Relationship Graphs)\n",
    "\n",
    "we need to work here with PowerBI"
   ]
  },
  {
   "cell_type": "code",
   "execution_count": null,
   "id": "4b22a33b",
   "metadata": {},
   "outputs": [],
   "source": [
    "<b>Features Description:</b> \n",
    "\n",
    "<b>1. S.No.:</b> A unique identifier for each car entry.\n",
    "\n",
    "<b>2. Name:</b> The make and model of the car.\n",
    "\n",
    "<b>3. Location:</b> The city or region where the car is being sold.\n",
    "\n",
    "<b>4. Year:</b> The year the car was manufactured.\n",
    "\n",
    "<b>5. Kilometers_Driven:</b> The total distance the car has traveled, measured in kilometers.\n",
    "\n",
    "<b>6. Fuel_Type:</b> The type of fuel the car uses, such as petrol, diesel, or electric.\n",
    "\n",
    "<b>7. Transmission:</b> The type of transmission system in the car, either manual or automatic.\n",
    "\n",
    "<b>8. Owner_Type:</b> The number of previous owners of the car.\n",
    "\n",
    "<b>9. Mileage:</b> The fuel efficiency of the car, typically measured in kilometers per liter.\n",
    "\n",
    "<b>10. Engine:</b> The engine capacity of the car, usually measured in cubic centimeters (cc).\n",
    "\n",
    "<b>11. Power:</b> The maximum power output of the car's engine, usually measured in horsepower (bhp).\n",
    "\n",
    "<b>12. Seats:</b> The number of seats available in the car.\n",
    "\n",
    "<b>13. New_Price:</b> The original price of the car when it was new.\n",
    "\n",
    "<b>14. Price:</b> The current selling price of the car."
   ]
  }
 ],
 "metadata": {
  "kernelspec": {
   "display_name": "Python 3 (ipykernel)",
   "language": "python",
   "name": "python3"
  },
  "language_info": {
   "codemirror_mode": {
    "name": "ipython",
    "version": 3
   },
   "file_extension": ".py",
   "mimetype": "text/x-python",
   "name": "python",
   "nbconvert_exporter": "python",
   "pygments_lexer": "ipython3",
   "version": "3.10.9"
  }
 },
 "nbformat": 4,
 "nbformat_minor": 5
}
