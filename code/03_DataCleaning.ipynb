{
 "cells": [
  {
   "cell_type": "markdown",
   "id": "6d4ba0b9",
   "metadata": {},
   "source": [
    "## Import Necessary Libraries"
   ]
  },
  {
   "cell_type": "code",
   "execution_count": 2,
   "id": "90b23b64",
   "metadata": {},
   "outputs": [],
   "source": [
    "import pandas as pd\n",
    "import mysql.connector as mysql\n",
    "import re\n",
    "import numpy as np\n",
    "\n",
    "import seaborn as sns\n",
    "import matplotlib.pyplot as plt\n",
    "\n",
    "from sklearn.linear_model import LinearRegression"
   ]
  },
  {
   "cell_type": "markdown",
   "id": "bf6a218f",
   "metadata": {},
   "source": [
    "## Connecting to Database - used_car"
   ]
  },
  {
   "cell_type": "code",
   "execution_count": 3,
   "id": "f9431016",
   "metadata": {},
   "outputs": [],
   "source": [
    "conn = mysql.connect(host='localhost', database='used_car', user='root', password='root')"
   ]
  },
  {
   "cell_type": "markdown",
   "id": "31d673ef",
   "metadata": {},
   "source": [
    "## From Database data table bring values to DataFrame"
   ]
  },
  {
   "cell_type": "code",
   "execution_count": 4,
   "id": "d19278f7",
   "metadata": {},
   "outputs": [
    {
     "name": "stderr",
     "output_type": "stream",
     "text": [
      "C:\\Users\\divesh\\AppData\\Local\\Temp\\ipykernel_2192\\2983631028.py:1: UserWarning: pandas only supports SQLAlchemy connectable (engine/connection) or database string URI or sqlite3 DBAPI2 connection. Other DBAPI2 objects are not tested. Please consider using SQLAlchemy.\n",
      "  df = pd.read_sql(\"SELECT * FROM used_car.X_val\",conn)\n"
     ]
    },
    {
     "data": {
      "text/html": [
       "<div>\n",
       "<style scoped>\n",
       "    .dataframe tbody tr th:only-of-type {\n",
       "        vertical-align: middle;\n",
       "    }\n",
       "\n",
       "    .dataframe tbody tr th {\n",
       "        vertical-align: top;\n",
       "    }\n",
       "\n",
       "    .dataframe thead th {\n",
       "        text-align: right;\n",
       "    }\n",
       "</style>\n",
       "<table border=\"1\" class=\"dataframe\">\n",
       "  <thead>\n",
       "    <tr style=\"text-align: right;\">\n",
       "      <th></th>\n",
       "      <th>Year</th>\n",
       "      <th>Kilometers_Driven</th>\n",
       "      <th>Seats</th>\n",
       "      <th>Mileage_car</th>\n",
       "      <th>Engine_CC</th>\n",
       "      <th>Power_bhp</th>\n",
       "      <th>Location</th>\n",
       "      <th>Fuel_Type</th>\n",
       "      <th>Transmission</th>\n",
       "      <th>Owner_Type</th>\n",
       "      <th>Manufacture</th>\n",
       "      <th>Model</th>\n",
       "      <th>Mileage_Units</th>\n",
       "    </tr>\n",
       "  </thead>\n",
       "  <tbody>\n",
       "    <tr>\n",
       "      <th>0</th>\n",
       "      <td>2014</td>\n",
       "      <td>40929</td>\n",
       "      <td>4</td>\n",
       "      <td>32.26</td>\n",
       "      <td>998</td>\n",
       "      <td>58.2</td>\n",
       "      <td>4.0</td>\n",
       "      <td>0</td>\n",
       "      <td>1</td>\n",
       "      <td>0</td>\n",
       "      <td>19</td>\n",
       "      <td>157</td>\n",
       "      <td>1</td>\n",
       "    </tr>\n",
       "    <tr>\n",
       "      <th>1</th>\n",
       "      <td>2013</td>\n",
       "      <td>54493</td>\n",
       "      <td>5</td>\n",
       "      <td>24.70</td>\n",
       "      <td>796</td>\n",
       "      <td>47.3</td>\n",
       "      <td>3.0</td>\n",
       "      <td>4</td>\n",
       "      <td>1</td>\n",
       "      <td>2</td>\n",
       "      <td>19</td>\n",
       "      <td>147</td>\n",
       "      <td>2</td>\n",
       "    </tr>\n",
       "  </tbody>\n",
       "</table>\n",
       "</div>"
      ],
      "text/plain": [
       "   Year  Kilometers_Driven  Seats  Mileage_car  Engine_CC  Power_bhp Location  \\\n",
       "0  2014              40929      4        32.26        998       58.2      4.0   \n",
       "1  2013              54493      5        24.70        796       47.3      3.0   \n",
       "\n",
       "   Fuel_Type  Transmission  Owner_Type  Manufacture  Model  Mileage_Units  \n",
       "0          0             1           0           19    157              1  \n",
       "1          4             1           2           19    147              2  "
      ]
     },
     "execution_count": 4,
     "metadata": {},
     "output_type": "execute_result"
    }
   ],
   "source": [
    "df = pd.read_sql(\"SELECT * FROM used_car.data\",conn)\n",
    "df.head(2)"
   ]
  },
  {
   "cell_type": "markdown",
   "id": "36974e5b",
   "metadata": {},
   "source": [
    "## Type of Dataset"
   ]
  },
  {
   "cell_type": "code",
   "execution_count": 5,
   "id": "1a10d902",
   "metadata": {},
   "outputs": [
    {
     "data": {
      "text/plain": [
       "pandas.core.frame.DataFrame"
      ]
     },
     "execution_count": 5,
     "metadata": {},
     "output_type": "execute_result"
    }
   ],
   "source": [
    "type(df)"
   ]
  },
  {
   "cell_type": "markdown",
   "id": "81fc2729",
   "metadata": {},
   "source": [
    "## Shape of the Dataset"
   ]
  },
  {
   "cell_type": "code",
   "execution_count": 6,
   "id": "da9e1e96",
   "metadata": {},
   "outputs": [
    {
     "name": "stdout",
     "output_type": "stream",
     "text": [
      "Number of Dimensions:  2\n",
      "\n",
      "Total Number of Rows:  1234\n",
      "Total Number of Columns:  13\n"
     ]
    }
   ],
   "source": [
    "print(\"Number of Dimensions: \",df.ndim)\n",
    "shape = df.shape\n",
    "print(\"\\nTotal Number of Rows: \",shape[0])\n",
    "print(\"Total Number of Columns: \",shape[1])"
   ]
  },
  {
   "cell_type": "markdown",
   "id": "2fa64889",
   "metadata": {},
   "source": [
    "## Displaying Column Names"
   ]
  },
  {
   "cell_type": "code",
   "execution_count": 7,
   "id": "718f074e",
   "metadata": {},
   "outputs": [
    {
     "data": {
      "text/plain": [
       "Index(['Year', 'Kilometers_Driven', 'Seats', 'Mileage_car', 'Engine_CC',\n",
       "       'Power_bhp', 'Location', 'Fuel_Type', 'Transmission', 'Owner_Type',\n",
       "       'Manufacture', 'Model', 'Mileage_Units'],\n",
       "      dtype='object')"
      ]
     },
     "execution_count": 7,
     "metadata": {},
     "output_type": "execute_result"
    }
   ],
   "source": [
    "df.columns"
   ]
  },
  {
   "cell_type": "markdown",
   "id": "77b62da2",
   "metadata": {},
   "source": [
    "## Displaying DataType of each Column"
   ]
  },
  {
   "cell_type": "code",
   "execution_count": 8,
   "id": "32f1c30d",
   "metadata": {},
   "outputs": [
    {
     "data": {
      "text/plain": [
       "Year                   int64\n",
       "Kilometers_Driven      int64\n",
       "Seats                  int64\n",
       "Mileage_car          float64\n",
       "Engine_CC              int64\n",
       "Power_bhp            float64\n",
       "Location              object\n",
       "Fuel_Type              int64\n",
       "Transmission           int64\n",
       "Owner_Type             int64\n",
       "Manufacture            int64\n",
       "Model                  int64\n",
       "Mileage_Units          int64\n",
       "dtype: object"
      ]
     },
     "execution_count": 8,
     "metadata": {},
     "output_type": "execute_result"
    }
   ],
   "source": [
    "df.dtypes"
   ]
  },
  {
   "cell_type": "markdown",
   "id": "43b60e34",
   "metadata": {},
   "source": [
    "## Null Values Finding"
   ]
  },
  {
   "cell_type": "code",
   "execution_count": 9,
   "id": "1b98e046",
   "metadata": {},
   "outputs": [
    {
     "name": "stdout",
     "output_type": "stream",
     "text": [
      "Is there any Null Values in the Data:  False\n"
     ]
    }
   ],
   "source": [
    "print(\"Is there any Null Values in the Data: \", df.isnull().sum().any())"
   ]
  },
  {
   "cell_type": "code",
   "execution_count": 10,
   "id": "ff227611",
   "metadata": {},
   "outputs": [
    {
     "name": "stdout",
     "output_type": "stream",
     "text": [
      "Total Number of Null Values in the Data:  0\n"
     ]
    }
   ],
   "source": [
    "print(\"Total Number of Null Values in the Data: \",df.isnull().sum().sum())"
   ]
  },
  {
   "cell_type": "code",
   "execution_count": 11,
   "id": "2f6bc960",
   "metadata": {},
   "outputs": [
    {
     "name": "stdout",
     "output_type": "stream",
     "text": [
      "Each Feature Null Value count: \n",
      "\n",
      " Year                 0\n",
      "Kilometers_Driven    0\n",
      "Seats                0\n",
      "Mileage_car          0\n",
      "Engine_CC            0\n",
      "Power_bhp            0\n",
      "Location             0\n",
      "Fuel_Type            0\n",
      "Transmission         0\n",
      "Owner_Type           0\n",
      "Manufacture          0\n",
      "Model                0\n",
      "Mileage_Units        0\n",
      "dtype: int64\n"
     ]
    }
   ],
   "source": [
    "print(\"Each Feature Null Value count: \\n\\n\",df.isnull().sum())"
   ]
  },
  {
   "cell_type": "markdown",
   "id": "a229ba95",
   "metadata": {},
   "source": [
    "## Dataset Basic Information"
   ]
  },
  {
   "cell_type": "code",
   "execution_count": 12,
   "id": "c7a33cc9",
   "metadata": {},
   "outputs": [
    {
     "name": "stdout",
     "output_type": "stream",
     "text": [
      "<class 'pandas.core.frame.DataFrame'>\n",
      "RangeIndex: 1234 entries, 0 to 1233\n",
      "Data columns (total 13 columns):\n",
      " #   Column             Non-Null Count  Dtype  \n",
      "---  ------             --------------  -----  \n",
      " 0   Year               1234 non-null   int64  \n",
      " 1   Kilometers_Driven  1234 non-null   int64  \n",
      " 2   Seats              1234 non-null   int64  \n",
      " 3   Mileage_car        1234 non-null   float64\n",
      " 4   Engine_CC          1234 non-null   int64  \n",
      " 5   Power_bhp          1234 non-null   float64\n",
      " 6   Location           1234 non-null   object \n",
      " 7   Fuel_Type          1234 non-null   int64  \n",
      " 8   Transmission       1234 non-null   int64  \n",
      " 9   Owner_Type         1234 non-null   int64  \n",
      " 10  Manufacture        1234 non-null   int64  \n",
      " 11  Model              1234 non-null   int64  \n",
      " 12  Mileage_Units      1234 non-null   int64  \n",
      "dtypes: float64(2), int64(10), object(1)\n",
      "memory usage: 125.5+ KB\n"
     ]
    }
   ],
   "source": [
    "df.info()"
   ]
  },
  {
   "cell_type": "markdown",
   "id": "df45b165",
   "metadata": {},
   "source": [
    "# Data Cleaning"
   ]
  },
  {
   "cell_type": "markdown",
   "id": "46bdce39",
   "metadata": {},
   "source": [
    "## Dropping S_No Column"
   ]
  },
  {
   "cell_type": "code",
   "execution_count": 12,
   "id": "b351e457",
   "metadata": {},
   "outputs": [],
   "source": [
    "df.drop(['S_No'], inplace=True, axis=1)"
   ]
  },
  {
   "cell_type": "code",
   "execution_count": 13,
   "id": "e8128650",
   "metadata": {},
   "outputs": [
    {
     "data": {
      "text/plain": [
       "Index(['Name', 'Location', 'Year', 'Kilometers_Driven', 'Fuel_Type',\n",
       "       'Transmission', 'Owner_Type', 'Mileage', 'Engine', 'Power', 'Seats',\n",
       "       'New_Price', 'Price'],\n",
       "      dtype='object')"
      ]
     },
     "execution_count": 13,
     "metadata": {},
     "output_type": "execute_result"
    }
   ],
   "source": [
    "df.columns"
   ]
  },
  {
   "cell_type": "markdown",
   "id": "9ecd0c47",
   "metadata": {},
   "source": [
    "## Split the Name column and converting into Manufacture and Model columns"
   ]
  },
  {
   "cell_type": "code",
   "execution_count": 14,
   "id": "f8a0873a",
   "metadata": {},
   "outputs": [
    {
     "name": "stderr",
     "output_type": "stream",
     "text": [
      "C:\\Users\\divesh\\AppData\\Local\\Temp\\ipykernel_25992\\3620296706.py:1: FutureWarning: In a future version of pandas all arguments of StringMethods.split except for the argument 'pat' will be keyword-only.\n",
      "  df[['Manufacture', 'Model']] = df['Name'].str.split(' ', 1, expand=True)\n"
     ]
    }
   ],
   "source": [
    "df[['Manufacture', 'Model']] = df['Name'].str.split(' ', 1, expand=True)"
   ]
  },
  {
   "cell_type": "code",
   "execution_count": 15,
   "id": "1c637642",
   "metadata": {},
   "outputs": [
    {
     "data": {
      "text/html": [
       "<div>\n",
       "<style scoped>\n",
       "    .dataframe tbody tr th:only-of-type {\n",
       "        vertical-align: middle;\n",
       "    }\n",
       "\n",
       "    .dataframe tbody tr th {\n",
       "        vertical-align: top;\n",
       "    }\n",
       "\n",
       "    .dataframe thead th {\n",
       "        text-align: right;\n",
       "    }\n",
       "</style>\n",
       "<table border=\"1\" class=\"dataframe\">\n",
       "  <thead>\n",
       "    <tr style=\"text-align: right;\">\n",
       "      <th></th>\n",
       "      <th>Name</th>\n",
       "      <th>Location</th>\n",
       "      <th>Year</th>\n",
       "      <th>Kilometers_Driven</th>\n",
       "      <th>Fuel_Type</th>\n",
       "      <th>Transmission</th>\n",
       "      <th>Owner_Type</th>\n",
       "      <th>Mileage</th>\n",
       "      <th>Engine</th>\n",
       "      <th>Power</th>\n",
       "      <th>Seats</th>\n",
       "      <th>New_Price</th>\n",
       "      <th>Price</th>\n",
       "      <th>Manufacture</th>\n",
       "      <th>Model</th>\n",
       "    </tr>\n",
       "  </thead>\n",
       "  <tbody>\n",
       "    <tr>\n",
       "      <th>0</th>\n",
       "      <td>Maruti Wagon R LXI CNG</td>\n",
       "      <td>Mumbai</td>\n",
       "      <td>2010</td>\n",
       "      <td>72000</td>\n",
       "      <td>CNG</td>\n",
       "      <td>Manual</td>\n",
       "      <td>First</td>\n",
       "      <td>26.6 km/kg</td>\n",
       "      <td>998 CC</td>\n",
       "      <td>58.16 bhp</td>\n",
       "      <td>5.0</td>\n",
       "      <td>None</td>\n",
       "      <td>1.75</td>\n",
       "      <td>Maruti</td>\n",
       "      <td>Wagon R LXI CNG</td>\n",
       "    </tr>\n",
       "    <tr>\n",
       "      <th>1</th>\n",
       "      <td>Hyundai Creta 1.6 CRDi SX Option</td>\n",
       "      <td>Pune</td>\n",
       "      <td>2015</td>\n",
       "      <td>41000</td>\n",
       "      <td>Diesel</td>\n",
       "      <td>Manual</td>\n",
       "      <td>First</td>\n",
       "      <td>19.67 kmpl</td>\n",
       "      <td>1582 CC</td>\n",
       "      <td>126.2 bhp</td>\n",
       "      <td>5.0</td>\n",
       "      <td>None</td>\n",
       "      <td>12.50</td>\n",
       "      <td>Hyundai</td>\n",
       "      <td>Creta 1.6 CRDi SX Option</td>\n",
       "    </tr>\n",
       "    <tr>\n",
       "      <th>2</th>\n",
       "      <td>Honda Jazz V</td>\n",
       "      <td>Chennai</td>\n",
       "      <td>2011</td>\n",
       "      <td>46000</td>\n",
       "      <td>Petrol</td>\n",
       "      <td>Manual</td>\n",
       "      <td>First</td>\n",
       "      <td>18.2 kmpl</td>\n",
       "      <td>1199 CC</td>\n",
       "      <td>88.7 bhp</td>\n",
       "      <td>5.0</td>\n",
       "      <td>8.61 Lakh</td>\n",
       "      <td>4.50</td>\n",
       "      <td>Honda</td>\n",
       "      <td>Jazz V</td>\n",
       "    </tr>\n",
       "    <tr>\n",
       "      <th>3</th>\n",
       "      <td>Maruti Ertiga VDI</td>\n",
       "      <td>Chennai</td>\n",
       "      <td>2012</td>\n",
       "      <td>87000</td>\n",
       "      <td>Diesel</td>\n",
       "      <td>Manual</td>\n",
       "      <td>First</td>\n",
       "      <td>20.77 kmpl</td>\n",
       "      <td>1248 CC</td>\n",
       "      <td>88.76 bhp</td>\n",
       "      <td>7.0</td>\n",
       "      <td>None</td>\n",
       "      <td>6.00</td>\n",
       "      <td>Maruti</td>\n",
       "      <td>Ertiga VDI</td>\n",
       "    </tr>\n",
       "    <tr>\n",
       "      <th>4</th>\n",
       "      <td>Audi A4 New 2.0 TDI Multitronic</td>\n",
       "      <td>Coimbatore</td>\n",
       "      <td>2013</td>\n",
       "      <td>40670</td>\n",
       "      <td>Diesel</td>\n",
       "      <td>Automatic</td>\n",
       "      <td>Second</td>\n",
       "      <td>15.2 kmpl</td>\n",
       "      <td>1968 CC</td>\n",
       "      <td>140.8 bhp</td>\n",
       "      <td>5.0</td>\n",
       "      <td>None</td>\n",
       "      <td>17.74</td>\n",
       "      <td>Audi</td>\n",
       "      <td>A4 New 2.0 TDI Multitronic</td>\n",
       "    </tr>\n",
       "  </tbody>\n",
       "</table>\n",
       "</div>"
      ],
      "text/plain": [
       "                               Name    Location  Year  Kilometers_Driven  \\\n",
       "0            Maruti Wagon R LXI CNG      Mumbai  2010              72000   \n",
       "1  Hyundai Creta 1.6 CRDi SX Option        Pune  2015              41000   \n",
       "2                      Honda Jazz V     Chennai  2011              46000   \n",
       "3                 Maruti Ertiga VDI     Chennai  2012              87000   \n",
       "4   Audi A4 New 2.0 TDI Multitronic  Coimbatore  2013              40670   \n",
       "\n",
       "  Fuel_Type Transmission Owner_Type     Mileage   Engine      Power  Seats  \\\n",
       "0       CNG       Manual      First  26.6 km/kg   998 CC  58.16 bhp    5.0   \n",
       "1    Diesel       Manual      First  19.67 kmpl  1582 CC  126.2 bhp    5.0   \n",
       "2    Petrol       Manual      First   18.2 kmpl  1199 CC   88.7 bhp    5.0   \n",
       "3    Diesel       Manual      First  20.77 kmpl  1248 CC  88.76 bhp    7.0   \n",
       "4    Diesel    Automatic     Second   15.2 kmpl  1968 CC  140.8 bhp    5.0   \n",
       "\n",
       "   New_Price  Price Manufacture                       Model  \n",
       "0       None   1.75      Maruti             Wagon R LXI CNG  \n",
       "1       None  12.50     Hyundai    Creta 1.6 CRDi SX Option  \n",
       "2  8.61 Lakh   4.50       Honda                      Jazz V  \n",
       "3       None   6.00      Maruti                  Ertiga VDI  \n",
       "4       None  17.74        Audi  A4 New 2.0 TDI Multitronic  "
      ]
     },
     "execution_count": 15,
     "metadata": {},
     "output_type": "execute_result"
    }
   ],
   "source": [
    "df.head()"
   ]
  },
  {
   "cell_type": "markdown",
   "id": "f650aa37",
   "metadata": {},
   "source": [
    "## Dropping Name Column"
   ]
  },
  {
   "cell_type": "code",
   "execution_count": 16,
   "id": "ce1ddb5b",
   "metadata": {},
   "outputs": [],
   "source": [
    "df.drop(['Name'], inplace=True, axis=1)"
   ]
  },
  {
   "cell_type": "code",
   "execution_count": 17,
   "id": "55e98ac4",
   "metadata": {},
   "outputs": [
    {
     "data": {
      "text/plain": [
       "Index(['Location', 'Year', 'Kilometers_Driven', 'Fuel_Type', 'Transmission',\n",
       "       'Owner_Type', 'Mileage', 'Engine', 'Power', 'Seats', 'New_Price',\n",
       "       'Price', 'Manufacture', 'Model'],\n",
       "      dtype='object')"
      ]
     },
     "execution_count": 17,
     "metadata": {},
     "output_type": "execute_result"
    }
   ],
   "source": [
    "df.columns"
   ]
  },
  {
   "cell_type": "markdown",
   "id": "2285b5bb",
   "metadata": {},
   "source": [
    "## Split the Mileage column and convert into Mileage car and mileage units columns"
   ]
  },
  {
   "cell_type": "code",
   "execution_count": 18,
   "id": "bc7dd180",
   "metadata": {},
   "outputs": [
    {
     "name": "stderr",
     "output_type": "stream",
     "text": [
      "C:\\Users\\divesh\\AppData\\Local\\Temp\\ipykernel_25992\\1806788189.py:1: FutureWarning: In a future version of pandas all arguments of StringMethods.split except for the argument 'pat' will be keyword-only.\n",
      "  df[['Mileage_car', 'Mileage_Units']] = df['Mileage'].str.split(' ', 1, expand=True)\n"
     ]
    }
   ],
   "source": [
    "df[['Mileage_car', 'Mileage_Units']] = df['Mileage'].str.split(' ', 1, expand=True)"
   ]
  },
  {
   "cell_type": "code",
   "execution_count": 19,
   "id": "da1a00a0",
   "metadata": {},
   "outputs": [
    {
     "data": {
      "text/html": [
       "<div>\n",
       "<style scoped>\n",
       "    .dataframe tbody tr th:only-of-type {\n",
       "        vertical-align: middle;\n",
       "    }\n",
       "\n",
       "    .dataframe tbody tr th {\n",
       "        vertical-align: top;\n",
       "    }\n",
       "\n",
       "    .dataframe thead th {\n",
       "        text-align: right;\n",
       "    }\n",
       "</style>\n",
       "<table border=\"1\" class=\"dataframe\">\n",
       "  <thead>\n",
       "    <tr style=\"text-align: right;\">\n",
       "      <th></th>\n",
       "      <th>Location</th>\n",
       "      <th>Year</th>\n",
       "      <th>Kilometers_Driven</th>\n",
       "      <th>Fuel_Type</th>\n",
       "      <th>Transmission</th>\n",
       "      <th>Owner_Type</th>\n",
       "      <th>Mileage</th>\n",
       "      <th>Engine</th>\n",
       "      <th>Power</th>\n",
       "      <th>Seats</th>\n",
       "      <th>New_Price</th>\n",
       "      <th>Price</th>\n",
       "      <th>Manufacture</th>\n",
       "      <th>Model</th>\n",
       "      <th>Mileage_car</th>\n",
       "      <th>Mileage_Units</th>\n",
       "    </tr>\n",
       "  </thead>\n",
       "  <tbody>\n",
       "    <tr>\n",
       "      <th>0</th>\n",
       "      <td>Mumbai</td>\n",
       "      <td>2010</td>\n",
       "      <td>72000</td>\n",
       "      <td>CNG</td>\n",
       "      <td>Manual</td>\n",
       "      <td>First</td>\n",
       "      <td>26.6 km/kg</td>\n",
       "      <td>998 CC</td>\n",
       "      <td>58.16 bhp</td>\n",
       "      <td>5.0</td>\n",
       "      <td>None</td>\n",
       "      <td>1.75</td>\n",
       "      <td>Maruti</td>\n",
       "      <td>Wagon R LXI CNG</td>\n",
       "      <td>26.6</td>\n",
       "      <td>km/kg</td>\n",
       "    </tr>\n",
       "    <tr>\n",
       "      <th>1</th>\n",
       "      <td>Pune</td>\n",
       "      <td>2015</td>\n",
       "      <td>41000</td>\n",
       "      <td>Diesel</td>\n",
       "      <td>Manual</td>\n",
       "      <td>First</td>\n",
       "      <td>19.67 kmpl</td>\n",
       "      <td>1582 CC</td>\n",
       "      <td>126.2 bhp</td>\n",
       "      <td>5.0</td>\n",
       "      <td>None</td>\n",
       "      <td>12.50</td>\n",
       "      <td>Hyundai</td>\n",
       "      <td>Creta 1.6 CRDi SX Option</td>\n",
       "      <td>19.67</td>\n",
       "      <td>kmpl</td>\n",
       "    </tr>\n",
       "    <tr>\n",
       "      <th>2</th>\n",
       "      <td>Chennai</td>\n",
       "      <td>2011</td>\n",
       "      <td>46000</td>\n",
       "      <td>Petrol</td>\n",
       "      <td>Manual</td>\n",
       "      <td>First</td>\n",
       "      <td>18.2 kmpl</td>\n",
       "      <td>1199 CC</td>\n",
       "      <td>88.7 bhp</td>\n",
       "      <td>5.0</td>\n",
       "      <td>8.61 Lakh</td>\n",
       "      <td>4.50</td>\n",
       "      <td>Honda</td>\n",
       "      <td>Jazz V</td>\n",
       "      <td>18.2</td>\n",
       "      <td>kmpl</td>\n",
       "    </tr>\n",
       "    <tr>\n",
       "      <th>3</th>\n",
       "      <td>Chennai</td>\n",
       "      <td>2012</td>\n",
       "      <td>87000</td>\n",
       "      <td>Diesel</td>\n",
       "      <td>Manual</td>\n",
       "      <td>First</td>\n",
       "      <td>20.77 kmpl</td>\n",
       "      <td>1248 CC</td>\n",
       "      <td>88.76 bhp</td>\n",
       "      <td>7.0</td>\n",
       "      <td>None</td>\n",
       "      <td>6.00</td>\n",
       "      <td>Maruti</td>\n",
       "      <td>Ertiga VDI</td>\n",
       "      <td>20.77</td>\n",
       "      <td>kmpl</td>\n",
       "    </tr>\n",
       "    <tr>\n",
       "      <th>4</th>\n",
       "      <td>Coimbatore</td>\n",
       "      <td>2013</td>\n",
       "      <td>40670</td>\n",
       "      <td>Diesel</td>\n",
       "      <td>Automatic</td>\n",
       "      <td>Second</td>\n",
       "      <td>15.2 kmpl</td>\n",
       "      <td>1968 CC</td>\n",
       "      <td>140.8 bhp</td>\n",
       "      <td>5.0</td>\n",
       "      <td>None</td>\n",
       "      <td>17.74</td>\n",
       "      <td>Audi</td>\n",
       "      <td>A4 New 2.0 TDI Multitronic</td>\n",
       "      <td>15.2</td>\n",
       "      <td>kmpl</td>\n",
       "    </tr>\n",
       "  </tbody>\n",
       "</table>\n",
       "</div>"
      ],
      "text/plain": [
       "     Location  Year  Kilometers_Driven Fuel_Type Transmission Owner_Type  \\\n",
       "0      Mumbai  2010              72000       CNG       Manual      First   \n",
       "1        Pune  2015              41000    Diesel       Manual      First   \n",
       "2     Chennai  2011              46000    Petrol       Manual      First   \n",
       "3     Chennai  2012              87000    Diesel       Manual      First   \n",
       "4  Coimbatore  2013              40670    Diesel    Automatic     Second   \n",
       "\n",
       "      Mileage   Engine      Power  Seats  New_Price  Price Manufacture  \\\n",
       "0  26.6 km/kg   998 CC  58.16 bhp    5.0       None   1.75      Maruti   \n",
       "1  19.67 kmpl  1582 CC  126.2 bhp    5.0       None  12.50     Hyundai   \n",
       "2   18.2 kmpl  1199 CC   88.7 bhp    5.0  8.61 Lakh   4.50       Honda   \n",
       "3  20.77 kmpl  1248 CC  88.76 bhp    7.0       None   6.00      Maruti   \n",
       "4   15.2 kmpl  1968 CC  140.8 bhp    5.0       None  17.74        Audi   \n",
       "\n",
       "                        Model Mileage_car Mileage_Units  \n",
       "0             Wagon R LXI CNG        26.6         km/kg  \n",
       "1    Creta 1.6 CRDi SX Option       19.67          kmpl  \n",
       "2                      Jazz V        18.2          kmpl  \n",
       "3                  Ertiga VDI       20.77          kmpl  \n",
       "4  A4 New 2.0 TDI Multitronic        15.2          kmpl  "
      ]
     },
     "execution_count": 19,
     "metadata": {},
     "output_type": "execute_result"
    }
   ],
   "source": [
    "df.head()"
   ]
  },
  {
   "cell_type": "code",
   "execution_count": 20,
   "id": "a264c80b",
   "metadata": {},
   "outputs": [],
   "source": [
    "df.drop(['Mileage'], inplace=True, axis=1)"
   ]
  },
  {
   "cell_type": "code",
   "execution_count": 21,
   "id": "8d6f4b44",
   "metadata": {},
   "outputs": [
    {
     "data": {
      "text/plain": [
       "Index(['Location', 'Year', 'Kilometers_Driven', 'Fuel_Type', 'Transmission',\n",
       "       'Owner_Type', 'Engine', 'Power', 'Seats', 'New_Price', 'Price',\n",
       "       'Manufacture', 'Model', 'Mileage_car', 'Mileage_Units'],\n",
       "      dtype='object')"
      ]
     },
     "execution_count": 21,
     "metadata": {},
     "output_type": "execute_result"
    }
   ],
   "source": [
    "df.columns"
   ]
  },
  {
   "cell_type": "markdown",
   "id": "b15b2112",
   "metadata": {},
   "source": [
    "## Engine column value conists of number with units. All values are having Same Units That's why we are going to rename the column name and removing units"
   ]
  },
  {
   "cell_type": "code",
   "execution_count": 22,
   "id": "97c1e01d",
   "metadata": {},
   "outputs": [
    {
     "name": "stderr",
     "output_type": "stream",
     "text": [
      "C:\\Users\\divesh\\AppData\\Local\\Temp\\ipykernel_25992\\19102501.py:1: FutureWarning: In a future version of pandas all arguments of StringMethods.split except for the argument 'pat' will be keyword-only.\n",
      "  df[['Engine_CC', 'Engine_Units']] = df['Engine'].str.split(' ', 1, expand=True)\n"
     ]
    }
   ],
   "source": [
    "df[['Engine_CC', 'Engine_Units']] = df['Engine'].str.split(' ', 1, expand=True)"
   ]
  },
  {
   "cell_type": "code",
   "execution_count": 23,
   "id": "f184f3b7",
   "metadata": {},
   "outputs": [],
   "source": [
    "df.drop(['Engine'], inplace=True, axis=1)\n",
    "df.drop(['Engine_Units'], inplace=True, axis=1)"
   ]
  },
  {
   "cell_type": "code",
   "execution_count": 24,
   "id": "df0de9b0",
   "metadata": {},
   "outputs": [
    {
     "data": {
      "text/plain": [
       "Index(['Location', 'Year', 'Kilometers_Driven', 'Fuel_Type', 'Transmission',\n",
       "       'Owner_Type', 'Power', 'Seats', 'New_Price', 'Price', 'Manufacture',\n",
       "       'Model', 'Mileage_car', 'Mileage_Units', 'Engine_CC'],\n",
       "      dtype='object')"
      ]
     },
     "execution_count": 24,
     "metadata": {},
     "output_type": "execute_result"
    }
   ],
   "source": [
    "df.columns"
   ]
  },
  {
   "cell_type": "code",
   "execution_count": 25,
   "id": "0af2f535",
   "metadata": {},
   "outputs": [
    {
     "data": {
      "text/html": [
       "<div>\n",
       "<style scoped>\n",
       "    .dataframe tbody tr th:only-of-type {\n",
       "        vertical-align: middle;\n",
       "    }\n",
       "\n",
       "    .dataframe tbody tr th {\n",
       "        vertical-align: top;\n",
       "    }\n",
       "\n",
       "    .dataframe thead th {\n",
       "        text-align: right;\n",
       "    }\n",
       "</style>\n",
       "<table border=\"1\" class=\"dataframe\">\n",
       "  <thead>\n",
       "    <tr style=\"text-align: right;\">\n",
       "      <th></th>\n",
       "      <th>Location</th>\n",
       "      <th>Year</th>\n",
       "      <th>Kilometers_Driven</th>\n",
       "      <th>Fuel_Type</th>\n",
       "      <th>Transmission</th>\n",
       "      <th>Owner_Type</th>\n",
       "      <th>Power</th>\n",
       "      <th>Seats</th>\n",
       "      <th>New_Price</th>\n",
       "      <th>Price</th>\n",
       "      <th>Manufacture</th>\n",
       "      <th>Model</th>\n",
       "      <th>Mileage_car</th>\n",
       "      <th>Mileage_Units</th>\n",
       "      <th>Engine_CC</th>\n",
       "    </tr>\n",
       "  </thead>\n",
       "  <tbody>\n",
       "    <tr>\n",
       "      <th>0</th>\n",
       "      <td>Mumbai</td>\n",
       "      <td>2010</td>\n",
       "      <td>72000</td>\n",
       "      <td>CNG</td>\n",
       "      <td>Manual</td>\n",
       "      <td>First</td>\n",
       "      <td>58.16 bhp</td>\n",
       "      <td>5.0</td>\n",
       "      <td>None</td>\n",
       "      <td>1.75</td>\n",
       "      <td>Maruti</td>\n",
       "      <td>Wagon R LXI CNG</td>\n",
       "      <td>26.6</td>\n",
       "      <td>km/kg</td>\n",
       "      <td>998</td>\n",
       "    </tr>\n",
       "    <tr>\n",
       "      <th>1</th>\n",
       "      <td>Pune</td>\n",
       "      <td>2015</td>\n",
       "      <td>41000</td>\n",
       "      <td>Diesel</td>\n",
       "      <td>Manual</td>\n",
       "      <td>First</td>\n",
       "      <td>126.2 bhp</td>\n",
       "      <td>5.0</td>\n",
       "      <td>None</td>\n",
       "      <td>12.50</td>\n",
       "      <td>Hyundai</td>\n",
       "      <td>Creta 1.6 CRDi SX Option</td>\n",
       "      <td>19.67</td>\n",
       "      <td>kmpl</td>\n",
       "      <td>1582</td>\n",
       "    </tr>\n",
       "  </tbody>\n",
       "</table>\n",
       "</div>"
      ],
      "text/plain": [
       "  Location  Year  Kilometers_Driven Fuel_Type Transmission Owner_Type  \\\n",
       "0   Mumbai  2010              72000       CNG       Manual      First   \n",
       "1     Pune  2015              41000    Diesel       Manual      First   \n",
       "\n",
       "       Power  Seats New_Price  Price Manufacture                     Model  \\\n",
       "0  58.16 bhp    5.0      None   1.75      Maruti           Wagon R LXI CNG   \n",
       "1  126.2 bhp    5.0      None  12.50     Hyundai  Creta 1.6 CRDi SX Option   \n",
       "\n",
       "  Mileage_car Mileage_Units Engine_CC  \n",
       "0        26.6         km/kg       998  \n",
       "1       19.67          kmpl      1582  "
      ]
     },
     "execution_count": 25,
     "metadata": {},
     "output_type": "execute_result"
    }
   ],
   "source": [
    "df.head(2)"
   ]
  },
  {
   "cell_type": "markdown",
   "id": "ab01e204",
   "metadata": {},
   "source": [
    "## Power column value conists of number with units. All values are having Same Units That's why we are going to rename the column name and removing units"
   ]
  },
  {
   "cell_type": "code",
   "execution_count": 26,
   "id": "9786c0d4",
   "metadata": {},
   "outputs": [
    {
     "name": "stderr",
     "output_type": "stream",
     "text": [
      "C:\\Users\\divesh\\AppData\\Local\\Temp\\ipykernel_25992\\585262255.py:1: FutureWarning: In a future version of pandas all arguments of StringMethods.split except for the argument 'pat' will be keyword-only.\n",
      "  df[['Power_bhp', 'Power_Units']] = df['Power'].str.split(' ', 1, expand=True)\n"
     ]
    }
   ],
   "source": [
    "df[['Power_bhp', 'Power_Units']] = df['Power'].str.split(' ', 1, expand=True)"
   ]
  },
  {
   "cell_type": "code",
   "execution_count": 27,
   "id": "4a6e9ea7",
   "metadata": {},
   "outputs": [
    {
     "data": {
      "text/plain": [
       "Index(['Location', 'Year', 'Kilometers_Driven', 'Fuel_Type', 'Transmission',\n",
       "       'Owner_Type', 'Power', 'Seats', 'New_Price', 'Price', 'Manufacture',\n",
       "       'Model', 'Mileage_car', 'Mileage_Units', 'Engine_CC', 'Power_bhp',\n",
       "       'Power_Units'],\n",
       "      dtype='object')"
      ]
     },
     "execution_count": 27,
     "metadata": {},
     "output_type": "execute_result"
    }
   ],
   "source": [
    "df.columns"
   ]
  },
  {
   "cell_type": "code",
   "execution_count": 28,
   "id": "2ab11008",
   "metadata": {},
   "outputs": [],
   "source": [
    "df.drop(['Power'], inplace=True, axis=1)\n",
    "df.drop(['Power_Units'], inplace=True, axis=1)"
   ]
  },
  {
   "cell_type": "code",
   "execution_count": 29,
   "id": "5e11fc33",
   "metadata": {},
   "outputs": [
    {
     "data": {
      "text/plain": [
       "Index(['Location', 'Year', 'Kilometers_Driven', 'Fuel_Type', 'Transmission',\n",
       "       'Owner_Type', 'Seats', 'New_Price', 'Price', 'Manufacture', 'Model',\n",
       "       'Mileage_car', 'Mileage_Units', 'Engine_CC', 'Power_bhp'],\n",
       "      dtype='object')"
      ]
     },
     "execution_count": 29,
     "metadata": {},
     "output_type": "execute_result"
    }
   ],
   "source": [
    "df.columns"
   ]
  },
  {
   "cell_type": "code",
   "execution_count": 30,
   "id": "36d90a72",
   "metadata": {},
   "outputs": [
    {
     "data": {
      "text/html": [
       "<div>\n",
       "<style scoped>\n",
       "    .dataframe tbody tr th:only-of-type {\n",
       "        vertical-align: middle;\n",
       "    }\n",
       "\n",
       "    .dataframe tbody tr th {\n",
       "        vertical-align: top;\n",
       "    }\n",
       "\n",
       "    .dataframe thead th {\n",
       "        text-align: right;\n",
       "    }\n",
       "</style>\n",
       "<table border=\"1\" class=\"dataframe\">\n",
       "  <thead>\n",
       "    <tr style=\"text-align: right;\">\n",
       "      <th></th>\n",
       "      <th>Location</th>\n",
       "      <th>Year</th>\n",
       "      <th>Kilometers_Driven</th>\n",
       "      <th>Fuel_Type</th>\n",
       "      <th>Transmission</th>\n",
       "      <th>Owner_Type</th>\n",
       "      <th>Seats</th>\n",
       "      <th>New_Price</th>\n",
       "      <th>Price</th>\n",
       "      <th>Manufacture</th>\n",
       "      <th>Model</th>\n",
       "      <th>Mileage_car</th>\n",
       "      <th>Mileage_Units</th>\n",
       "      <th>Engine_CC</th>\n",
       "      <th>Power_bhp</th>\n",
       "    </tr>\n",
       "  </thead>\n",
       "  <tbody>\n",
       "    <tr>\n",
       "      <th>0</th>\n",
       "      <td>Mumbai</td>\n",
       "      <td>2010</td>\n",
       "      <td>72000</td>\n",
       "      <td>CNG</td>\n",
       "      <td>Manual</td>\n",
       "      <td>First</td>\n",
       "      <td>5.0</td>\n",
       "      <td>None</td>\n",
       "      <td>1.75</td>\n",
       "      <td>Maruti</td>\n",
       "      <td>Wagon R LXI CNG</td>\n",
       "      <td>26.6</td>\n",
       "      <td>km/kg</td>\n",
       "      <td>998</td>\n",
       "      <td>58.16</td>\n",
       "    </tr>\n",
       "    <tr>\n",
       "      <th>1</th>\n",
       "      <td>Pune</td>\n",
       "      <td>2015</td>\n",
       "      <td>41000</td>\n",
       "      <td>Diesel</td>\n",
       "      <td>Manual</td>\n",
       "      <td>First</td>\n",
       "      <td>5.0</td>\n",
       "      <td>None</td>\n",
       "      <td>12.50</td>\n",
       "      <td>Hyundai</td>\n",
       "      <td>Creta 1.6 CRDi SX Option</td>\n",
       "      <td>19.67</td>\n",
       "      <td>kmpl</td>\n",
       "      <td>1582</td>\n",
       "      <td>126.2</td>\n",
       "    </tr>\n",
       "    <tr>\n",
       "      <th>2</th>\n",
       "      <td>Chennai</td>\n",
       "      <td>2011</td>\n",
       "      <td>46000</td>\n",
       "      <td>Petrol</td>\n",
       "      <td>Manual</td>\n",
       "      <td>First</td>\n",
       "      <td>5.0</td>\n",
       "      <td>8.61 Lakh</td>\n",
       "      <td>4.50</td>\n",
       "      <td>Honda</td>\n",
       "      <td>Jazz V</td>\n",
       "      <td>18.2</td>\n",
       "      <td>kmpl</td>\n",
       "      <td>1199</td>\n",
       "      <td>88.7</td>\n",
       "    </tr>\n",
       "    <tr>\n",
       "      <th>3</th>\n",
       "      <td>Chennai</td>\n",
       "      <td>2012</td>\n",
       "      <td>87000</td>\n",
       "      <td>Diesel</td>\n",
       "      <td>Manual</td>\n",
       "      <td>First</td>\n",
       "      <td>7.0</td>\n",
       "      <td>None</td>\n",
       "      <td>6.00</td>\n",
       "      <td>Maruti</td>\n",
       "      <td>Ertiga VDI</td>\n",
       "      <td>20.77</td>\n",
       "      <td>kmpl</td>\n",
       "      <td>1248</td>\n",
       "      <td>88.76</td>\n",
       "    </tr>\n",
       "    <tr>\n",
       "      <th>4</th>\n",
       "      <td>Coimbatore</td>\n",
       "      <td>2013</td>\n",
       "      <td>40670</td>\n",
       "      <td>Diesel</td>\n",
       "      <td>Automatic</td>\n",
       "      <td>Second</td>\n",
       "      <td>5.0</td>\n",
       "      <td>None</td>\n",
       "      <td>17.74</td>\n",
       "      <td>Audi</td>\n",
       "      <td>A4 New 2.0 TDI Multitronic</td>\n",
       "      <td>15.2</td>\n",
       "      <td>kmpl</td>\n",
       "      <td>1968</td>\n",
       "      <td>140.8</td>\n",
       "    </tr>\n",
       "  </tbody>\n",
       "</table>\n",
       "</div>"
      ],
      "text/plain": [
       "     Location  Year  Kilometers_Driven Fuel_Type Transmission Owner_Type  \\\n",
       "0      Mumbai  2010              72000       CNG       Manual      First   \n",
       "1        Pune  2015              41000    Diesel       Manual      First   \n",
       "2     Chennai  2011              46000    Petrol       Manual      First   \n",
       "3     Chennai  2012              87000    Diesel       Manual      First   \n",
       "4  Coimbatore  2013              40670    Diesel    Automatic     Second   \n",
       "\n",
       "   Seats  New_Price  Price Manufacture                       Model  \\\n",
       "0    5.0       None   1.75      Maruti             Wagon R LXI CNG   \n",
       "1    5.0       None  12.50     Hyundai    Creta 1.6 CRDi SX Option   \n",
       "2    5.0  8.61 Lakh   4.50       Honda                      Jazz V   \n",
       "3    7.0       None   6.00      Maruti                  Ertiga VDI   \n",
       "4    5.0       None  17.74        Audi  A4 New 2.0 TDI Multitronic   \n",
       "\n",
       "  Mileage_car Mileage_Units Engine_CC Power_bhp  \n",
       "0        26.6         km/kg       998     58.16  \n",
       "1       19.67          kmpl      1582     126.2  \n",
       "2        18.2          kmpl      1199      88.7  \n",
       "3       20.77          kmpl      1248     88.76  \n",
       "4        15.2          kmpl      1968     140.8  "
      ]
     },
     "execution_count": 30,
     "metadata": {},
     "output_type": "execute_result"
    }
   ],
   "source": [
    "df.head()"
   ]
  },
  {
   "cell_type": "markdown",
   "id": "e6349198",
   "metadata": {},
   "source": [
    "## New_Price Column having morethan 50% null values. Dropping New_Price Column"
   ]
  },
  {
   "cell_type": "code",
   "execution_count": 31,
   "id": "93b526fe",
   "metadata": {},
   "outputs": [],
   "source": [
    "df.drop(['New_Price'], inplace=True, axis=1)"
   ]
  },
  {
   "cell_type": "markdown",
   "id": "e9b4a99e",
   "metadata": {},
   "source": [
    "## Finding Null Values"
   ]
  },
  {
   "cell_type": "code",
   "execution_count": 32,
   "id": "9c61b85b",
   "metadata": {},
   "outputs": [
    {
     "data": {
      "text/plain": [
       "1383"
      ]
     },
     "execution_count": 32,
     "metadata": {},
     "output_type": "execute_result"
    }
   ],
   "source": [
    "df.isnull().sum().sum()"
   ]
  },
  {
   "cell_type": "markdown",
   "id": "f810d49c",
   "metadata": {},
   "source": [
    "## Replace nan with None"
   ]
  },
  {
   "cell_type": "code",
   "execution_count": 33,
   "id": "84e81415",
   "metadata": {},
   "outputs": [],
   "source": [
    "df = df.replace({np.nan: None})"
   ]
  },
  {
   "cell_type": "markdown",
   "id": "e4e12d29",
   "metadata": {},
   "source": [
    "## Finding column datatypes and column names"
   ]
  },
  {
   "cell_type": "code",
   "execution_count": 34,
   "id": "3feb5d18",
   "metadata": {},
   "outputs": [
    {
     "data": {
      "text/plain": [
       "Location             object\n",
       "Year                  int64\n",
       "Kilometers_Driven     int64\n",
       "Fuel_Type            object\n",
       "Transmission         object\n",
       "Owner_Type           object\n",
       "Seats                object\n",
       "Price                object\n",
       "Manufacture          object\n",
       "Model                object\n",
       "Mileage_car          object\n",
       "Mileage_Units        object\n",
       "Engine_CC            object\n",
       "Power_bhp            object\n",
       "dtype: object"
      ]
     },
     "execution_count": 34,
     "metadata": {},
     "output_type": "execute_result"
    }
   ],
   "source": [
    "df.dtypes"
   ]
  },
  {
   "cell_type": "markdown",
   "id": "b28fb8cc",
   "metadata": {},
   "source": [
    "## Changing the Datatypes of Seats and Price"
   ]
  },
  {
   "cell_type": "code",
   "execution_count": 35,
   "id": "efbc7aca",
   "metadata": {},
   "outputs": [],
   "source": [
    "df['Seats'] = df['Seats'].astype(float)\n",
    "df['Price'] = df['Price'].astype(float)"
   ]
  },
  {
   "cell_type": "markdown",
   "id": "93d2fd7c",
   "metadata": {},
   "source": [
    "## Working on Seats Column"
   ]
  },
  {
   "cell_type": "code",
   "execution_count": 36,
   "id": "433d692b",
   "metadata": {},
   "outputs": [
    {
     "data": {
      "text/plain": [
       "5.0     6047\n",
       "7.0      796\n",
       "8.0      170\n",
       "4.0      119\n",
       "6.0       38\n",
       "2.0       18\n",
       "10.0       8\n",
       "9.0        3\n",
       "0.0        1\n",
       "Name: Seats, dtype: int64"
      ]
     },
     "execution_count": 36,
     "metadata": {},
     "output_type": "execute_result"
    }
   ],
   "source": [
    "df['Seats'].value_counts()"
   ]
  },
  {
   "cell_type": "code",
   "execution_count": 37,
   "id": "d3e8783c",
   "metadata": {},
   "outputs": [
    {
     "data": {
      "text/html": [
       "<div>\n",
       "<style scoped>\n",
       "    .dataframe tbody tr th:only-of-type {\n",
       "        vertical-align: middle;\n",
       "    }\n",
       "\n",
       "    .dataframe tbody tr th {\n",
       "        vertical-align: top;\n",
       "    }\n",
       "\n",
       "    .dataframe thead th {\n",
       "        text-align: right;\n",
       "    }\n",
       "</style>\n",
       "<table border=\"1\" class=\"dataframe\">\n",
       "  <thead>\n",
       "    <tr style=\"text-align: right;\">\n",
       "      <th></th>\n",
       "      <th>Location</th>\n",
       "      <th>Year</th>\n",
       "      <th>Kilometers_Driven</th>\n",
       "      <th>Fuel_Type</th>\n",
       "      <th>Transmission</th>\n",
       "      <th>Owner_Type</th>\n",
       "      <th>Seats</th>\n",
       "      <th>Price</th>\n",
       "      <th>Manufacture</th>\n",
       "      <th>Model</th>\n",
       "      <th>Mileage_car</th>\n",
       "      <th>Mileage_Units</th>\n",
       "      <th>Engine_CC</th>\n",
       "      <th>Power_bhp</th>\n",
       "    </tr>\n",
       "  </thead>\n",
       "  <tbody>\n",
       "    <tr>\n",
       "      <th>3999</th>\n",
       "      <td>Hyderabad</td>\n",
       "      <td>2012</td>\n",
       "      <td>125000</td>\n",
       "      <td>Petrol</td>\n",
       "      <td>Automatic</td>\n",
       "      <td>First</td>\n",
       "      <td>0.0</td>\n",
       "      <td>18.0</td>\n",
       "      <td>Audi</td>\n",
       "      <td>A4 3.2 FSI Tiptronic Quattro</td>\n",
       "      <td>10.5</td>\n",
       "      <td>kmpl</td>\n",
       "      <td>3197</td>\n",
       "      <td>null</td>\n",
       "    </tr>\n",
       "  </tbody>\n",
       "</table>\n",
       "</div>"
      ],
      "text/plain": [
       "       Location  Year  Kilometers_Driven Fuel_Type Transmission Owner_Type  \\\n",
       "3999  Hyderabad  2012             125000    Petrol    Automatic      First   \n",
       "\n",
       "      Seats  Price Manufacture                         Model Mileage_car  \\\n",
       "3999    0.0   18.0        Audi  A4 3.2 FSI Tiptronic Quattro        10.5   \n",
       "\n",
       "     Mileage_Units Engine_CC Power_bhp  \n",
       "3999          kmpl      3197      null  "
      ]
     },
     "execution_count": 37,
     "metadata": {},
     "output_type": "execute_result"
    }
   ],
   "source": [
    "df[df['Seats']==0.0]"
   ]
  },
  {
   "cell_type": "markdown",
   "id": "14c605da",
   "metadata": {},
   "source": [
    "#### Note*: Audi A4 having 5.0 seats so, we are placing 0.0 with 5.0"
   ]
  },
  {
   "cell_type": "code",
   "execution_count": 38,
   "id": "be1708e8",
   "metadata": {},
   "outputs": [],
   "source": [
    "df['Seats'] = df['Seats'].replace({0.0: 5.0})"
   ]
  },
  {
   "cell_type": "code",
   "execution_count": 39,
   "id": "11b840d1",
   "metadata": {},
   "outputs": [
    {
     "data": {
      "text/plain": [
       "5.0     6048\n",
       "7.0      796\n",
       "8.0      170\n",
       "4.0      119\n",
       "6.0       38\n",
       "2.0       18\n",
       "10.0       8\n",
       "9.0        3\n",
       "Name: Seats, dtype: int64"
      ]
     },
     "execution_count": 39,
     "metadata": {},
     "output_type": "execute_result"
    }
   ],
   "source": [
    "df['Seats'].value_counts()"
   ]
  },
  {
   "cell_type": "markdown",
   "id": "03c60ec9",
   "metadata": {},
   "source": [
    "### Handling Null values in Seats Column"
   ]
  },
  {
   "cell_type": "code",
   "execution_count": 40,
   "id": "60e1d37d",
   "metadata": {},
   "outputs": [
    {
     "data": {
      "text/html": [
       "<div>\n",
       "<style scoped>\n",
       "    .dataframe tbody tr th:only-of-type {\n",
       "        vertical-align: middle;\n",
       "    }\n",
       "\n",
       "    .dataframe tbody tr th {\n",
       "        vertical-align: top;\n",
       "    }\n",
       "\n",
       "    .dataframe thead th {\n",
       "        text-align: right;\n",
       "    }\n",
       "</style>\n",
       "<table border=\"1\" class=\"dataframe\">\n",
       "  <thead>\n",
       "    <tr style=\"text-align: right;\">\n",
       "      <th></th>\n",
       "      <th>Location</th>\n",
       "      <th>Year</th>\n",
       "      <th>Kilometers_Driven</th>\n",
       "      <th>Fuel_Type</th>\n",
       "      <th>Transmission</th>\n",
       "      <th>Owner_Type</th>\n",
       "      <th>Seats</th>\n",
       "      <th>Price</th>\n",
       "      <th>Manufacture</th>\n",
       "      <th>Model</th>\n",
       "      <th>Mileage_car</th>\n",
       "      <th>Mileage_Units</th>\n",
       "      <th>Engine_CC</th>\n",
       "      <th>Power_bhp</th>\n",
       "    </tr>\n",
       "  </thead>\n",
       "  <tbody>\n",
       "    <tr>\n",
       "      <th>194</th>\n",
       "      <td>Ahmedabad</td>\n",
       "      <td>2007</td>\n",
       "      <td>60006</td>\n",
       "      <td>Petrol</td>\n",
       "      <td>Manual</td>\n",
       "      <td>First</td>\n",
       "      <td>NaN</td>\n",
       "      <td>2.95</td>\n",
       "      <td>Honda</td>\n",
       "      <td>City 1.5 GXI</td>\n",
       "      <td>0.0</td>\n",
       "      <td>kmpl</td>\n",
       "      <td>None</td>\n",
       "      <td>None</td>\n",
       "    </tr>\n",
       "    <tr>\n",
       "      <th>208</th>\n",
       "      <td>Kolkata</td>\n",
       "      <td>2010</td>\n",
       "      <td>42001</td>\n",
       "      <td>Petrol</td>\n",
       "      <td>Manual</td>\n",
       "      <td>First</td>\n",
       "      <td>NaN</td>\n",
       "      <td>2.11</td>\n",
       "      <td>Maruti</td>\n",
       "      <td>Swift 1.3 VXi</td>\n",
       "      <td>16.1</td>\n",
       "      <td>kmpl</td>\n",
       "      <td>None</td>\n",
       "      <td>None</td>\n",
       "    </tr>\n",
       "    <tr>\n",
       "      <th>229</th>\n",
       "      <td>Bangalore</td>\n",
       "      <td>2015</td>\n",
       "      <td>70436</td>\n",
       "      <td>Diesel</td>\n",
       "      <td>Manual</td>\n",
       "      <td>First</td>\n",
       "      <td>NaN</td>\n",
       "      <td>3.60</td>\n",
       "      <td>Ford</td>\n",
       "      <td>Figo Diesel</td>\n",
       "      <td>0.0</td>\n",
       "      <td>kmpl</td>\n",
       "      <td>1498</td>\n",
       "      <td>99</td>\n",
       "    </tr>\n",
       "    <tr>\n",
       "      <th>733</th>\n",
       "      <td>Chennai</td>\n",
       "      <td>2006</td>\n",
       "      <td>97800</td>\n",
       "      <td>Petrol</td>\n",
       "      <td>Manual</td>\n",
       "      <td>Third</td>\n",
       "      <td>NaN</td>\n",
       "      <td>1.75</td>\n",
       "      <td>Maruti</td>\n",
       "      <td>Swift 1.3 VXi</td>\n",
       "      <td>16.1</td>\n",
       "      <td>kmpl</td>\n",
       "      <td>None</td>\n",
       "      <td>None</td>\n",
       "    </tr>\n",
       "    <tr>\n",
       "      <th>749</th>\n",
       "      <td>Mumbai</td>\n",
       "      <td>2008</td>\n",
       "      <td>55001</td>\n",
       "      <td>Diesel</td>\n",
       "      <td>Automatic</td>\n",
       "      <td>Second</td>\n",
       "      <td>NaN</td>\n",
       "      <td>26.50</td>\n",
       "      <td>Land</td>\n",
       "      <td>Rover Range Rover 3.0 D</td>\n",
       "      <td>0.0</td>\n",
       "      <td>kmpl</td>\n",
       "      <td>None</td>\n",
       "      <td>None</td>\n",
       "    </tr>\n",
       "    <tr>\n",
       "      <th>1294</th>\n",
       "      <td>Delhi</td>\n",
       "      <td>2009</td>\n",
       "      <td>55005</td>\n",
       "      <td>Petrol</td>\n",
       "      <td>Manual</td>\n",
       "      <td>First</td>\n",
       "      <td>NaN</td>\n",
       "      <td>3.20</td>\n",
       "      <td>Honda</td>\n",
       "      <td>City 1.3 DX</td>\n",
       "      <td>12.8</td>\n",
       "      <td>kmpl</td>\n",
       "      <td>None</td>\n",
       "      <td>None</td>\n",
       "    </tr>\n",
       "    <tr>\n",
       "      <th>1327</th>\n",
       "      <td>Hyderabad</td>\n",
       "      <td>2015</td>\n",
       "      <td>50295</td>\n",
       "      <td>Petrol</td>\n",
       "      <td>Manual</td>\n",
       "      <td>First</td>\n",
       "      <td>NaN</td>\n",
       "      <td>5.80</td>\n",
       "      <td>Maruti</td>\n",
       "      <td>Swift 1.3 ZXI</td>\n",
       "      <td>16.1</td>\n",
       "      <td>kmpl</td>\n",
       "      <td>None</td>\n",
       "      <td>None</td>\n",
       "    </tr>\n",
       "    <tr>\n",
       "      <th>1385</th>\n",
       "      <td>Pune</td>\n",
       "      <td>2004</td>\n",
       "      <td>115000</td>\n",
       "      <td>Petrol</td>\n",
       "      <td>Manual</td>\n",
       "      <td>Second</td>\n",
       "      <td>NaN</td>\n",
       "      <td>1.50</td>\n",
       "      <td>Honda</td>\n",
       "      <td>City 1.5 GXI</td>\n",
       "      <td>0.0</td>\n",
       "      <td>kmpl</td>\n",
       "      <td>None</td>\n",
       "      <td>None</td>\n",
       "    </tr>\n",
       "    <tr>\n",
       "      <th>1460</th>\n",
       "      <td>Coimbatore</td>\n",
       "      <td>2008</td>\n",
       "      <td>69078</td>\n",
       "      <td>Petrol</td>\n",
       "      <td>Manual</td>\n",
       "      <td>First</td>\n",
       "      <td>NaN</td>\n",
       "      <td>40.88</td>\n",
       "      <td>Land</td>\n",
       "      <td>Rover Range Rover Sport 2005 2012 Sport</td>\n",
       "      <td>0.0</td>\n",
       "      <td>kmpl</td>\n",
       "      <td>None</td>\n",
       "      <td>None</td>\n",
       "    </tr>\n",
       "    <tr>\n",
       "      <th>1917</th>\n",
       "      <td>Jaipur</td>\n",
       "      <td>2005</td>\n",
       "      <td>88000</td>\n",
       "      <td>Petrol</td>\n",
       "      <td>Manual</td>\n",
       "      <td>Second</td>\n",
       "      <td>NaN</td>\n",
       "      <td>1.70</td>\n",
       "      <td>Honda</td>\n",
       "      <td>City 1.5 EXI</td>\n",
       "      <td>13.0</td>\n",
       "      <td>kmpl</td>\n",
       "      <td>1493</td>\n",
       "      <td>100</td>\n",
       "    </tr>\n",
       "    <tr>\n",
       "      <th>2074</th>\n",
       "      <td>Pune</td>\n",
       "      <td>2011</td>\n",
       "      <td>24255</td>\n",
       "      <td>Petrol</td>\n",
       "      <td>Manual</td>\n",
       "      <td>First</td>\n",
       "      <td>NaN</td>\n",
       "      <td>3.15</td>\n",
       "      <td>Maruti</td>\n",
       "      <td>Swift 1.3 LXI</td>\n",
       "      <td>16.1</td>\n",
       "      <td>kmpl</td>\n",
       "      <td>None</td>\n",
       "      <td>None</td>\n",
       "    </tr>\n",
       "    <tr>\n",
       "      <th>2096</th>\n",
       "      <td>Coimbatore</td>\n",
       "      <td>2004</td>\n",
       "      <td>52146</td>\n",
       "      <td>Petrol</td>\n",
       "      <td>Manual</td>\n",
       "      <td>First</td>\n",
       "      <td>NaN</td>\n",
       "      <td>1.93</td>\n",
       "      <td>Hyundai</td>\n",
       "      <td>Santro LP zipPlus</td>\n",
       "      <td>0.0</td>\n",
       "      <td>kmpl</td>\n",
       "      <td>None</td>\n",
       "      <td>None</td>\n",
       "    </tr>\n",
       "    <tr>\n",
       "      <th>2264</th>\n",
       "      <td>Pune</td>\n",
       "      <td>2012</td>\n",
       "      <td>24500</td>\n",
       "      <td>Petrol</td>\n",
       "      <td>Manual</td>\n",
       "      <td>Second</td>\n",
       "      <td>NaN</td>\n",
       "      <td>2.95</td>\n",
       "      <td>Toyota</td>\n",
       "      <td>Etios Liva V</td>\n",
       "      <td>18.3</td>\n",
       "      <td>kmpl</td>\n",
       "      <td>None</td>\n",
       "      <td>None</td>\n",
       "    </tr>\n",
       "    <tr>\n",
       "      <th>2325</th>\n",
       "      <td>Pune</td>\n",
       "      <td>2015</td>\n",
       "      <td>67000</td>\n",
       "      <td>Petrol</td>\n",
       "      <td>Manual</td>\n",
       "      <td>First</td>\n",
       "      <td>NaN</td>\n",
       "      <td>4.70</td>\n",
       "      <td>Maruti</td>\n",
       "      <td>Swift 1.3 VXI ABS</td>\n",
       "      <td>16.1</td>\n",
       "      <td>kmpl</td>\n",
       "      <td>None</td>\n",
       "      <td>None</td>\n",
       "    </tr>\n",
       "    <tr>\n",
       "      <th>2335</th>\n",
       "      <td>Mumbai</td>\n",
       "      <td>2007</td>\n",
       "      <td>55000</td>\n",
       "      <td>Petrol</td>\n",
       "      <td>Manual</td>\n",
       "      <td>Second</td>\n",
       "      <td>NaN</td>\n",
       "      <td>1.75</td>\n",
       "      <td>Maruti</td>\n",
       "      <td>Swift 1.3 VXi</td>\n",
       "      <td>16.1</td>\n",
       "      <td>kmpl</td>\n",
       "      <td>None</td>\n",
       "      <td>None</td>\n",
       "    </tr>\n",
       "    <tr>\n",
       "      <th>2369</th>\n",
       "      <td>Chennai</td>\n",
       "      <td>2008</td>\n",
       "      <td>56000</td>\n",
       "      <td>Petrol</td>\n",
       "      <td>Manual</td>\n",
       "      <td>Second</td>\n",
       "      <td>NaN</td>\n",
       "      <td>1.50</td>\n",
       "      <td>Maruti</td>\n",
       "      <td>Estilo LXI</td>\n",
       "      <td>19.5</td>\n",
       "      <td>kmpl</td>\n",
       "      <td>1061</td>\n",
       "      <td>null</td>\n",
       "    </tr>\n",
       "    <tr>\n",
       "      <th>2530</th>\n",
       "      <td>Kochi</td>\n",
       "      <td>2014</td>\n",
       "      <td>64158</td>\n",
       "      <td>Diesel</td>\n",
       "      <td>Automatic</td>\n",
       "      <td>First</td>\n",
       "      <td>NaN</td>\n",
       "      <td>17.89</td>\n",
       "      <td>BMW</td>\n",
       "      <td>5 Series 520d Sedan</td>\n",
       "      <td>18.48</td>\n",
       "      <td>kmpl</td>\n",
       "      <td>None</td>\n",
       "      <td>None</td>\n",
       "    </tr>\n",
       "    <tr>\n",
       "      <th>2542</th>\n",
       "      <td>Bangalore</td>\n",
       "      <td>2011</td>\n",
       "      <td>65000</td>\n",
       "      <td>Petrol</td>\n",
       "      <td>Manual</td>\n",
       "      <td>Second</td>\n",
       "      <td>NaN</td>\n",
       "      <td>3.15</td>\n",
       "      <td>Hyundai</td>\n",
       "      <td>Santro GLS II - Euro II</td>\n",
       "      <td>0.0</td>\n",
       "      <td>kmpl</td>\n",
       "      <td>None</td>\n",
       "      <td>None</td>\n",
       "    </tr>\n",
       "    <tr>\n",
       "      <th>2623</th>\n",
       "      <td>Pune</td>\n",
       "      <td>2012</td>\n",
       "      <td>95000</td>\n",
       "      <td>Diesel</td>\n",
       "      <td>Automatic</td>\n",
       "      <td>Second</td>\n",
       "      <td>NaN</td>\n",
       "      <td>18.00</td>\n",
       "      <td>BMW</td>\n",
       "      <td>5 Series 520d Sedan</td>\n",
       "      <td>18.48</td>\n",
       "      <td>kmpl</td>\n",
       "      <td>None</td>\n",
       "      <td>None</td>\n",
       "    </tr>\n",
       "    <tr>\n",
       "      <th>2668</th>\n",
       "      <td>Kolkata</td>\n",
       "      <td>2014</td>\n",
       "      <td>32986</td>\n",
       "      <td>Petrol</td>\n",
       "      <td>Manual</td>\n",
       "      <td>First</td>\n",
       "      <td>NaN</td>\n",
       "      <td>4.24</td>\n",
       "      <td>Maruti</td>\n",
       "      <td>Swift 1.3 VXi</td>\n",
       "      <td>16.1</td>\n",
       "      <td>kmpl</td>\n",
       "      <td>None</td>\n",
       "      <td>None</td>\n",
       "    </tr>\n",
       "    <tr>\n",
       "      <th>2737</th>\n",
       "      <td>Jaipur</td>\n",
       "      <td>2001</td>\n",
       "      <td>200000</td>\n",
       "      <td>Petrol</td>\n",
       "      <td>Manual</td>\n",
       "      <td>First</td>\n",
       "      <td>NaN</td>\n",
       "      <td>0.70</td>\n",
       "      <td>Maruti</td>\n",
       "      <td>Wagon R Vx</td>\n",
       "      <td>12.0</td>\n",
       "      <td>kmpl</td>\n",
       "      <td>None</td>\n",
       "      <td>None</td>\n",
       "    </tr>\n",
       "    <tr>\n",
       "      <th>2780</th>\n",
       "      <td>Pune</td>\n",
       "      <td>2009</td>\n",
       "      <td>100000</td>\n",
       "      <td>Petrol</td>\n",
       "      <td>Manual</td>\n",
       "      <td>First</td>\n",
       "      <td>NaN</td>\n",
       "      <td>1.60</td>\n",
       "      <td>Hyundai</td>\n",
       "      <td>Santro GLS II - Euro II</td>\n",
       "      <td>0.0</td>\n",
       "      <td>kmpl</td>\n",
       "      <td>None</td>\n",
       "      <td>None</td>\n",
       "    </tr>\n",
       "    <tr>\n",
       "      <th>2842</th>\n",
       "      <td>Bangalore</td>\n",
       "      <td>2012</td>\n",
       "      <td>43000</td>\n",
       "      <td>Petrol</td>\n",
       "      <td>Manual</td>\n",
       "      <td>First</td>\n",
       "      <td>NaN</td>\n",
       "      <td>3.25</td>\n",
       "      <td>Hyundai</td>\n",
       "      <td>Santro GLS II - Euro II</td>\n",
       "      <td>0.0</td>\n",
       "      <td>kmpl</td>\n",
       "      <td>None</td>\n",
       "      <td>None</td>\n",
       "    </tr>\n",
       "    <tr>\n",
       "      <th>3272</th>\n",
       "      <td>Mumbai</td>\n",
       "      <td>2008</td>\n",
       "      <td>81000</td>\n",
       "      <td>Diesel</td>\n",
       "      <td>Automatic</td>\n",
       "      <td>Second</td>\n",
       "      <td>NaN</td>\n",
       "      <td>10.50</td>\n",
       "      <td>BMW</td>\n",
       "      <td>5 Series 520d Sedan</td>\n",
       "      <td>18.48</td>\n",
       "      <td>kmpl</td>\n",
       "      <td>None</td>\n",
       "      <td>None</td>\n",
       "    </tr>\n",
       "    <tr>\n",
       "      <th>3404</th>\n",
       "      <td>Jaipur</td>\n",
       "      <td>2006</td>\n",
       "      <td>125000</td>\n",
       "      <td>Petrol</td>\n",
       "      <td>Manual</td>\n",
       "      <td>Fourth &amp; Above</td>\n",
       "      <td>NaN</td>\n",
       "      <td>2.35</td>\n",
       "      <td>Maruti</td>\n",
       "      <td>Swift 1.3 VXi</td>\n",
       "      <td>16.1</td>\n",
       "      <td>kmpl</td>\n",
       "      <td>None</td>\n",
       "      <td>None</td>\n",
       "    </tr>\n",
       "    <tr>\n",
       "      <th>3520</th>\n",
       "      <td>Delhi</td>\n",
       "      <td>2012</td>\n",
       "      <td>90000</td>\n",
       "      <td>Diesel</td>\n",
       "      <td>Automatic</td>\n",
       "      <td>First</td>\n",
       "      <td>NaN</td>\n",
       "      <td>14.50</td>\n",
       "      <td>BMW</td>\n",
       "      <td>5 Series 520d Sedan</td>\n",
       "      <td>18.48</td>\n",
       "      <td>kmpl</td>\n",
       "      <td>None</td>\n",
       "      <td>None</td>\n",
       "    </tr>\n",
       "    <tr>\n",
       "      <th>3522</th>\n",
       "      <td>Kochi</td>\n",
       "      <td>2012</td>\n",
       "      <td>66400</td>\n",
       "      <td>Petrol</td>\n",
       "      <td>Manual</td>\n",
       "      <td>First</td>\n",
       "      <td>NaN</td>\n",
       "      <td>2.66</td>\n",
       "      <td>Hyundai</td>\n",
       "      <td>Santro GLS II - Euro II</td>\n",
       "      <td>0.0</td>\n",
       "      <td>kmpl</td>\n",
       "      <td>None</td>\n",
       "      <td>None</td>\n",
       "    </tr>\n",
       "    <tr>\n",
       "      <th>3800</th>\n",
       "      <td>Mumbai</td>\n",
       "      <td>2012</td>\n",
       "      <td>129000</td>\n",
       "      <td>Diesel</td>\n",
       "      <td>Automatic</td>\n",
       "      <td>First</td>\n",
       "      <td>NaN</td>\n",
       "      <td>7.00</td>\n",
       "      <td>Ford</td>\n",
       "      <td>Endeavour Hurricane LE</td>\n",
       "      <td>12.8</td>\n",
       "      <td>kmpl</td>\n",
       "      <td>2953</td>\n",
       "      <td>null</td>\n",
       "    </tr>\n",
       "    <tr>\n",
       "      <th>3810</th>\n",
       "      <td>Kolkata</td>\n",
       "      <td>2013</td>\n",
       "      <td>27000</td>\n",
       "      <td>Petrol</td>\n",
       "      <td>Automatic</td>\n",
       "      <td>First</td>\n",
       "      <td>NaN</td>\n",
       "      <td>11.99</td>\n",
       "      <td>Honda</td>\n",
       "      <td>CR-V AT With Sun Roof</td>\n",
       "      <td>14.0</td>\n",
       "      <td>kmpl</td>\n",
       "      <td>None</td>\n",
       "      <td>None</td>\n",
       "    </tr>\n",
       "    <tr>\n",
       "      <th>3882</th>\n",
       "      <td>Kolkata</td>\n",
       "      <td>2010</td>\n",
       "      <td>40000</td>\n",
       "      <td>Petrol</td>\n",
       "      <td>Manual</td>\n",
       "      <td>Second</td>\n",
       "      <td>NaN</td>\n",
       "      <td>2.50</td>\n",
       "      <td>Maruti</td>\n",
       "      <td>Estilo LXI</td>\n",
       "      <td>19.5</td>\n",
       "      <td>kmpl</td>\n",
       "      <td>1061</td>\n",
       "      <td>null</td>\n",
       "    </tr>\n",
       "    <tr>\n",
       "      <th>4011</th>\n",
       "      <td>Pune</td>\n",
       "      <td>2011</td>\n",
       "      <td>45271</td>\n",
       "      <td>Diesel</td>\n",
       "      <td>Manual</td>\n",
       "      <td>First</td>\n",
       "      <td>NaN</td>\n",
       "      <td>2.60</td>\n",
       "      <td>Fiat</td>\n",
       "      <td>Punto 1.3 Emotion</td>\n",
       "      <td>20.3</td>\n",
       "      <td>kmpl</td>\n",
       "      <td>None</td>\n",
       "      <td>None</td>\n",
       "    </tr>\n",
       "    <tr>\n",
       "      <th>4152</th>\n",
       "      <td>Mumbai</td>\n",
       "      <td>2003</td>\n",
       "      <td>75000</td>\n",
       "      <td>Diesel</td>\n",
       "      <td>Automatic</td>\n",
       "      <td>Second</td>\n",
       "      <td>NaN</td>\n",
       "      <td>16.11</td>\n",
       "      <td>Land</td>\n",
       "      <td>Rover Range Rover 3.0 D</td>\n",
       "      <td>0.0</td>\n",
       "      <td>kmpl</td>\n",
       "      <td>None</td>\n",
       "      <td>None</td>\n",
       "    </tr>\n",
       "    <tr>\n",
       "      <th>4229</th>\n",
       "      <td>Bangalore</td>\n",
       "      <td>2005</td>\n",
       "      <td>79000</td>\n",
       "      <td>Petrol</td>\n",
       "      <td>Manual</td>\n",
       "      <td>Second</td>\n",
       "      <td>NaN</td>\n",
       "      <td>1.65</td>\n",
       "      <td>Hyundai</td>\n",
       "      <td>Santro Xing XG</td>\n",
       "      <td>17.0</td>\n",
       "      <td>kmpl</td>\n",
       "      <td>None</td>\n",
       "      <td>None</td>\n",
       "    </tr>\n",
       "    <tr>\n",
       "      <th>4577</th>\n",
       "      <td>Delhi</td>\n",
       "      <td>2012</td>\n",
       "      <td>72000</td>\n",
       "      <td>Diesel</td>\n",
       "      <td>Automatic</td>\n",
       "      <td>Third</td>\n",
       "      <td>NaN</td>\n",
       "      <td>13.85</td>\n",
       "      <td>BMW</td>\n",
       "      <td>5 Series 520d Sedan</td>\n",
       "      <td>18.48</td>\n",
       "      <td>kmpl</td>\n",
       "      <td>None</td>\n",
       "      <td>None</td>\n",
       "    </tr>\n",
       "    <tr>\n",
       "      <th>4604</th>\n",
       "      <td>Pune</td>\n",
       "      <td>2011</td>\n",
       "      <td>98000</td>\n",
       "      <td>Petrol</td>\n",
       "      <td>Manual</td>\n",
       "      <td>First</td>\n",
       "      <td>NaN</td>\n",
       "      <td>3.15</td>\n",
       "      <td>Honda</td>\n",
       "      <td>Jazz Select Edition</td>\n",
       "      <td>16.7</td>\n",
       "      <td>kmpl</td>\n",
       "      <td>None</td>\n",
       "      <td>None</td>\n",
       "    </tr>\n",
       "    <tr>\n",
       "      <th>4697</th>\n",
       "      <td>Kochi</td>\n",
       "      <td>2017</td>\n",
       "      <td>17941</td>\n",
       "      <td>Petrol</td>\n",
       "      <td>Manual</td>\n",
       "      <td>First</td>\n",
       "      <td>NaN</td>\n",
       "      <td>3.93</td>\n",
       "      <td>Fiat</td>\n",
       "      <td>Punto 1.2 Dynamic</td>\n",
       "      <td>15.7</td>\n",
       "      <td>kmpl</td>\n",
       "      <td>None</td>\n",
       "      <td>None</td>\n",
       "    </tr>\n",
       "    <tr>\n",
       "      <th>4712</th>\n",
       "      <td>Pune</td>\n",
       "      <td>2003</td>\n",
       "      <td>80000</td>\n",
       "      <td>Petrol</td>\n",
       "      <td>Manual</td>\n",
       "      <td>Second</td>\n",
       "      <td>NaN</td>\n",
       "      <td>0.90</td>\n",
       "      <td>Hyundai</td>\n",
       "      <td>Santro Xing XG</td>\n",
       "      <td>17.0</td>\n",
       "      <td>kmpl</td>\n",
       "      <td>None</td>\n",
       "      <td>None</td>\n",
       "    </tr>\n",
       "    <tr>\n",
       "      <th>4952</th>\n",
       "      <td>Kolkata</td>\n",
       "      <td>2010</td>\n",
       "      <td>47000</td>\n",
       "      <td>Petrol</td>\n",
       "      <td>Manual</td>\n",
       "      <td>First</td>\n",
       "      <td>NaN</td>\n",
       "      <td>1.49</td>\n",
       "      <td>Fiat</td>\n",
       "      <td>Punto 1.4 Emotion</td>\n",
       "      <td>14.6</td>\n",
       "      <td>kmpl</td>\n",
       "      <td>None</td>\n",
       "      <td>None</td>\n",
       "    </tr>\n",
       "    <tr>\n",
       "      <th>5015</th>\n",
       "      <td>Delhi</td>\n",
       "      <td>2006</td>\n",
       "      <td>63000</td>\n",
       "      <td>Petrol</td>\n",
       "      <td>Manual</td>\n",
       "      <td>First</td>\n",
       "      <td>NaN</td>\n",
       "      <td>1.60</td>\n",
       "      <td>Maruti</td>\n",
       "      <td>Swift 1.3 VXi</td>\n",
       "      <td>16.1</td>\n",
       "      <td>kmpl</td>\n",
       "      <td>None</td>\n",
       "      <td>None</td>\n",
       "    </tr>\n",
       "    <tr>\n",
       "      <th>5185</th>\n",
       "      <td>Delhi</td>\n",
       "      <td>2012</td>\n",
       "      <td>52000</td>\n",
       "      <td>Petrol</td>\n",
       "      <td>Manual</td>\n",
       "      <td>First</td>\n",
       "      <td>NaN</td>\n",
       "      <td>3.65</td>\n",
       "      <td>Maruti</td>\n",
       "      <td>Swift 1.3 LXI</td>\n",
       "      <td>16.1</td>\n",
       "      <td>kmpl</td>\n",
       "      <td>None</td>\n",
       "      <td>None</td>\n",
       "    </tr>\n",
       "    <tr>\n",
       "      <th>5270</th>\n",
       "      <td>Bangalore</td>\n",
       "      <td>2002</td>\n",
       "      <td>53000</td>\n",
       "      <td>Petrol</td>\n",
       "      <td>Manual</td>\n",
       "      <td>Second</td>\n",
       "      <td>NaN</td>\n",
       "      <td>1.85</td>\n",
       "      <td>Honda</td>\n",
       "      <td>City 1.5 GXI</td>\n",
       "      <td>0.0</td>\n",
       "      <td>kmpl</td>\n",
       "      <td>None</td>\n",
       "      <td>None</td>\n",
       "    </tr>\n",
       "    <tr>\n",
       "      <th>5893</th>\n",
       "      <td>Chennai</td>\n",
       "      <td>2008</td>\n",
       "      <td>51000</td>\n",
       "      <td>Petrol</td>\n",
       "      <td>Manual</td>\n",
       "      <td>Second</td>\n",
       "      <td>NaN</td>\n",
       "      <td>1.75</td>\n",
       "      <td>Maruti</td>\n",
       "      <td>Estilo LXI</td>\n",
       "      <td>19.5</td>\n",
       "      <td>kmpl</td>\n",
       "      <td>1061</td>\n",
       "      <td>null</td>\n",
       "    </tr>\n",
       "    <tr>\n",
       "      <th>6042</th>\n",
       "      <td>Bangalore</td>\n",
       "      <td>2009</td>\n",
       "      <td>72000</td>\n",
       "      <td>Petrol</td>\n",
       "      <td>Manual</td>\n",
       "      <td>Second</td>\n",
       "      <td>NaN</td>\n",
       "      <td>NaN</td>\n",
       "      <td>Skoda</td>\n",
       "      <td>Laura 1.8 TSI Ambition</td>\n",
       "      <td>17.5</td>\n",
       "      <td>kmpl</td>\n",
       "      <td>None</td>\n",
       "      <td>None</td>\n",
       "    </tr>\n",
       "    <tr>\n",
       "      <th>6541</th>\n",
       "      <td>Bangalore</td>\n",
       "      <td>2012</td>\n",
       "      <td>56600</td>\n",
       "      <td>Diesel</td>\n",
       "      <td>Manual</td>\n",
       "      <td>First</td>\n",
       "      <td>NaN</td>\n",
       "      <td>NaN</td>\n",
       "      <td>Toyota</td>\n",
       "      <td>Etios Liva Diesel TRD Sportivo</td>\n",
       "      <td>23.59</td>\n",
       "      <td>kmpl</td>\n",
       "      <td>None</td>\n",
       "      <td>None</td>\n",
       "    </tr>\n",
       "    <tr>\n",
       "      <th>6544</th>\n",
       "      <td>Bangalore</td>\n",
       "      <td>2012</td>\n",
       "      <td>58000</td>\n",
       "      <td>Petrol</td>\n",
       "      <td>Automatic</td>\n",
       "      <td>Second</td>\n",
       "      <td>NaN</td>\n",
       "      <td>NaN</td>\n",
       "      <td>Hyundai</td>\n",
       "      <td>i20 new Sportz AT 1.4</td>\n",
       "      <td>15.0</td>\n",
       "      <td>kmpl</td>\n",
       "      <td>None</td>\n",
       "      <td>None</td>\n",
       "    </tr>\n",
       "    <tr>\n",
       "      <th>6633</th>\n",
       "      <td>Kolkata</td>\n",
       "      <td>2016</td>\n",
       "      <td>27000</td>\n",
       "      <td>Diesel</td>\n",
       "      <td>Manual</td>\n",
       "      <td>First</td>\n",
       "      <td>NaN</td>\n",
       "      <td>NaN</td>\n",
       "      <td>Mahindra</td>\n",
       "      <td>TUV 300 P4</td>\n",
       "      <td>0.0</td>\n",
       "      <td>kmpl</td>\n",
       "      <td>None</td>\n",
       "      <td>None</td>\n",
       "    </tr>\n",
       "    <tr>\n",
       "      <th>6643</th>\n",
       "      <td>Bangalore</td>\n",
       "      <td>2009</td>\n",
       "      <td>150000</td>\n",
       "      <td>Diesel</td>\n",
       "      <td>Automatic</td>\n",
       "      <td>Second</td>\n",
       "      <td>NaN</td>\n",
       "      <td>NaN</td>\n",
       "      <td>BMW</td>\n",
       "      <td>5 Series 520d Sedan</td>\n",
       "      <td>18.48</td>\n",
       "      <td>kmpl</td>\n",
       "      <td>None</td>\n",
       "      <td>None</td>\n",
       "    </tr>\n",
       "    <tr>\n",
       "      <th>6651</th>\n",
       "      <td>Kolkata</td>\n",
       "      <td>2015</td>\n",
       "      <td>36009</td>\n",
       "      <td>Petrol</td>\n",
       "      <td>Manual</td>\n",
       "      <td>First</td>\n",
       "      <td>NaN</td>\n",
       "      <td>NaN</td>\n",
       "      <td>Maruti</td>\n",
       "      <td>Swift 1.3 VXi</td>\n",
       "      <td>16.1</td>\n",
       "      <td>kmpl</td>\n",
       "      <td>None</td>\n",
       "      <td>None</td>\n",
       "    </tr>\n",
       "    <tr>\n",
       "      <th>6677</th>\n",
       "      <td>Jaipur</td>\n",
       "      <td>2010</td>\n",
       "      <td>65000</td>\n",
       "      <td>Petrol</td>\n",
       "      <td>Manual</td>\n",
       "      <td>Third</td>\n",
       "      <td>NaN</td>\n",
       "      <td>NaN</td>\n",
       "      <td>Fiat</td>\n",
       "      <td>Punto 1.4 Emotion</td>\n",
       "      <td>14.6</td>\n",
       "      <td>kmpl</td>\n",
       "      <td>None</td>\n",
       "      <td>None</td>\n",
       "    </tr>\n",
       "    <tr>\n",
       "      <th>6685</th>\n",
       "      <td>Pune</td>\n",
       "      <td>2010</td>\n",
       "      <td>115000</td>\n",
       "      <td>Petrol</td>\n",
       "      <td>Manual</td>\n",
       "      <td>Second</td>\n",
       "      <td>NaN</td>\n",
       "      <td>NaN</td>\n",
       "      <td>Maruti</td>\n",
       "      <td>Swift 1.3 VXi</td>\n",
       "      <td>16.1</td>\n",
       "      <td>kmpl</td>\n",
       "      <td>None</td>\n",
       "      <td>None</td>\n",
       "    </tr>\n",
       "    <tr>\n",
       "      <th>6880</th>\n",
       "      <td>Chennai</td>\n",
       "      <td>2009</td>\n",
       "      <td>95000</td>\n",
       "      <td>Diesel</td>\n",
       "      <td>Automatic</td>\n",
       "      <td>Second</td>\n",
       "      <td>NaN</td>\n",
       "      <td>NaN</td>\n",
       "      <td>BMW</td>\n",
       "      <td>5 Series 520d Sedan</td>\n",
       "      <td>18.48</td>\n",
       "      <td>kmpl</td>\n",
       "      <td>None</td>\n",
       "      <td>None</td>\n",
       "    </tr>\n",
       "    <tr>\n",
       "      <th>6902</th>\n",
       "      <td>Kochi</td>\n",
       "      <td>2012</td>\n",
       "      <td>59311</td>\n",
       "      <td>Petrol</td>\n",
       "      <td>Manual</td>\n",
       "      <td>First</td>\n",
       "      <td>NaN</td>\n",
       "      <td>NaN</td>\n",
       "      <td>Toyota</td>\n",
       "      <td>Etios Liva V</td>\n",
       "      <td>18.3</td>\n",
       "      <td>kmpl</td>\n",
       "      <td>None</td>\n",
       "      <td>None</td>\n",
       "    </tr>\n",
       "    <tr>\n",
       "      <th>6957</th>\n",
       "      <td>Kochi</td>\n",
       "      <td>2019</td>\n",
       "      <td>11574</td>\n",
       "      <td>Petrol</td>\n",
       "      <td>Manual</td>\n",
       "      <td>First</td>\n",
       "      <td>NaN</td>\n",
       "      <td>NaN</td>\n",
       "      <td>Honda</td>\n",
       "      <td>Jazz 2020 Petrol</td>\n",
       "      <td>0.0</td>\n",
       "      <td>kmpl</td>\n",
       "      <td>1199</td>\n",
       "      <td>88.7</td>\n",
       "    </tr>\n",
       "  </tbody>\n",
       "</table>\n",
       "</div>"
      ],
      "text/plain": [
       "        Location  Year  Kilometers_Driven Fuel_Type Transmission  \\\n",
       "194    Ahmedabad  2007              60006    Petrol       Manual   \n",
       "208      Kolkata  2010              42001    Petrol       Manual   \n",
       "229    Bangalore  2015              70436    Diesel       Manual   \n",
       "733      Chennai  2006              97800    Petrol       Manual   \n",
       "749       Mumbai  2008              55001    Diesel    Automatic   \n",
       "1294       Delhi  2009              55005    Petrol       Manual   \n",
       "1327   Hyderabad  2015              50295    Petrol       Manual   \n",
       "1385        Pune  2004             115000    Petrol       Manual   \n",
       "1460  Coimbatore  2008              69078    Petrol       Manual   \n",
       "1917      Jaipur  2005              88000    Petrol       Manual   \n",
       "2074        Pune  2011              24255    Petrol       Manual   \n",
       "2096  Coimbatore  2004              52146    Petrol       Manual   \n",
       "2264        Pune  2012              24500    Petrol       Manual   \n",
       "2325        Pune  2015              67000    Petrol       Manual   \n",
       "2335      Mumbai  2007              55000    Petrol       Manual   \n",
       "2369     Chennai  2008              56000    Petrol       Manual   \n",
       "2530       Kochi  2014              64158    Diesel    Automatic   \n",
       "2542   Bangalore  2011              65000    Petrol       Manual   \n",
       "2623        Pune  2012              95000    Diesel    Automatic   \n",
       "2668     Kolkata  2014              32986    Petrol       Manual   \n",
       "2737      Jaipur  2001             200000    Petrol       Manual   \n",
       "2780        Pune  2009             100000    Petrol       Manual   \n",
       "2842   Bangalore  2012              43000    Petrol       Manual   \n",
       "3272      Mumbai  2008              81000    Diesel    Automatic   \n",
       "3404      Jaipur  2006             125000    Petrol       Manual   \n",
       "3520       Delhi  2012              90000    Diesel    Automatic   \n",
       "3522       Kochi  2012              66400    Petrol       Manual   \n",
       "3800      Mumbai  2012             129000    Diesel    Automatic   \n",
       "3810     Kolkata  2013              27000    Petrol    Automatic   \n",
       "3882     Kolkata  2010              40000    Petrol       Manual   \n",
       "4011        Pune  2011              45271    Diesel       Manual   \n",
       "4152      Mumbai  2003              75000    Diesel    Automatic   \n",
       "4229   Bangalore  2005              79000    Petrol       Manual   \n",
       "4577       Delhi  2012              72000    Diesel    Automatic   \n",
       "4604        Pune  2011              98000    Petrol       Manual   \n",
       "4697       Kochi  2017              17941    Petrol       Manual   \n",
       "4712        Pune  2003              80000    Petrol       Manual   \n",
       "4952     Kolkata  2010              47000    Petrol       Manual   \n",
       "5015       Delhi  2006              63000    Petrol       Manual   \n",
       "5185       Delhi  2012              52000    Petrol       Manual   \n",
       "5270   Bangalore  2002              53000    Petrol       Manual   \n",
       "5893     Chennai  2008              51000    Petrol       Manual   \n",
       "6042   Bangalore  2009              72000    Petrol       Manual   \n",
       "6541   Bangalore  2012              56600    Diesel       Manual   \n",
       "6544   Bangalore  2012              58000    Petrol    Automatic   \n",
       "6633     Kolkata  2016              27000    Diesel       Manual   \n",
       "6643   Bangalore  2009             150000    Diesel    Automatic   \n",
       "6651     Kolkata  2015              36009    Petrol       Manual   \n",
       "6677      Jaipur  2010              65000    Petrol       Manual   \n",
       "6685        Pune  2010             115000    Petrol       Manual   \n",
       "6880     Chennai  2009              95000    Diesel    Automatic   \n",
       "6902       Kochi  2012              59311    Petrol       Manual   \n",
       "6957       Kochi  2019              11574    Petrol       Manual   \n",
       "\n",
       "          Owner_Type  Seats  Price Manufacture  \\\n",
       "194            First    NaN   2.95       Honda   \n",
       "208            First    NaN   2.11      Maruti   \n",
       "229            First    NaN   3.60        Ford   \n",
       "733            Third    NaN   1.75      Maruti   \n",
       "749           Second    NaN  26.50        Land   \n",
       "1294           First    NaN   3.20       Honda   \n",
       "1327           First    NaN   5.80      Maruti   \n",
       "1385          Second    NaN   1.50       Honda   \n",
       "1460           First    NaN  40.88        Land   \n",
       "1917          Second    NaN   1.70       Honda   \n",
       "2074           First    NaN   3.15      Maruti   \n",
       "2096           First    NaN   1.93     Hyundai   \n",
       "2264          Second    NaN   2.95      Toyota   \n",
       "2325           First    NaN   4.70      Maruti   \n",
       "2335          Second    NaN   1.75      Maruti   \n",
       "2369          Second    NaN   1.50      Maruti   \n",
       "2530           First    NaN  17.89         BMW   \n",
       "2542          Second    NaN   3.15     Hyundai   \n",
       "2623          Second    NaN  18.00         BMW   \n",
       "2668           First    NaN   4.24      Maruti   \n",
       "2737           First    NaN   0.70      Maruti   \n",
       "2780           First    NaN   1.60     Hyundai   \n",
       "2842           First    NaN   3.25     Hyundai   \n",
       "3272          Second    NaN  10.50         BMW   \n",
       "3404  Fourth & Above    NaN   2.35      Maruti   \n",
       "3520           First    NaN  14.50         BMW   \n",
       "3522           First    NaN   2.66     Hyundai   \n",
       "3800           First    NaN   7.00        Ford   \n",
       "3810           First    NaN  11.99       Honda   \n",
       "3882          Second    NaN   2.50      Maruti   \n",
       "4011           First    NaN   2.60        Fiat   \n",
       "4152          Second    NaN  16.11        Land   \n",
       "4229          Second    NaN   1.65     Hyundai   \n",
       "4577           Third    NaN  13.85         BMW   \n",
       "4604           First    NaN   3.15       Honda   \n",
       "4697           First    NaN   3.93        Fiat   \n",
       "4712          Second    NaN   0.90     Hyundai   \n",
       "4952           First    NaN   1.49        Fiat   \n",
       "5015           First    NaN   1.60      Maruti   \n",
       "5185           First    NaN   3.65      Maruti   \n",
       "5270          Second    NaN   1.85       Honda   \n",
       "5893          Second    NaN   1.75      Maruti   \n",
       "6042          Second    NaN    NaN       Skoda   \n",
       "6541           First    NaN    NaN      Toyota   \n",
       "6544          Second    NaN    NaN     Hyundai   \n",
       "6633           First    NaN    NaN    Mahindra   \n",
       "6643          Second    NaN    NaN         BMW   \n",
       "6651           First    NaN    NaN      Maruti   \n",
       "6677           Third    NaN    NaN        Fiat   \n",
       "6685          Second    NaN    NaN      Maruti   \n",
       "6880          Second    NaN    NaN         BMW   \n",
       "6902           First    NaN    NaN      Toyota   \n",
       "6957           First    NaN    NaN       Honda   \n",
       "\n",
       "                                        Model Mileage_car Mileage_Units  \\\n",
       "194                              City 1.5 GXI         0.0          kmpl   \n",
       "208                             Swift 1.3 VXi        16.1          kmpl   \n",
       "229                               Figo Diesel         0.0          kmpl   \n",
       "733                             Swift 1.3 VXi        16.1          kmpl   \n",
       "749                   Rover Range Rover 3.0 D         0.0          kmpl   \n",
       "1294                              City 1.3 DX        12.8          kmpl   \n",
       "1327                            Swift 1.3 ZXI        16.1          kmpl   \n",
       "1385                             City 1.5 GXI         0.0          kmpl   \n",
       "1460  Rover Range Rover Sport 2005 2012 Sport         0.0          kmpl   \n",
       "1917                             City 1.5 EXI        13.0          kmpl   \n",
       "2074                            Swift 1.3 LXI        16.1          kmpl   \n",
       "2096                        Santro LP zipPlus         0.0          kmpl   \n",
       "2264                             Etios Liva V        18.3          kmpl   \n",
       "2325                        Swift 1.3 VXI ABS        16.1          kmpl   \n",
       "2335                            Swift 1.3 VXi        16.1          kmpl   \n",
       "2369                               Estilo LXI        19.5          kmpl   \n",
       "2530                      5 Series 520d Sedan       18.48          kmpl   \n",
       "2542                  Santro GLS II - Euro II         0.0          kmpl   \n",
       "2623                      5 Series 520d Sedan       18.48          kmpl   \n",
       "2668                            Swift 1.3 VXi        16.1          kmpl   \n",
       "2737                               Wagon R Vx        12.0          kmpl   \n",
       "2780                  Santro GLS II - Euro II         0.0          kmpl   \n",
       "2842                  Santro GLS II - Euro II         0.0          kmpl   \n",
       "3272                      5 Series 520d Sedan       18.48          kmpl   \n",
       "3404                            Swift 1.3 VXi        16.1          kmpl   \n",
       "3520                      5 Series 520d Sedan       18.48          kmpl   \n",
       "3522                  Santro GLS II - Euro II         0.0          kmpl   \n",
       "3800                   Endeavour Hurricane LE        12.8          kmpl   \n",
       "3810                    CR-V AT With Sun Roof        14.0          kmpl   \n",
       "3882                               Estilo LXI        19.5          kmpl   \n",
       "4011                        Punto 1.3 Emotion        20.3          kmpl   \n",
       "4152                  Rover Range Rover 3.0 D         0.0          kmpl   \n",
       "4229                           Santro Xing XG        17.0          kmpl   \n",
       "4577                      5 Series 520d Sedan       18.48          kmpl   \n",
       "4604                      Jazz Select Edition        16.7          kmpl   \n",
       "4697                        Punto 1.2 Dynamic        15.7          kmpl   \n",
       "4712                           Santro Xing XG        17.0          kmpl   \n",
       "4952                        Punto 1.4 Emotion        14.6          kmpl   \n",
       "5015                            Swift 1.3 VXi        16.1          kmpl   \n",
       "5185                            Swift 1.3 LXI        16.1          kmpl   \n",
       "5270                             City 1.5 GXI         0.0          kmpl   \n",
       "5893                               Estilo LXI        19.5          kmpl   \n",
       "6042                   Laura 1.8 TSI Ambition        17.5          kmpl   \n",
       "6541           Etios Liva Diesel TRD Sportivo       23.59          kmpl   \n",
       "6544                    i20 new Sportz AT 1.4        15.0          kmpl   \n",
       "6633                               TUV 300 P4         0.0          kmpl   \n",
       "6643                      5 Series 520d Sedan       18.48          kmpl   \n",
       "6651                            Swift 1.3 VXi        16.1          kmpl   \n",
       "6677                        Punto 1.4 Emotion        14.6          kmpl   \n",
       "6685                            Swift 1.3 VXi        16.1          kmpl   \n",
       "6880                      5 Series 520d Sedan       18.48          kmpl   \n",
       "6902                             Etios Liva V        18.3          kmpl   \n",
       "6957                         Jazz 2020 Petrol         0.0          kmpl   \n",
       "\n",
       "     Engine_CC Power_bhp  \n",
       "194       None      None  \n",
       "208       None      None  \n",
       "229       1498        99  \n",
       "733       None      None  \n",
       "749       None      None  \n",
       "1294      None      None  \n",
       "1327      None      None  \n",
       "1385      None      None  \n",
       "1460      None      None  \n",
       "1917      1493       100  \n",
       "2074      None      None  \n",
       "2096      None      None  \n",
       "2264      None      None  \n",
       "2325      None      None  \n",
       "2335      None      None  \n",
       "2369      1061      null  \n",
       "2530      None      None  \n",
       "2542      None      None  \n",
       "2623      None      None  \n",
       "2668      None      None  \n",
       "2737      None      None  \n",
       "2780      None      None  \n",
       "2842      None      None  \n",
       "3272      None      None  \n",
       "3404      None      None  \n",
       "3520      None      None  \n",
       "3522      None      None  \n",
       "3800      2953      null  \n",
       "3810      None      None  \n",
       "3882      1061      null  \n",
       "4011      None      None  \n",
       "4152      None      None  \n",
       "4229      None      None  \n",
       "4577      None      None  \n",
       "4604      None      None  \n",
       "4697      None      None  \n",
       "4712      None      None  \n",
       "4952      None      None  \n",
       "5015      None      None  \n",
       "5185      None      None  \n",
       "5270      None      None  \n",
       "5893      1061      null  \n",
       "6042      None      None  \n",
       "6541      None      None  \n",
       "6544      None      None  \n",
       "6633      None      None  \n",
       "6643      None      None  \n",
       "6651      None      None  \n",
       "6677      None      None  \n",
       "6685      None      None  \n",
       "6880      None      None  \n",
       "6902      None      None  \n",
       "6957      1199      88.7  "
      ]
     },
     "execution_count": 40,
     "metadata": {},
     "output_type": "execute_result"
    }
   ],
   "source": [
    "df[df['Seats'].isnull()]"
   ]
  },
  {
   "cell_type": "markdown",
   "id": "113bd142",
   "metadata": {},
   "source": [
    "#### Note*: By observing all values Land Rover and Ford Endeavour both are having 7.0 seats remaining all having 5.0"
   ]
  },
  {
   "cell_type": "code",
   "execution_count": 41,
   "id": "4170d70d",
   "metadata": {},
   "outputs": [],
   "source": [
    "df.loc[(df['Manufacture'] == 'Land') & (df['Seats'].isnull()), 'Seats'] = 7.0\n",
    "df.loc[(df['Manufacture'] == 'Ford') & (df['Seats'].isnull()), 'Seats'] = 7.0\n",
    "df['Seats'] = df['Seats'].fillna(5.0)"
   ]
  },
  {
   "cell_type": "code",
   "execution_count": 42,
   "id": "ec1e8823",
   "metadata": {},
   "outputs": [
    {
     "data": {
      "text/plain": [
       "0"
      ]
     },
     "execution_count": 42,
     "metadata": {},
     "output_type": "execute_result"
    }
   ],
   "source": [
    "df['Seats'].isnull().sum()"
   ]
  },
  {
   "cell_type": "markdown",
   "id": "8b0dd0a0",
   "metadata": {},
   "source": [
    "### Handling Data Types of Seats Column"
   ]
  },
  {
   "cell_type": "code",
   "execution_count": 43,
   "id": "723c94cc",
   "metadata": {},
   "outputs": [],
   "source": [
    "df['Seats'] = df['Seats'].astype(int)"
   ]
  },
  {
   "cell_type": "code",
   "execution_count": 44,
   "id": "d67b2d92",
   "metadata": {},
   "outputs": [
    {
     "data": {
      "text/plain": [
       "Location              object\n",
       "Year                   int64\n",
       "Kilometers_Driven      int64\n",
       "Fuel_Type             object\n",
       "Transmission          object\n",
       "Owner_Type            object\n",
       "Seats                  int32\n",
       "Price                float64\n",
       "Manufacture           object\n",
       "Model                 object\n",
       "Mileage_car           object\n",
       "Mileage_Units         object\n",
       "Engine_CC             object\n",
       "Power_bhp             object\n",
       "dtype: object"
      ]
     },
     "execution_count": 44,
     "metadata": {},
     "output_type": "execute_result"
    }
   ],
   "source": [
    "df.dtypes"
   ]
  },
  {
   "cell_type": "markdown",
   "id": "d02030a2",
   "metadata": {},
   "source": [
    "## Working on Mileage_car and Milleage_Units"
   ]
  },
  {
   "cell_type": "markdown",
   "id": "dc445d5a",
   "metadata": {},
   "source": [
    "### Handling Null Values"
   ]
  },
  {
   "cell_type": "code",
   "execution_count": 45,
   "id": "d11d6f6d",
   "metadata": {},
   "outputs": [
    {
     "data": {
      "text/html": [
       "<div>\n",
       "<style scoped>\n",
       "    .dataframe tbody tr th:only-of-type {\n",
       "        vertical-align: middle;\n",
       "    }\n",
       "\n",
       "    .dataframe tbody tr th {\n",
       "        vertical-align: top;\n",
       "    }\n",
       "\n",
       "    .dataframe thead th {\n",
       "        text-align: right;\n",
       "    }\n",
       "</style>\n",
       "<table border=\"1\" class=\"dataframe\">\n",
       "  <thead>\n",
       "    <tr style=\"text-align: right;\">\n",
       "      <th></th>\n",
       "      <th>Location</th>\n",
       "      <th>Year</th>\n",
       "      <th>Kilometers_Driven</th>\n",
       "      <th>Fuel_Type</th>\n",
       "      <th>Transmission</th>\n",
       "      <th>Owner_Type</th>\n",
       "      <th>Seats</th>\n",
       "      <th>Price</th>\n",
       "      <th>Manufacture</th>\n",
       "      <th>Model</th>\n",
       "      <th>Mileage_car</th>\n",
       "      <th>Mileage_Units</th>\n",
       "      <th>Engine_CC</th>\n",
       "      <th>Power_bhp</th>\n",
       "    </tr>\n",
       "  </thead>\n",
       "  <tbody>\n",
       "    <tr>\n",
       "      <th>4446</th>\n",
       "      <td>Chennai</td>\n",
       "      <td>2016</td>\n",
       "      <td>50000</td>\n",
       "      <td>Electric</td>\n",
       "      <td>Automatic</td>\n",
       "      <td>First</td>\n",
       "      <td>5</td>\n",
       "      <td>13.00</td>\n",
       "      <td>Mahindra</td>\n",
       "      <td>E Verito D4</td>\n",
       "      <td>None</td>\n",
       "      <td>None</td>\n",
       "      <td>72</td>\n",
       "      <td>41</td>\n",
       "    </tr>\n",
       "    <tr>\n",
       "      <th>4904</th>\n",
       "      <td>Mumbai</td>\n",
       "      <td>2011</td>\n",
       "      <td>44000</td>\n",
       "      <td>Electric</td>\n",
       "      <td>Automatic</td>\n",
       "      <td>First</td>\n",
       "      <td>5</td>\n",
       "      <td>12.75</td>\n",
       "      <td>Toyota</td>\n",
       "      <td>Prius 2009-2016 Z4</td>\n",
       "      <td>None</td>\n",
       "      <td>None</td>\n",
       "      <td>1798</td>\n",
       "      <td>73</td>\n",
       "    </tr>\n",
       "  </tbody>\n",
       "</table>\n",
       "</div>"
      ],
      "text/plain": [
       "     Location  Year  Kilometers_Driven Fuel_Type Transmission Owner_Type  \\\n",
       "4446  Chennai  2016              50000  Electric    Automatic      First   \n",
       "4904   Mumbai  2011              44000  Electric    Automatic      First   \n",
       "\n",
       "      Seats  Price Manufacture               Model Mileage_car Mileage_Units  \\\n",
       "4446      5  13.00    Mahindra         E Verito D4        None          None   \n",
       "4904      5  12.75      Toyota  Prius 2009-2016 Z4        None          None   \n",
       "\n",
       "     Engine_CC Power_bhp  \n",
       "4446        72        41  \n",
       "4904      1798        73  "
      ]
     },
     "execution_count": 45,
     "metadata": {},
     "output_type": "execute_result"
    }
   ],
   "source": [
    "df[df['Mileage_car'].isnull()]"
   ]
  },
  {
   "cell_type": "code",
   "execution_count": 46,
   "id": "dc0b2c88",
   "metadata": {},
   "outputs": [],
   "source": [
    "df.loc[(df['Manufacture'] == 'Mahindra') & (df['Mileage_car'].isnull()), 'Mileage_car'] = 110\n",
    "df.loc[(df['Manufacture'] == 'Mahindra') & (df['Mileage_Units'].isnull()), 'Mileage_Units'] = 'Km/Chrg'\n",
    "\n",
    "df.loc[(df['Manufacture'] == 'Toyota') & (df['Mileage_car'].isnull()), 'Mileage_car'] = 400\n",
    "df.loc[(df['Manufacture'] == 'Toyota') & (df['Mileage_Units'].isnull()), 'Mileage_Units'] = 'Km/Chrg'"
   ]
  },
  {
   "cell_type": "code",
   "execution_count": 47,
   "id": "ca9fad44",
   "metadata": {},
   "outputs": [
    {
     "data": {
      "text/plain": [
       "0"
      ]
     },
     "execution_count": 47,
     "metadata": {},
     "output_type": "execute_result"
    }
   ],
   "source": [
    "df['Mileage_car'].isnull().sum()"
   ]
  },
  {
   "cell_type": "code",
   "execution_count": 48,
   "id": "1602de3b",
   "metadata": {},
   "outputs": [
    {
     "data": {
      "text/plain": [
       "0"
      ]
     },
     "execution_count": 48,
     "metadata": {},
     "output_type": "execute_result"
    }
   ],
   "source": [
    "df['Mileage_Units'].isnull().sum()"
   ]
  },
  {
   "cell_type": "markdown",
   "id": "02452fde",
   "metadata": {},
   "source": [
    "### Handling Data Types of Mileage_car Column"
   ]
  },
  {
   "cell_type": "code",
   "execution_count": 49,
   "id": "32db871d",
   "metadata": {},
   "outputs": [],
   "source": [
    "df['Mileage_car'] = df['Mileage_car'].astype(float)"
   ]
  },
  {
   "cell_type": "code",
   "execution_count": 50,
   "id": "917cd7d3",
   "metadata": {},
   "outputs": [
    {
     "data": {
      "text/plain": [
       "dtype('float64')"
      ]
     },
     "execution_count": 50,
     "metadata": {},
     "output_type": "execute_result"
    }
   ],
   "source": [
    "df['Mileage_car'].dtype"
   ]
  },
  {
   "cell_type": "code",
   "execution_count": 51,
   "id": "2fc41873",
   "metadata": {},
   "outputs": [
    {
     "data": {
      "text/html": [
       "<div>\n",
       "<style scoped>\n",
       "    .dataframe tbody tr th:only-of-type {\n",
       "        vertical-align: middle;\n",
       "    }\n",
       "\n",
       "    .dataframe tbody tr th {\n",
       "        vertical-align: top;\n",
       "    }\n",
       "\n",
       "    .dataframe thead th {\n",
       "        text-align: right;\n",
       "    }\n",
       "</style>\n",
       "<table border=\"1\" class=\"dataframe\">\n",
       "  <thead>\n",
       "    <tr style=\"text-align: right;\">\n",
       "      <th></th>\n",
       "      <th>Location</th>\n",
       "      <th>Year</th>\n",
       "      <th>Kilometers_Driven</th>\n",
       "      <th>Fuel_Type</th>\n",
       "      <th>Transmission</th>\n",
       "      <th>Owner_Type</th>\n",
       "      <th>Seats</th>\n",
       "      <th>Price</th>\n",
       "      <th>Manufacture</th>\n",
       "      <th>Model</th>\n",
       "      <th>Mileage_car</th>\n",
       "      <th>Mileage_Units</th>\n",
       "      <th>Engine_CC</th>\n",
       "      <th>Power_bhp</th>\n",
       "    </tr>\n",
       "  </thead>\n",
       "  <tbody>\n",
       "    <tr>\n",
       "      <th>14</th>\n",
       "      <td>Pune</td>\n",
       "      <td>2012</td>\n",
       "      <td>85000</td>\n",
       "      <td>Diesel</td>\n",
       "      <td>Automatic</td>\n",
       "      <td>Second</td>\n",
       "      <td>5</td>\n",
       "      <td>17.50</td>\n",
       "      <td>Land</td>\n",
       "      <td>Rover Freelander 2 TD4 SE</td>\n",
       "      <td>0.0</td>\n",
       "      <td>kmpl</td>\n",
       "      <td>2179</td>\n",
       "      <td>115</td>\n",
       "    </tr>\n",
       "    <tr>\n",
       "      <th>67</th>\n",
       "      <td>Coimbatore</td>\n",
       "      <td>2019</td>\n",
       "      <td>15369</td>\n",
       "      <td>Diesel</td>\n",
       "      <td>Automatic</td>\n",
       "      <td>First</td>\n",
       "      <td>5</td>\n",
       "      <td>35.67</td>\n",
       "      <td>Mercedes-Benz</td>\n",
       "      <td>C-Class Progressive C 220d</td>\n",
       "      <td>0.0</td>\n",
       "      <td>kmpl</td>\n",
       "      <td>1950</td>\n",
       "      <td>194</td>\n",
       "    </tr>\n",
       "    <tr>\n",
       "      <th>79</th>\n",
       "      <td>Hyderabad</td>\n",
       "      <td>2005</td>\n",
       "      <td>87591</td>\n",
       "      <td>Petrol</td>\n",
       "      <td>Manual</td>\n",
       "      <td>First</td>\n",
       "      <td>5</td>\n",
       "      <td>1.30</td>\n",
       "      <td>Hyundai</td>\n",
       "      <td>Santro Xing XL</td>\n",
       "      <td>0.0</td>\n",
       "      <td>kmpl</td>\n",
       "      <td>1086</td>\n",
       "      <td>null</td>\n",
       "    </tr>\n",
       "    <tr>\n",
       "      <th>194</th>\n",
       "      <td>Ahmedabad</td>\n",
       "      <td>2007</td>\n",
       "      <td>60006</td>\n",
       "      <td>Petrol</td>\n",
       "      <td>Manual</td>\n",
       "      <td>First</td>\n",
       "      <td>5</td>\n",
       "      <td>2.95</td>\n",
       "      <td>Honda</td>\n",
       "      <td>City 1.5 GXI</td>\n",
       "      <td>0.0</td>\n",
       "      <td>kmpl</td>\n",
       "      <td>None</td>\n",
       "      <td>None</td>\n",
       "    </tr>\n",
       "    <tr>\n",
       "      <th>229</th>\n",
       "      <td>Bangalore</td>\n",
       "      <td>2015</td>\n",
       "      <td>70436</td>\n",
       "      <td>Diesel</td>\n",
       "      <td>Manual</td>\n",
       "      <td>First</td>\n",
       "      <td>7</td>\n",
       "      <td>3.60</td>\n",
       "      <td>Ford</td>\n",
       "      <td>Figo Diesel</td>\n",
       "      <td>0.0</td>\n",
       "      <td>kmpl</td>\n",
       "      <td>1498</td>\n",
       "      <td>99</td>\n",
       "    </tr>\n",
       "    <tr>\n",
       "      <th>...</th>\n",
       "      <td>...</td>\n",
       "      <td>...</td>\n",
       "      <td>...</td>\n",
       "      <td>...</td>\n",
       "      <td>...</td>\n",
       "      <td>...</td>\n",
       "      <td>...</td>\n",
       "      <td>...</td>\n",
       "      <td>...</td>\n",
       "      <td>...</td>\n",
       "      <td>...</td>\n",
       "      <td>...</td>\n",
       "      <td>...</td>\n",
       "      <td>...</td>\n",
       "    </tr>\n",
       "    <tr>\n",
       "      <th>6633</th>\n",
       "      <td>Kolkata</td>\n",
       "      <td>2016</td>\n",
       "      <td>27000</td>\n",
       "      <td>Diesel</td>\n",
       "      <td>Manual</td>\n",
       "      <td>First</td>\n",
       "      <td>5</td>\n",
       "      <td>NaN</td>\n",
       "      <td>Mahindra</td>\n",
       "      <td>TUV 300 P4</td>\n",
       "      <td>0.0</td>\n",
       "      <td>kmpl</td>\n",
       "      <td>None</td>\n",
       "      <td>None</td>\n",
       "    </tr>\n",
       "    <tr>\n",
       "      <th>6697</th>\n",
       "      <td>Jaipur</td>\n",
       "      <td>2007</td>\n",
       "      <td>85000</td>\n",
       "      <td>Petrol</td>\n",
       "      <td>Manual</td>\n",
       "      <td>Second</td>\n",
       "      <td>5</td>\n",
       "      <td>NaN</td>\n",
       "      <td>Hyundai</td>\n",
       "      <td>Santro Xing XL</td>\n",
       "      <td>0.0</td>\n",
       "      <td>kmpl</td>\n",
       "      <td>1086</td>\n",
       "      <td>null</td>\n",
       "    </tr>\n",
       "    <tr>\n",
       "      <th>6857</th>\n",
       "      <td>Mumbai</td>\n",
       "      <td>2011</td>\n",
       "      <td>87000</td>\n",
       "      <td>Diesel</td>\n",
       "      <td>Automatic</td>\n",
       "      <td>First</td>\n",
       "      <td>5</td>\n",
       "      <td>NaN</td>\n",
       "      <td>Land</td>\n",
       "      <td>Rover Freelander 2 TD4 SE</td>\n",
       "      <td>0.0</td>\n",
       "      <td>kmpl</td>\n",
       "      <td>2179</td>\n",
       "      <td>115</td>\n",
       "    </tr>\n",
       "    <tr>\n",
       "      <th>6957</th>\n",
       "      <td>Kochi</td>\n",
       "      <td>2019</td>\n",
       "      <td>11574</td>\n",
       "      <td>Petrol</td>\n",
       "      <td>Manual</td>\n",
       "      <td>First</td>\n",
       "      <td>5</td>\n",
       "      <td>NaN</td>\n",
       "      <td>Honda</td>\n",
       "      <td>Jazz 2020 Petrol</td>\n",
       "      <td>0.0</td>\n",
       "      <td>kmpl</td>\n",
       "      <td>1199</td>\n",
       "      <td>88.7</td>\n",
       "    </tr>\n",
       "    <tr>\n",
       "      <th>7226</th>\n",
       "      <td>Ahmedabad</td>\n",
       "      <td>2014</td>\n",
       "      <td>41000</td>\n",
       "      <td>Petrol</td>\n",
       "      <td>Manual</td>\n",
       "      <td>First</td>\n",
       "      <td>5</td>\n",
       "      <td>NaN</td>\n",
       "      <td>Hyundai</td>\n",
       "      <td>Santro Xing GL</td>\n",
       "      <td>0.0</td>\n",
       "      <td>kmpl</td>\n",
       "      <td>1086</td>\n",
       "      <td>62</td>\n",
       "    </tr>\n",
       "  </tbody>\n",
       "</table>\n",
       "<p>81 rows × 14 columns</p>\n",
       "</div>"
      ],
      "text/plain": [
       "        Location  Year  Kilometers_Driven Fuel_Type Transmission Owner_Type  \\\n",
       "14          Pune  2012              85000    Diesel    Automatic     Second   \n",
       "67    Coimbatore  2019              15369    Diesel    Automatic      First   \n",
       "79     Hyderabad  2005              87591    Petrol       Manual      First   \n",
       "194    Ahmedabad  2007              60006    Petrol       Manual      First   \n",
       "229    Bangalore  2015              70436    Diesel       Manual      First   \n",
       "...          ...   ...                ...       ...          ...        ...   \n",
       "6633     Kolkata  2016              27000    Diesel       Manual      First   \n",
       "6697      Jaipur  2007              85000    Petrol       Manual     Second   \n",
       "6857      Mumbai  2011              87000    Diesel    Automatic      First   \n",
       "6957       Kochi  2019              11574    Petrol       Manual      First   \n",
       "7226   Ahmedabad  2014              41000    Petrol       Manual      First   \n",
       "\n",
       "      Seats  Price    Manufacture                       Model  Mileage_car  \\\n",
       "14        5  17.50           Land   Rover Freelander 2 TD4 SE          0.0   \n",
       "67        5  35.67  Mercedes-Benz  C-Class Progressive C 220d          0.0   \n",
       "79        5   1.30        Hyundai              Santro Xing XL          0.0   \n",
       "194       5   2.95          Honda                City 1.5 GXI          0.0   \n",
       "229       7   3.60           Ford                 Figo Diesel          0.0   \n",
       "...     ...    ...            ...                         ...          ...   \n",
       "6633      5    NaN       Mahindra                  TUV 300 P4          0.0   \n",
       "6697      5    NaN        Hyundai              Santro Xing XL          0.0   \n",
       "6857      5    NaN           Land   Rover Freelander 2 TD4 SE          0.0   \n",
       "6957      5    NaN          Honda            Jazz 2020 Petrol          0.0   \n",
       "7226      5    NaN        Hyundai              Santro Xing GL          0.0   \n",
       "\n",
       "     Mileage_Units Engine_CC Power_bhp  \n",
       "14            kmpl      2179       115  \n",
       "67            kmpl      1950       194  \n",
       "79            kmpl      1086      null  \n",
       "194           kmpl      None      None  \n",
       "229           kmpl      1498        99  \n",
       "...            ...       ...       ...  \n",
       "6633          kmpl      None      None  \n",
       "6697          kmpl      1086      null  \n",
       "6857          kmpl      2179       115  \n",
       "6957          kmpl      1199      88.7  \n",
       "7226          kmpl      1086        62  \n",
       "\n",
       "[81 rows x 14 columns]"
      ]
     },
     "execution_count": 51,
     "metadata": {},
     "output_type": "execute_result"
    }
   ],
   "source": [
    "df[df['Mileage_car']==0.0]"
   ]
  },
  {
   "cell_type": "code",
   "execution_count": 52,
   "id": "cf724968",
   "metadata": {},
   "outputs": [
    {
     "data": {
      "text/plain": [
       "Santro Xing GL                             10\n",
       "M-Class ML 350 4Matic                      10\n",
       "Santro Xing XL                              7\n",
       "Rover Freelander 2 TD4 SE                   5\n",
       "Santro Xing XP                              5\n",
       "Santro GLS II - Euro II                     4\n",
       "City 1.5 GXI                                3\n",
       "C-Class Progressive C 220d                  3\n",
       "Santro GLS I - Euro II                      3\n",
       "Rover Range Rover 3.0 D                     2\n",
       "Santro LS zipPlus                           2\n",
       "Santro GLS I - Euro I                       2\n",
       "Superb 3.6 V6 FSI                           2\n",
       "Jeep MM 540 DP                              1\n",
       "Qualis Fleet A3                             1\n",
       "Santro LP - Euro II                         1\n",
       "Santro LS zipDrive Euro I                   1\n",
       "Rover Freelander 2 TD4 HSE                  1\n",
       "Siena 1.2 ELX                               1\n",
       "TUV 300 P4                                  1\n",
       "Santro GS zipDrive - Euro II                1\n",
       "A7 2011-2015 Sportback                      1\n",
       "Santro GS                                   1\n",
       "Santro DX                                   1\n",
       "Santro AT                                   1\n",
       "Qualis RS E2                                1\n",
       "Santro LP zipPlus                           1\n",
       "Jeep MM 550 PE                              1\n",
       "Rover Range Rover Sport 2005 2012 Sport     1\n",
       "Baleno Vxi                                  1\n",
       "Rover Freelander 2 TD4 S                    1\n",
       "Fortwo CDI AT                               1\n",
       "New C-Class Progressive C 200               1\n",
       "Jetta 2007-2011 1.9 L TDI                   1\n",
       "Figo Diesel                                 1\n",
       "Jazz 2020 Petrol                            1\n",
       "Name: Model, dtype: int64"
      ]
     },
     "execution_count": 52,
     "metadata": {},
     "output_type": "execute_result"
    }
   ],
   "source": [
    "df['Model'][df['Mileage_car']==0.0].value_counts()"
   ]
  },
  {
   "cell_type": "code",
   "execution_count": 53,
   "id": "752895f8",
   "metadata": {},
   "outputs": [],
   "source": [
    "df.loc[(df['Model'] == 'Santro Xing GL') & (df['Mileage_car']==0.0), 'Mileage_car'] = 17\n",
    "df.loc[(df['Model'] == 'M-Class ML 350 4Matic') & (df['Mileage_car']==0.0), 'Mileage_car'] = 15.26\n",
    "df.loc[(df['Model'] == 'Santro Xing XL') & (df['Mileage_car']==0.0), 'Mileage_car'] = 17\n",
    "df.loc[(df['Model'] == 'Rover Freelander 2 TD4 SE') & (df['Mileage_car']==0.0), 'Mileage_car'] = 12.35\n",
    "df.loc[(df['Model'] == 'Santro Xing XP') & (df['Mileage_car']==0.0), 'Mileage_car'] = 17.92\n",
    "df.loc[(df['Model'] == 'Santro GLS II - Euro II') & (df['Mileage_car']==0.0), 'Mileage_car'] = 20.3\n",
    "df.loc[(df['Model'] == 'City 1.5 GXI') & (df['Mileage_car']==0.0), 'Mileage_car'] = 12.8\n",
    "df.loc[(df['Model'] == 'C-Class Progressive C 220d') & (df['Mileage_car']==0.0), 'Mileage_car'] = 12.06\n",
    "df.loc[(df['Model'] == 'Santro GLS I - Euro II') & (df['Mileage_car']==0.0), 'Mileage_car'] = 20.3\n",
    "df.loc[(df['Model'] == 'Rover Range Rover 3.0 D') & (df['Mileage_car']==0.0), 'Mileage_car'] = 13.16     \n",
    "df.loc[(df['Model'] == 'Santro LS zipPlus') & (df['Mileage_car']==0.0), 'Mileage_car'] = 20\n",
    "df.loc[(df['Model'] == 'Santro GLS I - Euro I') & (df['Mileage_car']==0.0), 'Mileage_car'] = 17.92\n",
    "df.loc[(df['Model'] == 'Superb 3.6 V6 FSI') & (df['Mileage_car']==0.0), 'Mileage_car'] = 9.5\n",
    "df.loc[(df['Model'] == 'Jeep MM 540 DP') & (df['Mileage_car']==0.0), 'Mileage_car'] = 10\n",
    "df.loc[(df['Model'] == 'Qualis Fleet A3') & (df['Mileage_car']==0.0), 'Mileage_car'] = 13.2\n",
    "df.loc[(df['Model'] == 'Santro LP - Euro II') & (df['Mileage_car']==0.0), 'Mileage_car'] = 20.3\n",
    "df.loc[(df['Model'] == 'Santro LS zipDrive Euro I') & (df['Mileage_car']==0.0), 'Mileage_car'] = 13\n",
    "df.loc[(df['Model'] == 'Rover Freelander 2 TD4 HSE') & (df['Mileage_car']==0.0), 'Mileage_car'] = 12.39\n",
    "df.loc[(df['Model'] == 'Siena 1.2 ELX') & (df['Mileage_car']==0.0), 'Mileage_car'] = 20.3\n",
    "df.loc[(df['Model'] == 'TUV 300 P4') & (df['Mileage_car']==0.0), 'Mileage_car'] = 18.4\n",
    "df.loc[(df['Model'] == 'Santro GS zipDrive - Euro II') & (df['Mileage_car']==0.0), 'Mileage_car'] = 20.3\n",
    "df.loc[(df['Model'] == 'A7 2011-2015 Sportback') & (df['Mileage_car']==0.0), 'Mileage_car'] = 13.88\n",
    "df.loc[(df['Model'] == 'Santro GS') & (df['Mileage_car']==0.0), 'Mileage_car'] = 20.3\n",
    "df.loc[(df['Model'] == 'Santro DX') & (df['Mileage_car']==0.0), 'Mileage_car'] = 20.3\n",
    "df.loc[(df['Model'] == 'Santro AT') & (df['Mileage_car']==0.0), 'Mileage_car'] = 20.3\n",
    "df.loc[(df['Model'] == 'Qualis RS E2') & (df['Mileage_car']==0.0), 'Mileage_car'] = 13.2\n",
    "df.loc[(df['Model'] == 'Santro LP zipPlus') & (df['Mileage_car']==0.0), 'Mileage_car'] = 20.3\n",
    "df.loc[(df['Model'] == 'Jeep MM 550 PE') & (df['Mileage_car']==0.0), 'Mileage_car'] = 10\n",
    "df.loc[(df['Model'] == 'Rover Range Rover Sport 2005 2012 Sport') & (df['Mileage_car']==0.0), 'Mileage_car'] = 14.7\n",
    "df.loc[(df['Model'] == 'Baleno Vxi') & (df['Mileage_car']==0.0), 'Mileage_car'] = 12\n",
    "df.loc[(df['Model'] == 'Rover Freelander 2 TD4 S') & (df['Mileage_car']==0.0), 'Mileage_car'] = 12.35\n",
    "df.loc[(df['Model'] == 'Fortwo CDI AT') & (df['Mileage_car']==0.0), 'Mileage_car'] = 20\n",
    "df.loc[(df['Model'] == 'New C-Class Progressive C 200') & (df['Mileage_car']==0.0), 'Mileage_car'] = 14.49\n",
    "df.loc[(df['Model'] == 'Jetta 2007-2011 1.9 L TDI') & (df['Mileage_car']==0.0), 'Mileage_car'] = 15.5\n",
    "df.loc[(df['Model'] == 'Figo Diesel') & (df['Mileage_car']==0.0), 'Mileage_car'] = 24\n",
    "df.loc[(df['Model'] == 'Jazz 2020 Petrol') & (df['Mileage_car']==0.0), 'Mileage_car'] = 17.2                         "
   ]
  },
  {
   "cell_type": "markdown",
   "id": "943697bb",
   "metadata": {},
   "source": [
    "## Working on Engine_CC & Power_bhp"
   ]
  },
  {
   "cell_type": "markdown",
   "id": "c53dd8d8",
   "metadata": {},
   "source": [
    "##### Maruthi"
   ]
  },
  {
   "cell_type": "code",
   "execution_count": 54,
   "id": "3c533001",
   "metadata": {},
   "outputs": [],
   "source": [
    "df.loc[(df['Model'] == 'Swift 1.3 VXi') & (df['Engine_CC'].isnull()), 'Engine_CC'] = 1197\n",
    "df.loc[(df['Model'] == 'Swift 1.3 VXi') & (df['Power_bhp'].isnull()), 'Power_bhp'] = 80.46\n",
    "\n",
    "df.loc[(df['Model'] == 'Swift 1.3 ZXI') & (df['Engine_CC'].isnull()), 'Engine_CC'] = 1197\n",
    "df.loc[(df['Model'] == 'Swift 1.3 ZXI') & (df['Power_bhp'].isnull()), 'Power_bhp'] = 80.46\n",
    "\n",
    "df.loc[(df['Model'] == 'Swift 1.3 LXI') & (df['Engine_CC'].isnull()), 'Engine_CC'] = 1197\n",
    "df.loc[(df['Model'] == 'Swift 1.3 LXI') & (df['Power_bhp'].isnull()), 'Power_bhp'] = 80.46\n",
    "\n",
    "df.loc[(df['Model'] == 'Swift 1.3 VXI ABS') & (df['Engine_CC'].isnull()), 'Engine_CC'] = 1197\n",
    "df.loc[(df['Model'] == 'Swift 1.3 VXI ABS') & (df['Power_bhp'].isnull()), 'Power_bhp'] = 80.46\n",
    "\n",
    "df.loc[(df['Model'] == 'Wagon R Vx') & (df['Engine_CC'].isnull()), 'Engine_CC'] = 998\n",
    "df.loc[(df['Model'] == 'Wagon R Vx') & (df['Power_bhp'].isnull()), 'Power_bhp'] = 65.71"
   ]
  },
  {
   "cell_type": "markdown",
   "id": "0f20a75d",
   "metadata": {},
   "source": [
    "##### Honda"
   ]
  },
  {
   "cell_type": "code",
   "execution_count": 55,
   "id": "d79914a1",
   "metadata": {},
   "outputs": [],
   "source": [
    "df.loc[(df['Model'] == 'City 1.5 GXI') & (df['Engine_CC'].isnull()), 'Engine_CC'] = 1497\n",
    "df.loc[(df['Model'] == 'City 1.5 GXI') & (df['Power_bhp'].isnull()), 'Power_bhp'] = 100\n",
    "\n",
    "df.loc[(df['Model'] == 'City 1.3 DX') & (df['Engine_CC'].isnull()), 'Engine_CC'] = 1497\n",
    "df.loc[(df['Model'] == 'City 1.3 DX') & (df['Power_bhp'].isnull()), 'Power_bhp'] = 100\n",
    "\n",
    "df.loc[(df['Model'] == 'CR-V AT With Sun Roof') & (df['Engine_CC'].isnull()), 'Engine_CC'] = 2354\n",
    "df.loc[(df['Model'] == 'CR-V AT With Sun Roof') & (df['Power_bhp'].isnull()), 'Power_bhp'] = 158.8\n",
    "\n",
    "df.loc[(df['Model'] == 'Jazz Select Edition') & (df['Engine_CC'].isnull()), 'Engine_CC'] = 1198\n",
    "df.loc[(df['Model'] == 'Jazz Select Edition') & (df['Power_bhp'].isnull()), 'Power_bhp'] = 90"
   ]
  },
  {
   "cell_type": "markdown",
   "id": "ee61e40b",
   "metadata": {},
   "source": [
    "##### Land Rover"
   ]
  },
  {
   "cell_type": "code",
   "execution_count": 56,
   "id": "cf846df5",
   "metadata": {},
   "outputs": [],
   "source": [
    "df.loc[(df['Model'] == 'Rover Range Rover 3.0 D') & (df['Engine_CC'].isnull()), 'Engine_CC'] = 2997\n",
    "df.loc[(df['Model'] == 'Rover Range Rover 3.0 D') & (df['Power_bhp'].isnull()), 'Power_bhp'] = 346\n",
    "\n",
    "df.loc[(df['Model'] == 'Rover Range Rover Sport 2005 2012 Sport') & (df['Engine_CC'].isnull()), 'Engine_CC'] = 3628\n",
    "df.loc[(df['Model'] == 'Rover Range Rover Sport 2005 2012 Sport') & (df['Power_bhp'].isnull()), 'Power_bhp'] = 369.86"
   ]
  },
  {
   "cell_type": "markdown",
   "id": "34270cc2",
   "metadata": {},
   "source": [
    "##### Hundai"
   ]
  },
  {
   "cell_type": "code",
   "execution_count": 57,
   "id": "ef01f6fc",
   "metadata": {},
   "outputs": [],
   "source": [
    "df.loc[(df['Model'] == 'Santro GLS II - Euro II') & (df['Engine_CC'].isnull()), 'Engine_CC'] = 1086\n",
    "df.loc[(df['Model'] == 'Santro GLS II - Euro II') & (df['Power_bhp'].isnull()), 'Power_bhp'] = 68.05\n",
    "\n",
    "df.loc[(df['Model'] == 'Santro LP zipPlus') & (df['Engine_CC'].isnull()), 'Engine_CC'] = 1086\n",
    "df.loc[(df['Model'] == 'Santro LP zipPlus') & (df['Power_bhp'].isnull()), 'Power_bhp'] = 68.05\n",
    "\n",
    "df.loc[(df['Model'] == 'Santro Xing XG') & (df['Engine_CC'].isnull()), 'Engine_CC'] = 1086\n",
    "df.loc[(df['Model'] == 'Santro Xing XG') & (df['Power_bhp'].isnull()), 'Power_bhp'] = 68.05\n",
    "\n",
    "df.loc[(df['Model'] == 'i20 new Sportz AT 1.4') & (df['Engine_CC'].isnull()), 'Engine_CC'] = 1396\n",
    "df.loc[(df['Model'] == 'i20 new Sportz AT 1.4') & (df['Power_bhp'].isnull()), 'Power_bhp'] = 89"
   ]
  },
  {
   "cell_type": "markdown",
   "id": "d4f222d5",
   "metadata": {},
   "source": [
    "##### Toyota"
   ]
  },
  {
   "cell_type": "code",
   "execution_count": 58,
   "id": "50d49690",
   "metadata": {},
   "outputs": [],
   "source": [
    "df.loc[(df['Model'] == 'Etios Liva V') & (df['Engine_CC'].isnull()), 'Engine_CC'] = 1197\n",
    "df.loc[(df['Model'] == 'Etios Liva V') & (df['Power_bhp'].isnull()), 'Power_bhp'] = 79\n",
    "\n",
    "df.loc[(df['Model'] == 'Etios Liva Diesel TRD Sportivo') & (df['Engine_CC'].isnull()), 'Engine_CC'] = 1197\n",
    "df.loc[(df['Model'] == 'Etios Liva Diesel TRD Sportivo') & (df['Power_bhp'].isnull()), 'Power_bhp'] = 79"
   ]
  },
  {
   "cell_type": "markdown",
   "id": "a13fe816",
   "metadata": {},
   "source": [
    "##### BMW"
   ]
  },
  {
   "cell_type": "code",
   "execution_count": 59,
   "id": "774e9f64",
   "metadata": {},
   "outputs": [],
   "source": [
    "df.loc[(df['Model'] == '5 Series 520d Sedan') & (df['Engine_CC'].isnull()), 'Engine_CC'] = 1750\n",
    "df.loc[(df['Model'] == '5 Series 520d Sedan') & (df['Power_bhp'].isnull()), 'Power_bhp'] = 184"
   ]
  },
  {
   "cell_type": "markdown",
   "id": "43a6c180",
   "metadata": {},
   "source": [
    "##### Fiat"
   ]
  },
  {
   "cell_type": "code",
   "execution_count": 60,
   "id": "b7c26233",
   "metadata": {},
   "outputs": [],
   "source": [
    "df.loc[(df['Model'] == 'Punto 1.3 Emotion') & (df['Engine_CC'].isnull()), 'Engine_CC'] = 1248\n",
    "df.loc[(df['Model'] == 'Punto 1.3 Emotion') & (df['Power_bhp'].isnull()), 'Power_bhp'] = 75\n",
    "\n",
    "df.loc[(df['Model'] == 'Punto 1.4 Emotion') & (df['Engine_CC'].isnull()), 'Engine_CC'] = 1368\n",
    "df.loc[(df['Model'] == 'Punto 1.4 Emotion') & (df['Power_bhp'].isnull()), 'Power_bhp'] = 89\n",
    "\n",
    "df.loc[(df['Model'] == 'Punto 1.2 Dynamic') & (df['Engine_CC'].isnull()), 'Engine_CC'] = 1172\n",
    "df.loc[(df['Model'] == 'Punto 1.2 Dynamic') & (df['Power_bhp'].isnull()), 'Power_bhp'] = 67"
   ]
  },
  {
   "cell_type": "markdown",
   "id": "4c491d82",
   "metadata": {},
   "source": [
    "##### Skoda"
   ]
  },
  {
   "cell_type": "code",
   "execution_count": 61,
   "id": "ac25ae4e",
   "metadata": {},
   "outputs": [],
   "source": [
    "df.loc[(df['Model'] == 'Laura 1.8 TSI Ambition') & (df['Engine_CC'].isnull()), 'Engine_CC'] = 1798\n",
    "df.loc[(df['Model'] == 'Laura 1.8 TSI Ambition') & (df['Power_bhp'].isnull()), 'Power_bhp'] = 158"
   ]
  },
  {
   "cell_type": "markdown",
   "id": "af552feb",
   "metadata": {},
   "source": [
    "##### Mahindra"
   ]
  },
  {
   "cell_type": "code",
   "execution_count": 62,
   "id": "a26607bf",
   "metadata": {},
   "outputs": [],
   "source": [
    "df.loc[(df['Model'] == 'TUV 300 P4') & (df['Engine_CC'].isnull()), 'Engine_CC'] = 2179\n",
    "df.loc[(df['Model'] == 'TUV 300 P4') & (df['Power_bhp'].isnull()), 'Power_bhp'] = 120"
   ]
  },
  {
   "cell_type": "code",
   "execution_count": 63,
   "id": "305fd0a0",
   "metadata": {},
   "outputs": [],
   "source": [
    "df['Engine_CC'] = df['Engine_CC'].astype(int)"
   ]
  },
  {
   "cell_type": "code",
   "execution_count": 64,
   "id": "227c75d5",
   "metadata": {},
   "outputs": [],
   "source": [
    "df['Power_bhp'] = df['Power_bhp'].replace({'null': np.nan})"
   ]
  },
  {
   "cell_type": "code",
   "execution_count": 65,
   "id": "a4d57f03",
   "metadata": {},
   "outputs": [],
   "source": [
    "df['Power_bhp'] = df['Power_bhp'].astype(float)"
   ]
  },
  {
   "cell_type": "code",
   "execution_count": 66,
   "id": "39779404",
   "metadata": {},
   "outputs": [
    {
     "data": {
      "text/plain": [
       "129"
      ]
     },
     "execution_count": 66,
     "metadata": {},
     "output_type": "execute_result"
    }
   ],
   "source": [
    "df['Power_bhp'].isnull().sum()"
   ]
  },
  {
   "cell_type": "code",
   "execution_count": 67,
   "id": "937cfe38",
   "metadata": {},
   "outputs": [
    {
     "data": {
      "image/png": "[encoded data removed]",
      "text/plain": [
       "<Figure size 640x480 with 1 Axes>"
      ]
     },
     "metadata": {},
     "output_type": "display_data"
    }
   ],
   "source": [
    "sns.scatterplot(data=df, x='Engine_CC', y='Power_bhp')\n",
    "plt.show()"
   ]
  },
  {
   "cell_type": "markdown",
   "id": "bf1f3775",
   "metadata": {},
   "source": [
    "## Note*: Engine_CC and Power_bhp both are linearly seperatable\n",
    "\n",
    "Using Linear Model to fill the null values"
   ]
  },
  {
   "cell_type": "code",
   "execution_count": 68,
   "id": "68007790",
   "metadata": {},
   "outputs": [],
   "source": [
    "non_nan_data = df.dropna(subset=['Power_bhp'])"
   ]
  },
  {
   "cell_type": "code",
   "execution_count": 69,
   "id": "9514f13e",
   "metadata": {},
   "outputs": [],
   "source": [
    "X_train_na = non_nan_data[['Engine_CC']]\n",
    "y_train_na = non_nan_data['Power_bhp']\n",
    "\n",
    "model = LinearRegression()\n",
    "model.fit(X_train_na, y_train_na)\n",
    "\n",
    "# Predict the power values for the rows with NaN values in the power column\n",
    "nan_data = df[df['Power_bhp'].isna()]\n",
    "X_test_na = nan_data[['Engine_CC']]\n",
    "predicted_na_values = model.predict(X_test_na)\n",
    "\n",
    "# Fill the NaN values in the original DataFrame\n",
    "df.loc[df['Power_bhp'].isna(), 'Power_bhp'] = predicted_na_values"
   ]
  },
  {
   "cell_type": "code",
   "execution_count": 70,
   "id": "0beea93e",
   "metadata": {},
   "outputs": [
    {
     "data": {
      "text/plain": [
       "Location                0\n",
       "Year                    0\n",
       "Kilometers_Driven       0\n",
       "Fuel_Type               0\n",
       "Transmission            0\n",
       "Owner_Type              0\n",
       "Seats                   0\n",
       "Price                1234\n",
       "Manufacture             0\n",
       "Model                   0\n",
       "Mileage_car             0\n",
       "Mileage_Units           0\n",
       "Engine_CC               0\n",
       "Power_bhp               0\n",
       "dtype: int64"
      ]
     },
     "execution_count": 70,
     "metadata": {},
     "output_type": "execute_result"
    }
   ],
   "source": [
    "df.isnull().sum()"
   ]
  },
  {
   "cell_type": "code",
   "execution_count": 71,
   "id": "dff3a615",
   "metadata": {},
   "outputs": [
    {
     "data": {
      "text/plain": [
       "Location              object\n",
       "Year                   int64\n",
       "Kilometers_Driven      int64\n",
       "Fuel_Type             object\n",
       "Transmission          object\n",
       "Owner_Type            object\n",
       "Seats                  int32\n",
       "Price                float64\n",
       "Manufacture           object\n",
       "Model                 object\n",
       "Mileage_car          float64\n",
       "Mileage_Units         object\n",
       "Engine_CC              int32\n",
       "Power_bhp            float64\n",
       "dtype: object"
      ]
     },
     "execution_count": 71,
     "metadata": {},
     "output_type": "execute_result"
    }
   ],
   "source": [
    "df.dtypes"
   ]
  },
  {
   "cell_type": "code",
   "execution_count": 72,
   "id": "21cca4dd",
   "metadata": {},
   "outputs": [
    {
     "data": {
      "text/plain": [
       "Index(['Location', 'Year', 'Kilometers_Driven', 'Fuel_Type', 'Transmission',\n",
       "       'Owner_Type', 'Seats', 'Price', 'Manufacture', 'Model', 'Mileage_car',\n",
       "       'Mileage_Units', 'Engine_CC', 'Power_bhp'],\n",
       "      dtype='object')"
      ]
     },
     "execution_count": 72,
     "metadata": {},
     "output_type": "execute_result"
    }
   ],
   "source": [
    "df.columns"
   ]
  },
  {
   "cell_type": "code",
   "execution_count": 73,
   "id": "6adaf376",
   "metadata": {},
   "outputs": [],
   "source": [
    "df = df.replace({np.nan: None})"
   ]
  },
  {
   "cell_type": "markdown",
   "id": "0ef06256",
   "metadata": {},
   "source": [
    "## Clean Data we are pusing to database with table name clean_data"
   ]
  },
  {
   "cell_type": "code",
   "execution_count": 74,
   "id": "e020fdea",
   "metadata": {},
   "outputs": [
    {
     "name": "stdout",
     "output_type": "stream",
     "text": [
      "You're connected to database:  ('used_car',)\n",
      "Creating table....\n",
      "Table is created....\n"
     ]
    }
   ],
   "source": [
    "try:\n",
    "    conn = mysql.connect(host='localhost', database='used_car', user='root', password='root')\n",
    "    if conn.is_connected():\n",
    "        cursor = conn.cursor()\n",
    "        cursor.execute(\"select database();\")\n",
    "        record = cursor.fetchone()\n",
    "        print(\"You're connected to database: \", record)\n",
    "        cursor.execute('DROP TABLE IF EXISTS cleaned_data;')\n",
    "        print('Creating table....')\n",
    "# in the below line please pass the create table statement which you want #to create\n",
    "        cursor.execute(\"CREATE TABLE cleaned_data(Location VARCHAR(255), Year YEAR, Kilometers_Driven INT, Fuel_Type VARCHAR(50), Transmission VARCHAR(50), Owner_Type VARCHAR(50), Seats INT, Price DECIMAL(10, 2), Manufacture VARCHAR(50), Model VARCHAR(255), Mileage_car DECIMAL(10, 2), Mileage_Units VARCHAR(50), Engine_CC INT, Power_bhp DECIMAL(10, 2))\")\n",
    "        print(\"Table is created....\")\n",
    "        #loop through the data frame\n",
    "        for i,row in df.iterrows():\n",
    "            #here %S means\n",
    "            # tips.tips_data\n",
    "            sql = \"INSERT INTO used_car.cleaned_data VALUES (%s,%s,%s,%s,%s,%s,%s,%s,%s,%s,%s,%s,%s,%s)\" # how many columns are there that many %s\n",
    "            cursor.execute(sql, tuple(row))\n",
    "            #print(\"Record inserted\")\n",
    "            # the connection is not auto committed by default, so we must commit to save our changes\n",
    "            conn.commit()\n",
    "except Error as e:\n",
    "            print(\"Error while connecting to MySQL\", e)"
   ]
  }
 ],
 "metadata": {
  "kernelspec": {
   "display_name": "Python 3 (ipykernel)",
   "language": "python",
   "name": "python3"
  },
  "language_info": {
   "codemirror_mode": {
    "name": "ipython",
    "version": 3
   },
   "file_extension": ".py",
   "mimetype": "text/x-python",
   "name": "python",
   "nbconvert_exporter": "python",
   "pygments_lexer": "ipython3",
   "version": "3.10.9"
  }
 },
 "nbformat": 4,
 "nbformat_minor": 5
}
